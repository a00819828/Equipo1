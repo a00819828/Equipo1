{
  "cells": [
    {
      "cell_type": "markdown",
      "metadata": {
        "id": "cPX-GEw4KWkW"
      },
      "source": [
        "# **Equipo 1**\n",
        "\n",
        "Yocelin Juárez Arroyo - A00819828\n",
        "\n",
        "Luis Arturo Dan Fong - A01650672\n",
        "\n",
        "Octavio Edelberto Reyes Torres - A00269987\n"
      ]
    },
    {
      "cell_type": "markdown",
      "metadata": {
        "id": "LVTHT8b42-j2"
      },
      "source": [
        "#Tener todo en un csv para trabajar desde aqui"
      ]
    },
    {
      "cell_type": "code",
      "execution_count": 11,
      "metadata": {
        "colab": {
          "base_uri": "https://localhost:8080/"
        },
        "id": "bvmc_XTS8bWH",
        "outputId": "95bbe9b3-a6fe-488b-ddb0-71725cb5d0f4"
      },
      "outputs": [
        {
          "output_type": "stream",
          "name": "stdout",
          "text": [
            "Drive already mounted at /content/drive; to attempt to forcibly remount, call drive.mount(\"/content/drive\", force_remount=True).\n"
          ]
        }
      ],
      "source": [
        "import warnings\n",
        "warnings.filterwarnings(\"ignore\")\n",
        "\n",
        "from google.colab import drive\n",
        "drive.mount('/content/drive')\n",
        "#folder_path = '/content/drive/My Drive/Proyecto Integrador/'\n",
        "#folder_path = '/content/drive/My Drive/Proyecto Integrador/colab/'\n",
        "\n",
        "#Octavio - Luis\n",
        "#folder_path = '/content/drive/My Drive/Proyecto Integrador/'\n",
        "\n",
        "#Yocelin (owner)\n",
        "folder_path = '/content/drive/My Drive/Proyecto Integrador/Proyecto Integrador/'\n",
        "\n",
        "import numpy as np\n",
        "import seaborn as sns\n",
        "import matplotlib.pyplot as plt\n",
        "from sklearn.preprocessing import StandardScaler, PowerTransformer, LabelEncoder\n",
        "from sklearn.decomposition import PCA\n",
        "from sklearn.cluster import KMeans\n",
        "import pandas as pd\n",
        "import gc"
      ]
    },
    {
      "cell_type": "code",
      "execution_count": 12,
      "metadata": {
        "id": "cV5mJPiv8eBF"
      },
      "outputs": [],
      "source": [
        "#Unir DF con una iniciativa Historia de éxito\n",
        "ruta_archivo =  folder_path + 'bases/df_unido_limpioLGD_versionModelo.csv'\n",
        "df_unidoLDG_encoded = pd.read_csv(ruta_archivo)"
      ]
    },
    {
      "cell_type": "code",
      "execution_count": 13,
      "metadata": {
        "colab": {
          "base_uri": "https://localhost:8080/",
          "height": 278
        },
        "id": "q83ym0VT7bGE",
        "outputId": "de000338-6aab-4ad9-e604-584222c1f24f"
      },
      "outputs": [
        {
          "output_type": "display_data",
          "data": {
            "text/plain": [
              "   categoria_dominio_correo_Educativo  categoria_dominio_correo_Genérico  \\\n",
              "0                               False                               True   \n",
              "1                               False                               True   \n",
              "2                               False                               True   \n",
              "3                               False                               True   \n",
              "4                               False                               True   \n",
              "\n",
              "   categoria_dominio_correo_Otros  base_SEXO_Femenino  base_SEXO_Masculino  \\\n",
              "0                           False               False                 True   \n",
              "1                           False               False                 True   \n",
              "2                           False               False                 True   \n",
              "3                           False               False                 True   \n",
              "4                           False               False                 True   \n",
              "\n",
              "   base_Tipo Escuela_Arquitectura y Diseño  \\\n",
              "0                                    False   \n",
              "1                                    False   \n",
              "2                                    False   \n",
              "3                                    False   \n",
              "4                                    False   \n",
              "\n",
              "   base_Tipo Escuela_Gobierno y Ciencias Sociales  \\\n",
              "0                                           False   \n",
              "1                                           False   \n",
              "2                                           False   \n",
              "3                                           False   \n",
              "4                                           False   \n",
              "\n",
              "   base_Tipo Escuela_Humanidades y Educación  \\\n",
              "0                                      False   \n",
              "1                                      False   \n",
              "2                                      False   \n",
              "3                                      False   \n",
              "4                                      False   \n",
              "\n",
              "   base_Tipo Escuela_Ingeniería y Ciencias  \\\n",
              "0                                    False   \n",
              "1                                    False   \n",
              "2                                    False   \n",
              "3                                    False   \n",
              "4                                    False   \n",
              "\n",
              "   base_Tipo Escuela_Medicina y Ciencias de la salud  \\\n",
              "0                                              False   \n",
              "1                                              False   \n",
              "2                                              False   \n",
              "3                                              False   \n",
              "4                                              False   \n",
              "\n",
              "   base_Tipo Escuela_Negocios  base_IDCAMPUS_   base_IDCAMPUS_1  \\\n",
              "0                        True            False            False   \n",
              "1                        True            False            False   \n",
              "2                        True            False            False   \n",
              "3                        True            False            False   \n",
              "4                        True            False            False   \n",
              "\n",
              "   base_IDCAMPUS_2  base_IDCAMPUS_8  base_IDCAMPUS_A  base_IDCAMPUS_A1  \\\n",
              "0            False            False             True             False   \n",
              "1            False            False             True             False   \n",
              "2            False            False            False             False   \n",
              "3            False            False            False             False   \n",
              "4            False            False            False             False   \n",
              "\n",
              "   base_IDCAMPUS_AA  base_IDCAMPUS_C  base_IDCAMPUS_D  base_IDCAMPUS_E  \\\n",
              "0             False            False            False            False   \n",
              "1             False            False            False            False   \n",
              "2             False            False            False            False   \n",
              "3             False            False            False            False   \n",
              "4             False            False            False            False   \n",
              "\n",
              "   base_IDCAMPUS_F  base_IDCAMPUS_G  base_IDCAMPUS_G1  base_IDCAMPUS_GA  \\\n",
              "0            False            False             False             False   \n",
              "1            False            False             False             False   \n",
              "2            False            False             False             False   \n",
              "3            False            False             False             False   \n",
              "4            False            False             False             False   \n",
              "\n",
              "   base_IDCAMPUS_GQ  base_IDCAMPUS_GS  base_IDCAMPUS_H  base_IDCAMPUS_I  \\\n",
              "0             False             False            False            False   \n",
              "1             False             False            False            False   \n",
              "2             False             False            False            False   \n",
              "3             False             False            False            False   \n",
              "4             False             False            False            False   \n",
              "\n",
              "   base_IDCAMPUS_J  base_IDCAMPUS_K  base_IDCAMPUS_L  base_IDCAMPUS_M  \\\n",
              "0            False            False            False            False   \n",
              "1            False            False            False            False   \n",
              "2            False            False            False            False   \n",
              "3            False            False            False            False   \n",
              "4            False            False            False            False   \n",
              "\n",
              "   base_IDCAMPUS_N  base_IDCAMPUS_O  base_IDCAMPUS_P  base_IDCAMPUS_PUE  \\\n",
              "0            False            False            False              False   \n",
              "1            False            False            False              False   \n",
              "2            False            False            False              False   \n",
              "3            False            False            False              False   \n",
              "4            False            False            False              False   \n",
              "\n",
              "   base_IDCAMPUS_Q  base_IDCAMPUS_R  base_IDCAMPUS_S  base_IDCAMPUS_T  \\\n",
              "0            False            False            False            False   \n",
              "1            False            False            False            False   \n",
              "2             True            False            False            False   \n",
              "3             True            False            False            False   \n",
              "4             True            False            False            False   \n",
              "\n",
              "   base_IDCAMPUS_U  base_IDCAMPUS_W  base_IDCAMPUS_X  base_IDCAMPUS_Y  \\\n",
              "0            False            False            False            False   \n",
              "1            False            False            False            False   \n",
              "2            False            False            False            False   \n",
              "3            False            False            False            False   \n",
              "4            False            False            False            False   \n",
              "\n",
              "   base_IDCAMPUS_Z  base_campusoperación_Aguascalientes  \\\n",
              "0            False                                False   \n",
              "1            False                                False   \n",
              "2            False                                False   \n",
              "3            False                                False   \n",
              "4            False                                False   \n",
              "\n",
              "   base_campusoperación_Chiapas  base_campusoperación_Chihuahua  \\\n",
              "0                         False                           False   \n",
              "1                         False                           False   \n",
              "2                         False                           False   \n",
              "3                         False                           False   \n",
              "4                         False                           False   \n",
              "\n",
              "   base_campusoperación_Ciudad Juárez  base_campusoperación_Ciudad Obregón  \\\n",
              "0                               False                                False   \n",
              "1                               False                                False   \n",
              "2                               False                                False   \n",
              "3                               False                                False   \n",
              "4                               False                                False   \n",
              "\n",
              "   base_campusoperación_Ciudad de México  base_campusoperación_Cuernavaca  \\\n",
              "0                                  False                            False   \n",
              "1                                  False                            False   \n",
              "2                                   True                            False   \n",
              "3                                   True                            False   \n",
              "4                                   True                            False   \n",
              "\n",
              "   base_campusoperación_EGADE  \\\n",
              "0                       False   \n",
              "1                       False   \n",
              "2                       False   \n",
              "3                       False   \n",
              "4                       False   \n",
              "\n",
              "   base_campusoperación_Escuela de Gobierno y Transformación Pública  \\\n",
              "0                                              False                   \n",
              "1                                              False                   \n",
              "2                                              False                   \n",
              "3                                              False                   \n",
              "4                                              False                   \n",
              "\n",
              "   base_campusoperación_Estado de México  base_campusoperación_Guadalajara  \\\n",
              "0                                  False                             False   \n",
              "1                                  False                             False   \n",
              "2                                  False                             False   \n",
              "3                                  False                             False   \n",
              "4                                  False                             False   \n",
              "\n",
              "   base_campusoperación_Guaymas  base_campusoperación_Hidalgo  \\\n",
              "0                         False                         False   \n",
              "1                         False                         False   \n",
              "2                         False                         False   \n",
              "3                         False                         False   \n",
              "4                         False                         False   \n",
              "\n",
              "   base_campusoperación_Irapuato  base_campusoperación_Laguna  \\\n",
              "0                          False                        False   \n",
              "1                          False                        False   \n",
              "2                          False                        False   \n",
              "3                          False                        False   \n",
              "4                          False                        False   \n",
              "\n",
              "   base_campusoperación_León  base_campusoperación_Mazatlán  \\\n",
              "0                      False                          False   \n",
              "1                      False                          False   \n",
              "2                      False                          False   \n",
              "3                      False                          False   \n",
              "4                      False                          False   \n",
              "\n",
              "   base_campusoperación_Monterrey  base_campusoperación_Morelia  \\\n",
              "0                            True                         False   \n",
              "1                            True                         False   \n",
              "2                           False                         False   \n",
              "3                           False                         False   \n",
              "4                           False                         False   \n",
              "\n",
              "   base_campusoperación_Programas en Línea  base_campusoperación_Puebla  \\\n",
              "0                                    False                        False   \n",
              "1                                    False                        False   \n",
              "2                                    False                        False   \n",
              "3                                    False                        False   \n",
              "4                                    False                        False   \n",
              "\n",
              "   base_campusoperación_Querétaro  base_campusoperación_Saltillo  \\\n",
              "0                           False                          False   \n",
              "1                           False                          False   \n",
              "2                           False                          False   \n",
              "3                           False                          False   \n",
              "4                           False                          False   \n",
              "\n",
              "   base_campusoperación_San Luis Potosí  base_campusoperación_Santa Fe  \\\n",
              "0                                 False                          False   \n",
              "1                                 False                          False   \n",
              "2                                 False                          False   \n",
              "3                                 False                          False   \n",
              "4                                 False                          False   \n",
              "\n",
              "   base_campusoperación_Sede EGADE Monterrey  base_campusoperación_Sinaloa  \\\n",
              "0                                      False                         False   \n",
              "1                                      False                         False   \n",
              "2                                      False                         False   \n",
              "3                                      False                         False   \n",
              "4                                      False                         False   \n",
              "\n",
              "   base_campusoperación_Sonora Norte  base_campusoperación_Tampico  \\\n",
              "0                              False                         False   \n",
              "1                              False                         False   \n",
              "2                              False                         False   \n",
              "3                              False                         False   \n",
              "4                              False                         False   \n",
              "\n",
              "   base_campusoperación_Toluca  base_campusoperación_Veracruz  \\\n",
              "0                        False                          False   \n",
              "1                        False                          False   \n",
              "2                        False                          False   \n",
              "3                        False                          False   \n",
              "4                        False                          False   \n",
              "\n",
              "   base_campusoperación_Zacatecas  base_GIROEMPRESA_   \\\n",
              "0                           False               False   \n",
              "1                           False               False   \n",
              "2                           False               False   \n",
              "3                           False               False   \n",
              "4                           False               False   \n",
              "\n",
              "   base_GIROEMPRESA_Administración   \\\n",
              "0                             False   \n",
              "1                             False   \n",
              "2                             False   \n",
              "3                             False   \n",
              "4                             False   \n",
              "\n",
              "   base_GIROEMPRESA_Administración de Proyectos  base_GIROEMPRESA_Agrícola  \\\n",
              "0                                         False                      False   \n",
              "1                                         False                      False   \n",
              "2                                         False                      False   \n",
              "3                                         False                      False   \n",
              "4                                         False                      False   \n",
              "\n",
              "   base_GIROEMPRESA_Alimentos (Comercializador)  \\\n",
              "0                                         False   \n",
              "1                                         False   \n",
              "2                                         False   \n",
              "3                                         False   \n",
              "4                                         False   \n",
              "\n",
              "   base_GIROEMPRESA_Alimentos (Productos/Procesamiento)  \\\n",
              "0                                              False      \n",
              "1                                              False      \n",
              "2                                              False      \n",
              "3                                              False      \n",
              "4                                              False      \n",
              "\n",
              "   base_GIROEMPRESA_Artesanal  base_GIROEMPRESA_Aseguradora  \\\n",
              "0                       False                         False   \n",
              "1                       False                         False   \n",
              "2                       False                         False   \n",
              "3                       False                         False   \n",
              "4                       False                         False   \n",
              "\n",
              "   base_GIROEMPRESA_Automotriz  base_GIROEMPRESA_Bienes Raíces  \\\n",
              "0                        False                           False   \n",
              "1                        False                           False   \n",
              "2                        False                           False   \n",
              "3                        False                           False   \n",
              "4                        False                           False   \n",
              "\n",
              "   base_GIROEMPRESA_Boutiques  base_GIROEMPRESA_Comercializadora  \\\n",
              "0                       False                              False   \n",
              "1                       False                              False   \n",
              "2                       False                              False   \n",
              "3                       False                              False   \n",
              "4                       False                              False   \n",
              "\n",
              "   base_GIROEMPRESA_Comunicación  base_GIROEMPRESA_Construcción  \\\n",
              "0                          False                          False   \n",
              "1                          False                          False   \n",
              "2                          False                          False   \n",
              "3                          False                          False   \n",
              "4                          False                          False   \n",
              "\n",
              "   base_GIROEMPRESA_Consultoría  base_GIROEMPRESA_Contabilidad  \\\n",
              "0                         False                          False   \n",
              "1                         False                          False   \n",
              "2                          True                          False   \n",
              "3                          True                          False   \n",
              "4                          True                          False   \n",
              "\n",
              "   base_GIROEMPRESA_Cómputo (Consultoría / Capacitación)  \\\n",
              "0                                              False       \n",
              "1                                              False       \n",
              "2                                              False       \n",
              "3                                              False       \n",
              "4                                              False       \n",
              "\n",
              "   base_GIROEMPRESA_Cómputo (Desarrollo de software)  \\\n",
              "0                                              False   \n",
              "1                                              False   \n",
              "2                                              False   \n",
              "3                                              False   \n",
              "4                                              False   \n",
              "\n",
              "   base_GIROEMPRESA_Cómputo (Manufactura, Hardware)  \\\n",
              "0                                             False   \n",
              "1                                             False   \n",
              "2                                             False   \n",
              "3                                             False   \n",
              "4                                             False   \n",
              "\n",
              "   base_GIROEMPRESA_De Servicios  base_GIROEMPRESA_Decoración  \\\n",
              "0                          False                        False   \n",
              "1                          False                        False   \n",
              "2                          False                        False   \n",
              "3                          False                        False   \n",
              "4                          False                        False   \n",
              "\n",
              "   base_GIROEMPRESA_Dirección  base_GIROEMPRESA_Diseño Grafico  \\\n",
              "0                       False                            False   \n",
              "1                       False                            False   \n",
              "2                       False                            False   \n",
              "3                       False                            False   \n",
              "4                       False                            False   \n",
              "\n",
              "   base_GIROEMPRESA_Editoriales  base_GIROEMPRESA_Educación  \\\n",
              "0                         False                        True   \n",
              "1                         False                        True   \n",
              "2                         False                       False   \n",
              "3                         False                       False   \n",
              "4                         False                       False   \n",
              "\n",
              "   base_GIROEMPRESA_Entretenimiento  \\\n",
              "0                             False   \n",
              "1                             False   \n",
              "2                             False   \n",
              "3                             False   \n",
              "4                             False   \n",
              "\n",
              "   base_GIROEMPRESA_Estética / Productos de Belleza / Perfumería  \\\n",
              "0                                              False               \n",
              "1                                              False               \n",
              "2                                              False               \n",
              "3                                              False               \n",
              "4                                              False               \n",
              "\n",
              "   base_GIROEMPRESA_Explotación de Recursos Naturales  \\\n",
              "0                                              False    \n",
              "1                                              False    \n",
              "2                                              False    \n",
              "3                                              False    \n",
              "4                                              False    \n",
              "\n",
              "   base_GIROEMPRESA_Farmacéutica  base_GIROEMPRESA_Financiera  \\\n",
              "0                          False                        False   \n",
              "1                          False                        False   \n",
              "2                          False                        False   \n",
              "3                          False                        False   \n",
              "4                          False                        False   \n",
              "\n",
              "   base_GIROEMPRESA_Finanzas   base_GIROEMPRESA_Ganadería / Caza  \\\n",
              "0                       False                              False   \n",
              "1                       False                              False   \n",
              "2                       False                              False   \n",
              "3                       False                              False   \n",
              "4                       False                              False   \n",
              "\n",
              "   base_GIROEMPRESA_Gobierno (Federal, Estatal y Municipal)  \\\n",
              "0                                              False          \n",
              "1                                              False          \n",
              "2                                              False          \n",
              "3                                              False          \n",
              "4                                              False          \n",
              "\n",
              "   base_GIROEMPRESA_Hoteleria y turismo  base_GIROEMPRESA_Imprenta  \\\n",
              "0                                 False                      False   \n",
              "1                                 False                      False   \n",
              "2                                 False                      False   \n",
              "3                                 False                      False   \n",
              "4                                 False                      False   \n",
              "\n",
              "   base_GIROEMPRESA_Industrias Diversas  base_GIROEMPRESA_Información  \\\n",
              "0                                 False                         False   \n",
              "1                                 False                         False   \n",
              "2                                 False                         False   \n",
              "3                                 False                         False   \n",
              "4                                 False                         False   \n",
              "\n",
              "   base_GIROEMPRESA_Innovación  base_GIROEMPRESA_Investigación  \\\n",
              "0                        False                           False   \n",
              "1                        False                           False   \n",
              "2                        False                           False   \n",
              "3                        False                           False   \n",
              "4                        False                           False   \n",
              "\n",
              "   base_GIROEMPRESA_Logística  base_GIROEMPRESA_Manufacturera/ Maquiladora  \\\n",
              "0                       False                                        False   \n",
              "1                       False                                        False   \n",
              "2                       False                                        False   \n",
              "3                       False                                        False   \n",
              "4                       False                                        False   \n",
              "\n",
              "   base_GIROEMPRESA_Medicina / Salud  base_GIROEMPRESA_Medios de Comunicación  \\\n",
              "0                              False                                    False   \n",
              "1                              False                                    False   \n",
              "2                              False                                    False   \n",
              "3                              False                                    False   \n",
              "4                              False                                    False   \n",
              "\n",
              "   base_GIROEMPRESA_Mercadotecnia  base_GIROEMPRESA_Metal Mecánico  \\\n",
              "0                           False                            False   \n",
              "1                           False                            False   \n",
              "2                           False                            False   \n",
              "3                           False                            False   \n",
              "4                           False                            False   \n",
              "\n",
              "   base_GIROEMPRESA_Minería / Extracción  base_GIROEMPRESA_Mueblero  \\\n",
              "0                                  False                      False   \n",
              "1                                  False                      False   \n",
              "2                                  False                      False   \n",
              "3                                  False                      False   \n",
              "4                                  False                      False   \n",
              "\n",
              "   base_GIROEMPRESA_No aplica  base_GIROEMPRESA_Otro  \\\n",
              "0                       False                  False   \n",
              "1                       False                  False   \n",
              "2                       False                  False   \n",
              "3                       False                  False   \n",
              "4                       False                  False   \n",
              "\n",
              "   base_GIROEMPRESA_Plástico / Hule  \\\n",
              "0                             False   \n",
              "1                             False   \n",
              "2                             False   \n",
              "3                             False   \n",
              "4                             False   \n",
              "\n",
              "   base_GIROEMPRESA_Producción y operaciones  base_GIROEMPRESA_Publicidad  \\\n",
              "0                                      False                        False   \n",
              "1                                      False                        False   \n",
              "2                                      False                        False   \n",
              "3                                      False                        False   \n",
              "4                                      False                        False   \n",
              "\n",
              "   base_GIROEMPRESA_Químico  base_GIROEMPRESA_Recursos humanos  \\\n",
              "0                     False                              False   \n",
              "1                     False                              False   \n",
              "2                     False                              False   \n",
              "3                     False                              False   \n",
              "4                     False                              False   \n",
              "\n",
              "   base_GIROEMPRESA_Relaciones Públicas  \\\n",
              "0                                 False   \n",
              "1                                 False   \n",
              "2                                 False   \n",
              "3                                 False   \n",
              "4                                 False   \n",
              "\n",
              "   base_GIROEMPRESA_Responsabilidad Social  \\\n",
              "0                                    False   \n",
              "1                                    False   \n",
              "2                                    False   \n",
              "3                                    False   \n",
              "4                                    False   \n",
              "\n",
              "   base_GIROEMPRESA_Restaurante / Bar  base_GIROEMPRESA_Seguros  \\\n",
              "0                               False                     False   \n",
              "1                               False                     False   \n",
              "2                               False                     False   \n",
              "3                               False                     False   \n",
              "4                               False                     False   \n",
              "\n",
              "   base_GIROEMPRESA_Servicio al Cliente  \\\n",
              "0                                 False   \n",
              "1                                 False   \n",
              "2                                 False   \n",
              "3                                 False   \n",
              "4                                 False   \n",
              "\n",
              "   base_GIROEMPRESA_Servicios Públicos (Gas, Agua, Electricidad)  \\\n",
              "0                                              False               \n",
              "1                                              False               \n",
              "2                                              False               \n",
              "3                                              False               \n",
              "4                                              False               \n",
              "\n",
              "   base_GIROEMPRESA_Tecnología  base_GIROEMPRESA_Telecomunicaciones  \\\n",
              "0                        False                                False   \n",
              "1                        False                                False   \n",
              "2                        False                                False   \n",
              "3                        False                                False   \n",
              "4                        False                                False   \n",
              "\n",
              "   base_GIROEMPRESA_Textil  base_GIROEMPRESA_Transportes / Distribución  \\\n",
              "0                    False                                        False   \n",
              "1                    False                                        False   \n",
              "2                    False                                        False   \n",
              "3                    False                                        False   \n",
              "4                    False                                        False   \n",
              "\n",
              "   base_GIROEMPRESA_Ventas - Comercial  base_GIROEMPRESA_Ventas Multinivel  \\\n",
              "0                                False                               False   \n",
              "1                                False                               False   \n",
              "2                                False                               False   \n",
              "3                                False                               False   \n",
              "4                                False                               False   \n",
              "\n",
              "   base_GIROEMPRESA_Vidrio  base_TIPOEMPRESA_Extranjera  \\\n",
              "0                    False                        False   \n",
              "1                    False                        False   \n",
              "2                    False                        False   \n",
              "3                    False                        False   \n",
              "4                    False                        False   \n",
              "\n",
              "   base_TIPOEMPRESA_Franquicia extranjera  base_TIPOEMPRESA_Mexicana  \\\n",
              "0                                   False                       True   \n",
              "1                                   False                       True   \n",
              "2                                   False                       True   \n",
              "3                                   False                       True   \n",
              "4                                   False                       True   \n",
              "\n",
              "   base_TIPOEMPRESA_Transnacional en México  \\\n",
              "0                                     False   \n",
              "1                                     False   \n",
              "2                                     False   \n",
              "3                                     False   \n",
              "4                                     False   \n",
              "\n",
              "   base_AREAORGANIZACIONAL_Administración   \\\n",
              "0                                    False   \n",
              "1                                    False   \n",
              "2                                    False   \n",
              "3                                    False   \n",
              "4                                    False   \n",
              "\n",
              "   base_AREAORGANIZACIONAL_Administración de Proyectos  \\\n",
              "0                                              False     \n",
              "1                                              False     \n",
              "2                                              False     \n",
              "3                                              False     \n",
              "4                                              False     \n",
              "\n",
              "   base_AREAORGANIZACIONAL_Administración general  \\\n",
              "0                                           False   \n",
              "1                                           False   \n",
              "2                                           False   \n",
              "3                                           False   \n",
              "4                                           False   \n",
              "\n",
              "   base_AREAORGANIZACIONAL_Calidad  base_AREAORGANIZACIONAL_Compras  \\\n",
              "0                            False                            False   \n",
              "1                            False                            False   \n",
              "2                            False                            False   \n",
              "3                            False                            False   \n",
              "4                            False                            False   \n",
              "\n",
              "   base_AREAORGANIZACIONAL_Comunicación  base_AREAORGANIZACIONAL_Consultoría  \\\n",
              "0                                 False                                False   \n",
              "1                                 False                                False   \n",
              "2                                 False                                 True   \n",
              "3                                 False                                 True   \n",
              "4                                 False                                 True   \n",
              "\n",
              "   base_AREAORGANIZACIONAL_Contabilidad  base_AREAORGANIZACIONAL_Dirección  \\\n",
              "0                                 False                              False   \n",
              "1                                 False                              False   \n",
              "2                                 False                              False   \n",
              "3                                 False                              False   \n",
              "4                                 False                              False   \n",
              "\n",
              "   base_AREAORGANIZACIONAL_Diseño de nuevos productos  \\\n",
              "0                                              False    \n",
              "1                                              False    \n",
              "2                                              False    \n",
              "3                                              False    \n",
              "4                                              False    \n",
              "\n",
              "   base_AREAORGANIZACIONAL_Educación  base_AREAORGANIZACIONAL_Finanzas   \\\n",
              "0                               True                              False   \n",
              "1                               True                              False   \n",
              "2                              False                              False   \n",
              "3                              False                              False   \n",
              "4                              False                              False   \n",
              "\n",
              "   base_AREAORGANIZACIONAL_Finanzas / Contabilidad / Auditoría / Tesorería  \\\n",
              "0                                              False                         \n",
              "1                                              False                         \n",
              "2                                              False                         \n",
              "3                                              False                         \n",
              "4                                              False                         \n",
              "\n",
              "   base_AREAORGANIZACIONAL_Informática  base_AREAORGANIZACIONAL_Innovación  \\\n",
              "0                                False                               False   \n",
              "1                                False                               False   \n",
              "2                                False                               False   \n",
              "3                                False                               False   \n",
              "4                                False                               False   \n",
              "\n",
              "   base_AREAORGANIZACIONAL_Investigación y Docencia  \\\n",
              "0                                             False   \n",
              "1                                             False   \n",
              "2                                             False   \n",
              "3                                             False   \n",
              "4                                             False   \n",
              "\n",
              "   base_AREAORGANIZACIONAL_Logística/Operaciones  \\\n",
              "0                                          False   \n",
              "1                                          False   \n",
              "2                                          False   \n",
              "3                                          False   \n",
              "4                                          False   \n",
              "\n",
              "   base_AREAORGANIZACIONAL_Mercadotecnia  \\\n",
              "0                                  False   \n",
              "1                                  False   \n",
              "2                                  False   \n",
              "3                                  False   \n",
              "4                                  False   \n",
              "\n",
              "   base_AREAORGANIZACIONAL_Mercadotecnia / Ventas  \\\n",
              "0                                           False   \n",
              "1                                           False   \n",
              "2                                           False   \n",
              "3                                           False   \n",
              "4                                           False   \n",
              "\n",
              "   base_AREAORGANIZACIONAL_No aplica  base_AREAORGANIZACIONAL_Otra  \\\n",
              "0                              False                         False   \n",
              "1                              False                         False   \n",
              "2                              False                         False   \n",
              "3                              False                         False   \n",
              "4                              False                         False   \n",
              "\n",
              "   base_AREAORGANIZACIONAL_Planeación  base_AREAORGANIZACIONAL_Producción  \\\n",
              "0                               False                               False   \n",
              "1                               False                               False   \n",
              "2                               False                               False   \n",
              "3                               False                               False   \n",
              "4                               False                               False   \n",
              "\n",
              "   base_AREAORGANIZACIONAL_Producción y operaciones  \\\n",
              "0                                             False   \n",
              "1                                             False   \n",
              "2                                             False   \n",
              "3                                             False   \n",
              "4                                             False   \n",
              "\n",
              "   base_AREAORGANIZACIONAL_Recursos Humanos  \\\n",
              "0                                     False   \n",
              "1                                     False   \n",
              "2                                     False   \n",
              "3                                     False   \n",
              "4                                     False   \n",
              "\n",
              "   base_AREAORGANIZACIONAL_Recursos humanos  \\\n",
              "0                                     False   \n",
              "1                                     False   \n",
              "2                                     False   \n",
              "3                                     False   \n",
              "4                                     False   \n",
              "\n",
              "   base_AREAORGANIZACIONAL_Responsabilidad Social  \\\n",
              "0                                           False   \n",
              "1                                           False   \n",
              "2                                           False   \n",
              "3                                           False   \n",
              "4                                           False   \n",
              "\n",
              "   base_AREAORGANIZACIONAL_Servicio al Cliente  \\\n",
              "0                                        False   \n",
              "1                                        False   \n",
              "2                                        False   \n",
              "3                                        False   \n",
              "4                                        False   \n",
              "\n",
              "   base_AREAORGANIZACIONAL_Tecnología  \\\n",
              "0                               False   \n",
              "1                               False   \n",
              "2                               False   \n",
              "3                               False   \n",
              "4                               False   \n",
              "\n",
              "   base_AREAORGANIZACIONAL_Ventas - Comercial  base_ESTATUSEMPLEO_A  \\\n",
              "0                                       False                 False   \n",
              "1                                       False                 False   \n",
              "2                                       False                  True   \n",
              "3                                       False                  True   \n",
              "4                                       False                  True   \n",
              "\n",
              "   base_ESTATUSEMPLEO_I  evento_Campus_-  \\\n",
              "0                  True            False   \n",
              "1                  True            False   \n",
              "2                 False            False   \n",
              "3                 False            False   \n",
              "4                 False            False   \n",
              "\n",
              "   evento_Campus_Escuela de Gobierno y Transformación Pública  \\\n",
              "0                                              False            \n",
              "1                                              False            \n",
              "2                                              False            \n",
              "3                                              False            \n",
              "4                                              False            \n",
              "\n",
              "   evento_Campus_Oficina Central  evento_Campus_TEC Campus Aguascalientes  \\\n",
              "0                          False                                    False   \n",
              "1                          False                                    False   \n",
              "2                          False                                    False   \n",
              "3                          False                                    False   \n",
              "4                          False                                    False   \n",
              "\n",
              "   evento_Campus_TEC Campus Chiapas  evento_Campus_TEC Campus Chihuahua  \\\n",
              "0                             False                               False   \n",
              "1                             False                               False   \n",
              "2                             False                               False   \n",
              "3                             False                               False   \n",
              "4                             False                               False   \n",
              "\n",
              "   evento_Campus_TEC Campus Ciudad Juárez  \\\n",
              "0                                   False   \n",
              "1                                   False   \n",
              "2                                   False   \n",
              "3                                   False   \n",
              "4                                   False   \n",
              "\n",
              "   evento_Campus_TEC Campus Ciudad Obregón  \\\n",
              "0                                    False   \n",
              "1                                    False   \n",
              "2                                    False   \n",
              "3                                    False   \n",
              "4                                    False   \n",
              "\n",
              "   evento_Campus_TEC Campus Ciudad de México  \\\n",
              "0                                      False   \n",
              "1                                      False   \n",
              "2                                      False   \n",
              "3                                      False   \n",
              "4                                      False   \n",
              "\n",
              "   evento_Campus_TEC Campus Cuernavaca  \\\n",
              "0                                False   \n",
              "1                                False   \n",
              "2                                False   \n",
              "3                                False   \n",
              "4                                False   \n",
              "\n",
              "   evento_Campus_TEC Campus EGADE Monterrey  \\\n",
              "0                                     False   \n",
              "1                                     False   \n",
              "2                                     False   \n",
              "3                                     False   \n",
              "4                                     False   \n",
              "\n",
              "   evento_Campus_TEC Campus Escuela de Gobierno, Cd Mexico  \\\n",
              "0                                              False         \n",
              "1                                              False         \n",
              "2                                              False         \n",
              "3                                              False         \n",
              "4                                              False         \n",
              "\n",
              "   evento_Campus_TEC Campus Escuela de Gobierno, Monterrey  \\\n",
              "0                                              False         \n",
              "1                                              False         \n",
              "2                                              False         \n",
              "3                                              False         \n",
              "4                                              False         \n",
              "\n",
              "   evento_Campus_TEC Campus Estado de México  \\\n",
              "0                                      False   \n",
              "1                                      False   \n",
              "2                                      False   \n",
              "3                                      False   \n",
              "4                                      False   \n",
              "\n",
              "   evento_Campus_TEC Campus Guadalajara  evento_Campus_TEC Campus Hidalgo  \\\n",
              "0                                 False                             False   \n",
              "1                                 False                             False   \n",
              "2                                 False                             False   \n",
              "3                                 False                             False   \n",
              "4                                 False                             False   \n",
              "\n",
              "   evento_Campus_TEC Campus Irapuato  evento_Campus_TEC Campus Laguna  \\\n",
              "0                              False                            False   \n",
              "1                              False                            False   \n",
              "2                              False                            False   \n",
              "3                              False                            False   \n",
              "4                              False                            False   \n",
              "\n",
              "   evento_Campus_TEC Campus León  evento_Campus_TEC Campus Monterrey  \\\n",
              "0                          False                                True   \n",
              "1                          False                                True   \n",
              "2                          False                                True   \n",
              "3                          False                                True   \n",
              "4                          False                                True   \n",
              "\n",
              "   evento_Campus_TEC Campus Morelia  evento_Campus_TEC Campus Nacional  \\\n",
              "0                             False                              False   \n",
              "1                             False                              False   \n",
              "2                             False                              False   \n",
              "3                             False                              False   \n",
              "4                             False                              False   \n",
              "\n",
              "   evento_Campus_TEC Campus Puebla  evento_Campus_TEC Campus Querétaro  \\\n",
              "0                            False                               False   \n",
              "1                            False                               False   \n",
              "2                            False                               False   \n",
              "3                            False                               False   \n",
              "4                            False                               False   \n",
              "\n",
              "   evento_Campus_TEC Campus Saltillo  \\\n",
              "0                              False   \n",
              "1                              False   \n",
              "2                              False   \n",
              "3                              False   \n",
              "4                              False   \n",
              "\n",
              "   evento_Campus_TEC Campus San Luis Potosí  \\\n",
              "0                                     False   \n",
              "1                                     False   \n",
              "2                                     False   \n",
              "3                                     False   \n",
              "4                                     False   \n",
              "\n",
              "   evento_Campus_TEC Campus Santa Fe  evento_Campus_TEC Campus Sinaloa  \\\n",
              "0                              False                             False   \n",
              "1                              False                             False   \n",
              "2                              False                             False   \n",
              "3                              False                             False   \n",
              "4                              False                             False   \n",
              "\n",
              "   evento_Campus_TEC Campus Sonora Norte  evento_Campus_TEC Campus Tampico  \\\n",
              "0                                  False                             False   \n",
              "1                                  False                             False   \n",
              "2                                  False                             False   \n",
              "3                                  False                             False   \n",
              "4                                  False                             False   \n",
              "\n",
              "   evento_Campus_TEC Campus Toluca  evento_Campus_TEC Campus Zacatecas  \\\n",
              "0                            False                               False   \n",
              "1                            False                               False   \n",
              "2                            False                               False   \n",
              "3                            False                               False   \n",
              "4                            False                               False   \n",
              "\n",
              "   evento_Campus_TEC EGADE  evento_Campus_TEC EGOB  \\\n",
              "0                    False                   False   \n",
              "1                    False                   False   \n",
              "2                    False                   False   \n",
              "3                    False                   False   \n",
              "4                    False                   False   \n",
              "\n",
              "   evento_Campus_TEC Escuela de Gobierno, E.México  \\\n",
              "0                                            False   \n",
              "1                                            False   \n",
              "2                                            False   \n",
              "3                                            False   \n",
              "4                                            False   \n",
              "\n",
              "   evento_Campus_TEC Sede EGADE Santa Fe  \\\n",
              "0                                  False   \n",
              "1                                  False   \n",
              "2                                  False   \n",
              "3                                  False   \n",
              "4                                  False   \n",
              "\n",
              "   evento_Campus_Tecnológico de Monterrey Campus Monterrey  \\\n",
              "0                                              False         \n",
              "1                                              False         \n",
              "2                                              False         \n",
              "3                                              False         \n",
              "4                                              False         \n",
              "\n",
              "   evento_CheckedIn_False  evento_CheckedIn_True  \\\n",
              "0                    True                  False   \n",
              "1                    True                  False   \n",
              "2                    True                  False   \n",
              "3                    True                  False   \n",
              "4                    True                  False   \n",
              "\n",
              "   evento_attendeeStatus_Accepted  evento_attendeeStatus_Cancelled  \\\n",
              "0                           False                            False   \n",
              "1                           False                            False   \n",
              "2                            True                            False   \n",
              "3                            True                            False   \n",
              "4                            True                            False   \n",
              "\n",
              "   evento_attendeeStatus_Invited  evento_attendeeStatus_Registered  \\\n",
              "0                          False                              True   \n",
              "1                          False                              True   \n",
              "2                          False                             False   \n",
              "3                          False                             False   \n",
              "4                          False                             False   \n",
              "\n",
              "   evento_attendeeStatus_Sin Estado  \\\n",
              "0                             False   \n",
              "1                             False   \n",
              "2                             False   \n",
              "3                             False   \n",
              "4                             False   \n",
              "\n",
              "   base_ESTADO_RESIDENCIA_agrupado_Nuevo León  \\\n",
              "0                                        True   \n",
              "1                                        True   \n",
              "2                                       False   \n",
              "3                                       False   \n",
              "4                                       False   \n",
              "\n",
              "   base_ESTADO_RESIDENCIA_agrupado_Otros  \\\n",
              "0                                  False   \n",
              "1                                  False   \n",
              "2                                  False   \n",
              "3                                  False   \n",
              "4                                  False   \n",
              "\n",
              "   base_ESTADO_RESIDENCIA_agrupado_ciudad de mexico  \\\n",
              "0                                             False   \n",
              "1                                             False   \n",
              "2                                              True   \n",
              "3                                              True   \n",
              "4                                              True   \n",
              "\n",
              "   base_ESTADO_RESIDENCIA_agrupado_coahuila  \\\n",
              "0                                     False   \n",
              "1                                     False   \n",
              "2                                     False   \n",
              "3                                     False   \n",
              "4                                     False   \n",
              "\n",
              "   base_ESTADO_RESIDENCIA_agrupado_jalisco  \\\n",
              "0                                    False   \n",
              "1                                    False   \n",
              "2                                    False   \n",
              "3                                    False   \n",
              "4                                    False   \n",
              "\n",
              "   base_ESTADONACIMIENTO_agrupado_Edomex  \\\n",
              "0                                  False   \n",
              "1                                  False   \n",
              "2                                   True   \n",
              "3                                   True   \n",
              "4                                   True   \n",
              "\n",
              "   base_ESTADONACIMIENTO_agrupado_Nuevo León  \\\n",
              "0                                      False   \n",
              "1                                      False   \n",
              "2                                      False   \n",
              "3                                      False   \n",
              "4                                      False   \n",
              "\n",
              "   base_ESTADONACIMIENTO_agrupado_Otros  \\\n",
              "0                                  True   \n",
              "1                                  True   \n",
              "2                                 False   \n",
              "3                                 False   \n",
              "4                                 False   \n",
              "\n",
              "   base_ESTADONACIMIENTO_agrupado_Veracruz de Ignacio de la Llave  \\\n",
              "0                                              False                \n",
              "1                                              False                \n",
              "2                                              False                \n",
              "3                                              False                \n",
              "4                                              False                \n",
              "\n",
              "   base_ESTADONACIMIENTO_agrupado_ciudad de mexico  \\\n",
              "0                                            False   \n",
              "1                                            False   \n",
              "2                                            False   \n",
              "3                                            False   \n",
              "4                                            False   \n",
              "\n",
              "   base_ESTADONACIMIENTO_agrupado_coahuila de zaragoza  \\\n",
              "0                                              False     \n",
              "1                                              False     \n",
              "2                                              False     \n",
              "3                                              False     \n",
              "4                                              False     \n",
              "\n",
              "   base_ESTADONACIMIENTO_agrupado_jalisco  \\\n",
              "0                                   False   \n",
              "1                                   False   \n",
              "2                                   False   \n",
              "3                                   False   \n",
              "4                                   False   \n",
              "\n",
              "   base_ESTADONACIMIENTO_agrupado_oaxaca  \\\n",
              "0                                  False   \n",
              "1                                  False   \n",
              "2                                  False   \n",
              "3                                  False   \n",
              "4                                  False   \n",
              "\n",
              "   base_ESTADONACIMIENTO_agrupado_tamaulipas  \\\n",
              "0                                      False   \n",
              "1                                      False   \n",
              "2                                      False   \n",
              "3                                      False   \n",
              "4                                      False   \n",
              "\n",
              "   base_PAIS_RESIDENCIA_agrupado_Mexico  base_PAIS_RESIDENCIA_agrupado_Otros  \\\n",
              "0                                  True                                False   \n",
              "1                                  True                                False   \n",
              "2                                  True                                False   \n",
              "3                                  True                                False   \n",
              "4                                  True                                False   \n",
              "\n",
              "   participacion_categoria_Egresados - Meet and Greet de Asociaciones_False  \\\n",
              "0                                               True                          \n",
              "1                                               True                          \n",
              "2                                               True                          \n",
              "3                                               True                          \n",
              "4                                               True                          \n",
              "\n",
              "   participacion_categoria_Egresados - Meet and Greet de Asociaciones_True  \\\n",
              "0                                              False                         \n",
              "1                                              False                         \n",
              "2                                              False                         \n",
              "3                                              False                         \n",
              "4                                              False                         \n",
              "\n",
              "   participacion_categoria_Egresados - Regreso a Casa_False  \\\n",
              "0                                              False          \n",
              "1                                              False          \n",
              "2                                              False          \n",
              "3                                              False          \n",
              "4                                              False          \n",
              "\n",
              "   participacion_categoria_Egresados - Regreso a Casa_True  \\\n",
              "0                                               True         \n",
              "1                                               True         \n",
              "2                                               True         \n",
              "3                                               True         \n",
              "4                                               True         \n",
              "\n",
              "   participacion_categoria_Egresados - Voluntariado_False  \\\n",
              "0                                               True        \n",
              "1                                               True        \n",
              "2                                               True        \n",
              "3                                               True        \n",
              "4                                               True        \n",
              "\n",
              "   participacion_categoria_Egresados - Voluntariado_True  \\\n",
              "0                                              False       \n",
              "1                                              False       \n",
              "2                                              False       \n",
              "3                                              False       \n",
              "4                                              False       \n",
              "\n",
              "   participacion_categoria_Egresados - iniciativa de Participación_ Charlas, pláticas o conferencias_False  \\\n",
              "0                                               True                                                         \n",
              "1                                               True                                                         \n",
              "2                                               True                                                         \n",
              "3                                               True                                                         \n",
              "4                                               True                                                         \n",
              "\n",
              "   participacion_categoria_Egresados - iniciativa de Participación_ Charlas, pláticas o conferencias_True  \\\n",
              "0                                              False                                                        \n",
              "1                                              False                                                        \n",
              "2                                              False                                                        \n",
              "3                                              False                                                        \n",
              "4                                              False                                                        \n",
              "\n",
              "   participacion_categoria_Egresados - iniciativa de Participación_ Culturales o Sociales_False  \\\n",
              "0                                               True                                              \n",
              "1                                               True                                              \n",
              "2                                               True                                              \n",
              "3                                               True                                              \n",
              "4                                               True                                              \n",
              "\n",
              "   participacion_categoria_Egresados - iniciativa de Participación_ Culturales o Sociales_True  \\\n",
              "0                                              False                                             \n",
              "1                                              False                                             \n",
              "2                                              False                                             \n",
              "3                                              False                                             \n",
              "4                                              False                                             \n",
              "\n",
              "   participacion_categoria_Egresados - iniciativa de Participación_ Deportivos_False  \\\n",
              "0                                               True                                   \n",
              "1                                               True                                   \n",
              "2                                               True                                   \n",
              "3                                               True                                   \n",
              "4                                               True                                   \n",
              "\n",
              "   participacion_categoria_Egresados - iniciativa de Participación_ Deportivos_True  \\\n",
              "0                                              False                                  \n",
              "1                                              False                                  \n",
              "2                                              False                                  \n",
              "3                                              False                                  \n",
              "4                                              False                                  \n",
              "\n",
              "   participacion_categoria_Egresados - iniciativa de Participación_ Evento con causa_False  \\\n",
              "0                                               True                                         \n",
              "1                                               True                                         \n",
              "2                                               True                                         \n",
              "3                                               True                                         \n",
              "4                                               True                                         \n",
              "\n",
              "   participacion_categoria_Egresados - iniciativa de Participación_ Evento con causa_True  \\\n",
              "0                                              False                                        \n",
              "1                                              False                                        \n",
              "2                                              False                                        \n",
              "3                                              False                                        \n",
              "4                                              False                                        \n",
              "\n",
              "   participacion_categoria_Egresados - iniciativa de Participación_ Festejos_False  \\\n",
              "0                                               True                                 \n",
              "1                                               True                                 \n",
              "2                                               True                                 \n",
              "3                                               True                                 \n",
              "4                                               True                                 \n",
              "\n",
              "   participacion_categoria_Egresados - iniciativa de Participación_ Festejos_True  \\\n",
              "0                                              False                                \n",
              "1                                              False                                \n",
              "2                                              False                                \n",
              "3                                              False                                \n",
              "4                                              False                                \n",
              "\n",
              "   participacion_categoria_Egresados - iniciativa de Participación_ Networking_False  \\\n",
              "0                                               True                                   \n",
              "1                                               True                                   \n",
              "2                                               True                                   \n",
              "3                                               True                                   \n",
              "4                                               True                                   \n",
              "\n",
              "   participacion_categoria_Egresados - iniciativa de Participación_ Networking_True  \\\n",
              "0                                              False                                  \n",
              "1                                              False                                  \n",
              "2                                              False                                  \n",
              "3                                              False                                  \n",
              "4                                              False                                  \n",
              "\n",
              "   participacion_categoria_Egresados - iniciativa de Participación_ Premios y reconocimientos_False  \\\n",
              "0                                               True                                                  \n",
              "1                                               True                                                  \n",
              "2                                               True                                                  \n",
              "3                                               True                                                  \n",
              "4                                               True                                                  \n",
              "\n",
              "   participacion_categoria_Egresados - iniciativa de Participación_ Premios y reconocimientos_True  \\\n",
              "0                                              False                                                 \n",
              "1                                              False                                                 \n",
              "2                                              False                                                 \n",
              "3                                              False                                                 \n",
              "4                                              False                                                 \n",
              "\n",
              "   participacion_categoria_Egresados - iniciativa de Participación_ Visitas EXATEC_False  \\\n",
              "0                                               True                                       \n",
              "1                                               True                                       \n",
              "2                                               True                                       \n",
              "3                                               True                                       \n",
              "4                                               True                                       \n",
              "\n",
              "   participacion_categoria_Egresados - iniciativa de Participación_ Visitas EXATEC_True  \\\n",
              "0                                              False                                      \n",
              "1                                              False                                      \n",
              "2                                              False                                      \n",
              "3                                              False                                      \n",
              "4                                              False                                      \n",
              "\n",
              "   participacion_categoria_Egresados - iniciativa de Participación_ eventos LDG_False  \\\n",
              "0                                               True                                    \n",
              "1                                               True                                    \n",
              "2                                               True                                    \n",
              "3                                               True                                    \n",
              "4                                               True                                    \n",
              "\n",
              "   participacion_categoria_Egresados - iniciativa de Participación_ eventos LDG_True  \\\n",
              "0                                              False                                   \n",
              "1                                              False                                   \n",
              "2                                              False                                   \n",
              "3                                              False                                   \n",
              "4                                              False                                   \n",
              "\n",
              "   participacion_categoria_Egresados - iniciativa de Participación_ eventos Mentores_False  \\\n",
              "0                                               True                                         \n",
              "1                                               True                                         \n",
              "2                                               True                                         \n",
              "3                                               True                                         \n",
              "4                                               True                                         \n",
              "\n",
              "   participacion_categoria_Egresados - iniciativa de Participación_ eventos Mentores_True  \\\n",
              "0                                              False                                        \n",
              "1                                              False                                        \n",
              "2                                              False                                        \n",
              "3                                              False                                        \n",
              "4                                              False                                        \n",
              "\n",
              "   participacion_categoria_Egresados -Evento de Asociaciones_False  \\\n",
              "0                                               True                 \n",
              "1                                               True                 \n",
              "2                                               True                 \n",
              "3                                               True                 \n",
              "4                                               True                 \n",
              "\n",
              "   participacion_categoria_Egresados -Evento de Asociaciones_True  \\\n",
              "0                                              False                \n",
              "1                                              False                \n",
              "2                                              False                \n",
              "3                                              False                \n",
              "4                                              False                \n",
              "\n",
              "   rangos_engagement_numerico_0  rangos_engagement_numerico_1  \\\n",
              "0                          True                         False   \n",
              "1                          True                         False   \n",
              "2                          True                         False   \n",
              "3                          True                         False   \n",
              "4                          True                         False   \n",
              "\n",
              "   rangos_engagement_numerico_2  rangos_engagement_numerico_3  \\\n",
              "0                         False                         False   \n",
              "1                         False                         False   \n",
              "2                         False                         False   \n",
              "3                         False                         False   \n",
              "4                         False                         False   \n",
              "\n",
              "   rangos_engagement_numerico_4  rangos_engagement_numerico_5  \\\n",
              "0                         False                         False   \n",
              "1                         False                         False   \n",
              "2                         False                         False   \n",
              "3                         False                         False   \n",
              "4                         False                         False   \n",
              "\n",
              "   frecuencia_apertura_correos_numerico_0  \\\n",
              "0                                    True   \n",
              "1                                    True   \n",
              "2                                    True   \n",
              "3                                    True   \n",
              "4                                    True   \n",
              "\n",
              "   frecuencia_apertura_correos_numerico_1  \\\n",
              "0                                   False   \n",
              "1                                   False   \n",
              "2                                   False   \n",
              "3                                   False   \n",
              "4                                   False   \n",
              "\n",
              "   frecuencia_apertura_correos_numerico_2  \\\n",
              "0                                   False   \n",
              "1                                   False   \n",
              "2                                   False   \n",
              "3                                   False   \n",
              "4                                   False   \n",
              "\n",
              "   frecuencia_apertura_correos_numerico_3  \\\n",
              "0                                   False   \n",
              "1                                   False   \n",
              "2                                   False   \n",
              "3                                   False   \n",
              "4                                   False   \n",
              "\n",
              "   frecuencia_apertura_correos_numerico_4  \\\n",
              "0                                   False   \n",
              "1                                   False   \n",
              "2                                   False   \n",
              "3                                   False   \n",
              "4                                   False   \n",
              "\n",
              "   frecuencia_apertura_correos_numerico_5  base_NIVELACADEMICO_ORD_1  \\\n",
              "0                                   False                       True   \n",
              "1                                   False                       True   \n",
              "2                                   False                      False   \n",
              "3                                   False                      False   \n",
              "4                                   False                      False   \n",
              "\n",
              "   base_NIVELACADEMICO_ORD_2  base_NIVELACADEMICO_ORD_3  \\\n",
              "0                      False                      False   \n",
              "1                      False                      False   \n",
              "2                       True                      False   \n",
              "3                       True                      False   \n",
              "4                       True                      False   \n",
              "\n",
              "   base_NIVELACADEMICO_ORD_4   Colaborador   Consejero   Donante  \\\n",
              "0                      False             0           0         0   \n",
              "1                      False             0           0         0   \n",
              "2                      False             0           0         0   \n",
              "3                      False             0           0         0   \n",
              "4                      False             0           0         0   \n",
              "\n",
              "    Donante Prospecto   Ex Consejero   Exatec   Líder OSF   Líder de Campaña  \\\n",
              "0                   0              0        0           0                  0   \n",
              "1                   0              0        0           0                  0   \n",
              "2                   0              0        0           0                  0   \n",
              "3                   0              0        0           0                  0   \n",
              "4                   0              0        0           0                  0   \n",
              "\n",
              "    Prospecto  Alumno  Colaborador  Consejero  Donante  Donante Prospecto  \\\n",
              "0           0       0            0          0        0                  0   \n",
              "1           0       0            0          0        0                  0   \n",
              "2           0       0            0          0        0                  0   \n",
              "3           0       0            0          0        0                  0   \n",
              "4           0       0            0          0        0                  0   \n",
              "\n",
              "   Exatec  dias_mail_activo  dias_activo  dias_activo_num_celular  \\\n",
              "0       1            6954.0      10578.0                   6954.0   \n",
              "1       1            6954.0      10578.0                   6954.0   \n",
              "2       1            2555.0       7864.0                   2555.0   \n",
              "3       1            2555.0       7864.0                   2555.0   \n",
              "4       1            2555.0       7864.0                   2555.0   \n",
              "\n",
              "   dias_FechaRegistro  base_SIGLASDELPROGRAMA_encoded_LDGincubadora  \\\n",
              "0               104.0                                      0.294670   \n",
              "1               104.0                                      0.294670   \n",
              "2              1470.0                                      0.028644   \n",
              "3              1470.0                                      0.028644   \n",
              "4              1470.0                                      0.028644   \n",
              "\n",
              "   base_SIGLASDELPROGRAMA_encoded_Voluntariado  ID_CAMPUS_encoded  \\\n",
              "0                                     0.207844                4.0   \n",
              "1                                     0.207844                4.0   \n",
              "2                                     0.033024               26.0   \n",
              "3                                     0.033024               26.0   \n",
              "4                                     0.033024               26.0   \n",
              "\n",
              "   antiguedad_suscripcion  nivel_engagement  antiguedad_graduacion_yeojohnson  \\\n",
              "0                   150.0          1.724138                           3.76704   \n",
              "1                   150.0          1.724138                           3.76704   \n",
              "2                  1516.0          1.724138                           2.78396   \n",
              "3                  1516.0          1.724138                           2.78396   \n",
              "4                  1516.0          1.724138                           2.78396   \n",
              "\n",
              "   es_Voluntariado  es_HistoriaExito  es_LDGincubadora  \n",
              "0                0                 0                 0  \n",
              "1                0                 0                 0  \n",
              "2                0                 0                 0  \n",
              "3                0                 0                 0  \n",
              "4                0                 0                 0  "
            ],
            "text/html": [
              "\n",
              "  <div id=\"df-02561af9-704a-41c6-b444-a1581afe178a\" class=\"colab-df-container\">\n",
              "    <div>\n",
              "<style scoped>\n",
              "    .dataframe tbody tr th:only-of-type {\n",
              "        vertical-align: middle;\n",
              "    }\n",
              "\n",
              "    .dataframe tbody tr th {\n",
              "        vertical-align: top;\n",
              "    }\n",
              "\n",
              "    .dataframe thead th {\n",
              "        text-align: right;\n",
              "    }\n",
              "</style>\n",
              "<table border=\"1\" class=\"dataframe\">\n",
              "  <thead>\n",
              "    <tr style=\"text-align: right;\">\n",
              "      <th></th>\n",
              "      <th>categoria_dominio_correo_Educativo</th>\n",
              "      <th>categoria_dominio_correo_Genérico</th>\n",
              "      <th>categoria_dominio_correo_Otros</th>\n",
              "      <th>base_SEXO_Femenino</th>\n",
              "      <th>base_SEXO_Masculino</th>\n",
              "      <th>base_Tipo Escuela_Arquitectura y Diseño</th>\n",
              "      <th>base_Tipo Escuela_Gobierno y Ciencias Sociales</th>\n",
              "      <th>base_Tipo Escuela_Humanidades y Educación</th>\n",
              "      <th>base_Tipo Escuela_Ingeniería y Ciencias</th>\n",
              "      <th>base_Tipo Escuela_Medicina y Ciencias de la salud</th>\n",
              "      <th>base_Tipo Escuela_Negocios</th>\n",
              "      <th>base_IDCAMPUS_</th>\n",
              "      <th>base_IDCAMPUS_1</th>\n",
              "      <th>base_IDCAMPUS_2</th>\n",
              "      <th>base_IDCAMPUS_8</th>\n",
              "      <th>base_IDCAMPUS_A</th>\n",
              "      <th>base_IDCAMPUS_A1</th>\n",
              "      <th>base_IDCAMPUS_AA</th>\n",
              "      <th>base_IDCAMPUS_C</th>\n",
              "      <th>base_IDCAMPUS_D</th>\n",
              "      <th>base_IDCAMPUS_E</th>\n",
              "      <th>base_IDCAMPUS_F</th>\n",
              "      <th>base_IDCAMPUS_G</th>\n",
              "      <th>base_IDCAMPUS_G1</th>\n",
              "      <th>base_IDCAMPUS_GA</th>\n",
              "      <th>base_IDCAMPUS_GQ</th>\n",
              "      <th>base_IDCAMPUS_GS</th>\n",
              "      <th>base_IDCAMPUS_H</th>\n",
              "      <th>base_IDCAMPUS_I</th>\n",
              "      <th>base_IDCAMPUS_J</th>\n",
              "      <th>base_IDCAMPUS_K</th>\n",
              "      <th>base_IDCAMPUS_L</th>\n",
              "      <th>base_IDCAMPUS_M</th>\n",
              "      <th>base_IDCAMPUS_N</th>\n",
              "      <th>base_IDCAMPUS_O</th>\n",
              "      <th>base_IDCAMPUS_P</th>\n",
              "      <th>base_IDCAMPUS_PUE</th>\n",
              "      <th>base_IDCAMPUS_Q</th>\n",
              "      <th>base_IDCAMPUS_R</th>\n",
              "      <th>base_IDCAMPUS_S</th>\n",
              "      <th>base_IDCAMPUS_T</th>\n",
              "      <th>base_IDCAMPUS_U</th>\n",
              "      <th>base_IDCAMPUS_W</th>\n",
              "      <th>base_IDCAMPUS_X</th>\n",
              "      <th>base_IDCAMPUS_Y</th>\n",
              "      <th>base_IDCAMPUS_Z</th>\n",
              "      <th>base_campusoperación_Aguascalientes</th>\n",
              "      <th>base_campusoperación_Chiapas</th>\n",
              "      <th>base_campusoperación_Chihuahua</th>\n",
              "      <th>base_campusoperación_Ciudad Juárez</th>\n",
              "      <th>base_campusoperación_Ciudad Obregón</th>\n",
              "      <th>base_campusoperación_Ciudad de México</th>\n",
              "      <th>base_campusoperación_Cuernavaca</th>\n",
              "      <th>base_campusoperación_EGADE</th>\n",
              "      <th>base_campusoperación_Escuela de Gobierno y Transformación Pública</th>\n",
              "      <th>base_campusoperación_Estado de México</th>\n",
              "      <th>base_campusoperación_Guadalajara</th>\n",
              "      <th>base_campusoperación_Guaymas</th>\n",
              "      <th>base_campusoperación_Hidalgo</th>\n",
              "      <th>base_campusoperación_Irapuato</th>\n",
              "      <th>base_campusoperación_Laguna</th>\n",
              "      <th>base_campusoperación_León</th>\n",
              "      <th>base_campusoperación_Mazatlán</th>\n",
              "      <th>base_campusoperación_Monterrey</th>\n",
              "      <th>base_campusoperación_Morelia</th>\n",
              "      <th>base_campusoperación_Programas en Línea</th>\n",
              "      <th>base_campusoperación_Puebla</th>\n",
              "      <th>base_campusoperación_Querétaro</th>\n",
              "      <th>base_campusoperación_Saltillo</th>\n",
              "      <th>base_campusoperación_San Luis Potosí</th>\n",
              "      <th>base_campusoperación_Santa Fe</th>\n",
              "      <th>base_campusoperación_Sede EGADE Monterrey</th>\n",
              "      <th>base_campusoperación_Sinaloa</th>\n",
              "      <th>base_campusoperación_Sonora Norte</th>\n",
              "      <th>base_campusoperación_Tampico</th>\n",
              "      <th>base_campusoperación_Toluca</th>\n",
              "      <th>base_campusoperación_Veracruz</th>\n",
              "      <th>base_campusoperación_Zacatecas</th>\n",
              "      <th>base_GIROEMPRESA_</th>\n",
              "      <th>base_GIROEMPRESA_Administración</th>\n",
              "      <th>base_GIROEMPRESA_Administración de Proyectos</th>\n",
              "      <th>base_GIROEMPRESA_Agrícola</th>\n",
              "      <th>base_GIROEMPRESA_Alimentos (Comercializador)</th>\n",
              "      <th>base_GIROEMPRESA_Alimentos (Productos/Procesamiento)</th>\n",
              "      <th>base_GIROEMPRESA_Artesanal</th>\n",
              "      <th>base_GIROEMPRESA_Aseguradora</th>\n",
              "      <th>base_GIROEMPRESA_Automotriz</th>\n",
              "      <th>base_GIROEMPRESA_Bienes Raíces</th>\n",
              "      <th>base_GIROEMPRESA_Boutiques</th>\n",
              "      <th>base_GIROEMPRESA_Comercializadora</th>\n",
              "      <th>base_GIROEMPRESA_Comunicación</th>\n",
              "      <th>base_GIROEMPRESA_Construcción</th>\n",
              "      <th>base_GIROEMPRESA_Consultoría</th>\n",
              "      <th>base_GIROEMPRESA_Contabilidad</th>\n",
              "      <th>base_GIROEMPRESA_Cómputo (Consultoría / Capacitación)</th>\n",
              "      <th>base_GIROEMPRESA_Cómputo (Desarrollo de software)</th>\n",
              "      <th>base_GIROEMPRESA_Cómputo (Manufactura, Hardware)</th>\n",
              "      <th>base_GIROEMPRESA_De Servicios</th>\n",
              "      <th>base_GIROEMPRESA_Decoración</th>\n",
              "      <th>base_GIROEMPRESA_Dirección</th>\n",
              "      <th>base_GIROEMPRESA_Diseño Grafico</th>\n",
              "      <th>base_GIROEMPRESA_Editoriales</th>\n",
              "      <th>base_GIROEMPRESA_Educación</th>\n",
              "      <th>base_GIROEMPRESA_Entretenimiento</th>\n",
              "      <th>base_GIROEMPRESA_Estética / Productos de Belleza / Perfumería</th>\n",
              "      <th>base_GIROEMPRESA_Explotación de Recursos Naturales</th>\n",
              "      <th>base_GIROEMPRESA_Farmacéutica</th>\n",
              "      <th>base_GIROEMPRESA_Financiera</th>\n",
              "      <th>base_GIROEMPRESA_Finanzas</th>\n",
              "      <th>base_GIROEMPRESA_Ganadería / Caza</th>\n",
              "      <th>base_GIROEMPRESA_Gobierno (Federal, Estatal y Municipal)</th>\n",
              "      <th>base_GIROEMPRESA_Hoteleria y turismo</th>\n",
              "      <th>base_GIROEMPRESA_Imprenta</th>\n",
              "      <th>base_GIROEMPRESA_Industrias Diversas</th>\n",
              "      <th>base_GIROEMPRESA_Información</th>\n",
              "      <th>base_GIROEMPRESA_Innovación</th>\n",
              "      <th>base_GIROEMPRESA_Investigación</th>\n",
              "      <th>base_GIROEMPRESA_Logística</th>\n",
              "      <th>base_GIROEMPRESA_Manufacturera/ Maquiladora</th>\n",
              "      <th>base_GIROEMPRESA_Medicina / Salud</th>\n",
              "      <th>base_GIROEMPRESA_Medios de Comunicación</th>\n",
              "      <th>base_GIROEMPRESA_Mercadotecnia</th>\n",
              "      <th>base_GIROEMPRESA_Metal Mecánico</th>\n",
              "      <th>base_GIROEMPRESA_Minería / Extracción</th>\n",
              "      <th>base_GIROEMPRESA_Mueblero</th>\n",
              "      <th>base_GIROEMPRESA_No aplica</th>\n",
              "      <th>base_GIROEMPRESA_Otro</th>\n",
              "      <th>base_GIROEMPRESA_Plástico / Hule</th>\n",
              "      <th>base_GIROEMPRESA_Producción y operaciones</th>\n",
              "      <th>base_GIROEMPRESA_Publicidad</th>\n",
              "      <th>base_GIROEMPRESA_Químico</th>\n",
              "      <th>base_GIROEMPRESA_Recursos humanos</th>\n",
              "      <th>base_GIROEMPRESA_Relaciones Públicas</th>\n",
              "      <th>base_GIROEMPRESA_Responsabilidad Social</th>\n",
              "      <th>base_GIROEMPRESA_Restaurante / Bar</th>\n",
              "      <th>base_GIROEMPRESA_Seguros</th>\n",
              "      <th>base_GIROEMPRESA_Servicio al Cliente</th>\n",
              "      <th>base_GIROEMPRESA_Servicios Públicos (Gas, Agua, Electricidad)</th>\n",
              "      <th>base_GIROEMPRESA_Tecnología</th>\n",
              "      <th>base_GIROEMPRESA_Telecomunicaciones</th>\n",
              "      <th>base_GIROEMPRESA_Textil</th>\n",
              "      <th>base_GIROEMPRESA_Transportes / Distribución</th>\n",
              "      <th>base_GIROEMPRESA_Ventas - Comercial</th>\n",
              "      <th>base_GIROEMPRESA_Ventas Multinivel</th>\n",
              "      <th>base_GIROEMPRESA_Vidrio</th>\n",
              "      <th>base_TIPOEMPRESA_Extranjera</th>\n",
              "      <th>base_TIPOEMPRESA_Franquicia extranjera</th>\n",
              "      <th>base_TIPOEMPRESA_Mexicana</th>\n",
              "      <th>base_TIPOEMPRESA_Transnacional en México</th>\n",
              "      <th>base_AREAORGANIZACIONAL_Administración</th>\n",
              "      <th>base_AREAORGANIZACIONAL_Administración de Proyectos</th>\n",
              "      <th>base_AREAORGANIZACIONAL_Administración general</th>\n",
              "      <th>base_AREAORGANIZACIONAL_Calidad</th>\n",
              "      <th>base_AREAORGANIZACIONAL_Compras</th>\n",
              "      <th>base_AREAORGANIZACIONAL_Comunicación</th>\n",
              "      <th>base_AREAORGANIZACIONAL_Consultoría</th>\n",
              "      <th>base_AREAORGANIZACIONAL_Contabilidad</th>\n",
              "      <th>base_AREAORGANIZACIONAL_Dirección</th>\n",
              "      <th>base_AREAORGANIZACIONAL_Diseño de nuevos productos</th>\n",
              "      <th>base_AREAORGANIZACIONAL_Educación</th>\n",
              "      <th>base_AREAORGANIZACIONAL_Finanzas</th>\n",
              "      <th>base_AREAORGANIZACIONAL_Finanzas / Contabilidad / Auditoría / Tesorería</th>\n",
              "      <th>base_AREAORGANIZACIONAL_Informática</th>\n",
              "      <th>base_AREAORGANIZACIONAL_Innovación</th>\n",
              "      <th>base_AREAORGANIZACIONAL_Investigación y Docencia</th>\n",
              "      <th>base_AREAORGANIZACIONAL_Logística/Operaciones</th>\n",
              "      <th>base_AREAORGANIZACIONAL_Mercadotecnia</th>\n",
              "      <th>base_AREAORGANIZACIONAL_Mercadotecnia / Ventas</th>\n",
              "      <th>base_AREAORGANIZACIONAL_No aplica</th>\n",
              "      <th>base_AREAORGANIZACIONAL_Otra</th>\n",
              "      <th>base_AREAORGANIZACIONAL_Planeación</th>\n",
              "      <th>base_AREAORGANIZACIONAL_Producción</th>\n",
              "      <th>base_AREAORGANIZACIONAL_Producción y operaciones</th>\n",
              "      <th>base_AREAORGANIZACIONAL_Recursos Humanos</th>\n",
              "      <th>base_AREAORGANIZACIONAL_Recursos humanos</th>\n",
              "      <th>base_AREAORGANIZACIONAL_Responsabilidad Social</th>\n",
              "      <th>base_AREAORGANIZACIONAL_Servicio al Cliente</th>\n",
              "      <th>base_AREAORGANIZACIONAL_Tecnología</th>\n",
              "      <th>base_AREAORGANIZACIONAL_Ventas - Comercial</th>\n",
              "      <th>base_ESTATUSEMPLEO_A</th>\n",
              "      <th>base_ESTATUSEMPLEO_I</th>\n",
              "      <th>evento_Campus_-</th>\n",
              "      <th>evento_Campus_Escuela de Gobierno y Transformación Pública</th>\n",
              "      <th>evento_Campus_Oficina Central</th>\n",
              "      <th>evento_Campus_TEC Campus Aguascalientes</th>\n",
              "      <th>evento_Campus_TEC Campus Chiapas</th>\n",
              "      <th>evento_Campus_TEC Campus Chihuahua</th>\n",
              "      <th>evento_Campus_TEC Campus Ciudad Juárez</th>\n",
              "      <th>evento_Campus_TEC Campus Ciudad Obregón</th>\n",
              "      <th>evento_Campus_TEC Campus Ciudad de México</th>\n",
              "      <th>evento_Campus_TEC Campus Cuernavaca</th>\n",
              "      <th>evento_Campus_TEC Campus EGADE Monterrey</th>\n",
              "      <th>evento_Campus_TEC Campus Escuela de Gobierno, Cd Mexico</th>\n",
              "      <th>evento_Campus_TEC Campus Escuela de Gobierno, Monterrey</th>\n",
              "      <th>evento_Campus_TEC Campus Estado de México</th>\n",
              "      <th>evento_Campus_TEC Campus Guadalajara</th>\n",
              "      <th>evento_Campus_TEC Campus Hidalgo</th>\n",
              "      <th>evento_Campus_TEC Campus Irapuato</th>\n",
              "      <th>evento_Campus_TEC Campus Laguna</th>\n",
              "      <th>evento_Campus_TEC Campus León</th>\n",
              "      <th>evento_Campus_TEC Campus Monterrey</th>\n",
              "      <th>evento_Campus_TEC Campus Morelia</th>\n",
              "      <th>evento_Campus_TEC Campus Nacional</th>\n",
              "      <th>evento_Campus_TEC Campus Puebla</th>\n",
              "      <th>evento_Campus_TEC Campus Querétaro</th>\n",
              "      <th>evento_Campus_TEC Campus Saltillo</th>\n",
              "      <th>evento_Campus_TEC Campus San Luis Potosí</th>\n",
              "      <th>evento_Campus_TEC Campus Santa Fe</th>\n",
              "      <th>evento_Campus_TEC Campus Sinaloa</th>\n",
              "      <th>evento_Campus_TEC Campus Sonora Norte</th>\n",
              "      <th>evento_Campus_TEC Campus Tampico</th>\n",
              "      <th>evento_Campus_TEC Campus Toluca</th>\n",
              "      <th>evento_Campus_TEC Campus Zacatecas</th>\n",
              "      <th>evento_Campus_TEC EGADE</th>\n",
              "      <th>evento_Campus_TEC EGOB</th>\n",
              "      <th>evento_Campus_TEC Escuela de Gobierno, E.México</th>\n",
              "      <th>evento_Campus_TEC Sede EGADE Santa Fe</th>\n",
              "      <th>evento_Campus_Tecnológico de Monterrey Campus Monterrey</th>\n",
              "      <th>evento_CheckedIn_False</th>\n",
              "      <th>evento_CheckedIn_True</th>\n",
              "      <th>evento_attendeeStatus_Accepted</th>\n",
              "      <th>evento_attendeeStatus_Cancelled</th>\n",
              "      <th>evento_attendeeStatus_Invited</th>\n",
              "      <th>evento_attendeeStatus_Registered</th>\n",
              "      <th>evento_attendeeStatus_Sin Estado</th>\n",
              "      <th>base_ESTADO_RESIDENCIA_agrupado_Nuevo León</th>\n",
              "      <th>base_ESTADO_RESIDENCIA_agrupado_Otros</th>\n",
              "      <th>base_ESTADO_RESIDENCIA_agrupado_ciudad de mexico</th>\n",
              "      <th>base_ESTADO_RESIDENCIA_agrupado_coahuila</th>\n",
              "      <th>base_ESTADO_RESIDENCIA_agrupado_jalisco</th>\n",
              "      <th>base_ESTADONACIMIENTO_agrupado_Edomex</th>\n",
              "      <th>base_ESTADONACIMIENTO_agrupado_Nuevo León</th>\n",
              "      <th>base_ESTADONACIMIENTO_agrupado_Otros</th>\n",
              "      <th>base_ESTADONACIMIENTO_agrupado_Veracruz de Ignacio de la Llave</th>\n",
              "      <th>base_ESTADONACIMIENTO_agrupado_ciudad de mexico</th>\n",
              "      <th>base_ESTADONACIMIENTO_agrupado_coahuila de zaragoza</th>\n",
              "      <th>base_ESTADONACIMIENTO_agrupado_jalisco</th>\n",
              "      <th>base_ESTADONACIMIENTO_agrupado_oaxaca</th>\n",
              "      <th>base_ESTADONACIMIENTO_agrupado_tamaulipas</th>\n",
              "      <th>base_PAIS_RESIDENCIA_agrupado_Mexico</th>\n",
              "      <th>base_PAIS_RESIDENCIA_agrupado_Otros</th>\n",
              "      <th>participacion_categoria_Egresados - Meet and Greet de Asociaciones_False</th>\n",
              "      <th>participacion_categoria_Egresados - Meet and Greet de Asociaciones_True</th>\n",
              "      <th>participacion_categoria_Egresados - Regreso a Casa_False</th>\n",
              "      <th>participacion_categoria_Egresados - Regreso a Casa_True</th>\n",
              "      <th>participacion_categoria_Egresados - Voluntariado_False</th>\n",
              "      <th>participacion_categoria_Egresados - Voluntariado_True</th>\n",
              "      <th>participacion_categoria_Egresados - iniciativa de Participación_ Charlas, pláticas o conferencias_False</th>\n",
              "      <th>participacion_categoria_Egresados - iniciativa de Participación_ Charlas, pláticas o conferencias_True</th>\n",
              "      <th>participacion_categoria_Egresados - iniciativa de Participación_ Culturales o Sociales_False</th>\n",
              "      <th>participacion_categoria_Egresados - iniciativa de Participación_ Culturales o Sociales_True</th>\n",
              "      <th>participacion_categoria_Egresados - iniciativa de Participación_ Deportivos_False</th>\n",
              "      <th>participacion_categoria_Egresados - iniciativa de Participación_ Deportivos_True</th>\n",
              "      <th>participacion_categoria_Egresados - iniciativa de Participación_ Evento con causa_False</th>\n",
              "      <th>participacion_categoria_Egresados - iniciativa de Participación_ Evento con causa_True</th>\n",
              "      <th>participacion_categoria_Egresados - iniciativa de Participación_ Festejos_False</th>\n",
              "      <th>participacion_categoria_Egresados - iniciativa de Participación_ Festejos_True</th>\n",
              "      <th>participacion_categoria_Egresados - iniciativa de Participación_ Networking_False</th>\n",
              "      <th>participacion_categoria_Egresados - iniciativa de Participación_ Networking_True</th>\n",
              "      <th>participacion_categoria_Egresados - iniciativa de Participación_ Premios y reconocimientos_False</th>\n",
              "      <th>participacion_categoria_Egresados - iniciativa de Participación_ Premios y reconocimientos_True</th>\n",
              "      <th>participacion_categoria_Egresados - iniciativa de Participación_ Visitas EXATEC_False</th>\n",
              "      <th>participacion_categoria_Egresados - iniciativa de Participación_ Visitas EXATEC_True</th>\n",
              "      <th>participacion_categoria_Egresados - iniciativa de Participación_ eventos LDG_False</th>\n",
              "      <th>participacion_categoria_Egresados - iniciativa de Participación_ eventos LDG_True</th>\n",
              "      <th>participacion_categoria_Egresados - iniciativa de Participación_ eventos Mentores_False</th>\n",
              "      <th>participacion_categoria_Egresados - iniciativa de Participación_ eventos Mentores_True</th>\n",
              "      <th>participacion_categoria_Egresados -Evento de Asociaciones_False</th>\n",
              "      <th>participacion_categoria_Egresados -Evento de Asociaciones_True</th>\n",
              "      <th>rangos_engagement_numerico_0</th>\n",
              "      <th>rangos_engagement_numerico_1</th>\n",
              "      <th>rangos_engagement_numerico_2</th>\n",
              "      <th>rangos_engagement_numerico_3</th>\n",
              "      <th>rangos_engagement_numerico_4</th>\n",
              "      <th>rangos_engagement_numerico_5</th>\n",
              "      <th>frecuencia_apertura_correos_numerico_0</th>\n",
              "      <th>frecuencia_apertura_correos_numerico_1</th>\n",
              "      <th>frecuencia_apertura_correos_numerico_2</th>\n",
              "      <th>frecuencia_apertura_correos_numerico_3</th>\n",
              "      <th>frecuencia_apertura_correos_numerico_4</th>\n",
              "      <th>frecuencia_apertura_correos_numerico_5</th>\n",
              "      <th>base_NIVELACADEMICO_ORD_1</th>\n",
              "      <th>base_NIVELACADEMICO_ORD_2</th>\n",
              "      <th>base_NIVELACADEMICO_ORD_3</th>\n",
              "      <th>base_NIVELACADEMICO_ORD_4</th>\n",
              "      <th>Colaborador</th>\n",
              "      <th>Consejero</th>\n",
              "      <th>Donante</th>\n",
              "      <th>Donante Prospecto</th>\n",
              "      <th>Ex Consejero</th>\n",
              "      <th>Exatec</th>\n",
              "      <th>Líder OSF</th>\n",
              "      <th>Líder de Campaña</th>\n",
              "      <th>Prospecto</th>\n",
              "      <th>Alumno</th>\n",
              "      <th>Colaborador</th>\n",
              "      <th>Consejero</th>\n",
              "      <th>Donante</th>\n",
              "      <th>Donante Prospecto</th>\n",
              "      <th>Exatec</th>\n",
              "      <th>dias_mail_activo</th>\n",
              "      <th>dias_activo</th>\n",
              "      <th>dias_activo_num_celular</th>\n",
              "      <th>dias_FechaRegistro</th>\n",
              "      <th>base_SIGLASDELPROGRAMA_encoded_LDGincubadora</th>\n",
              "      <th>base_SIGLASDELPROGRAMA_encoded_Voluntariado</th>\n",
              "      <th>ID_CAMPUS_encoded</th>\n",
              "      <th>antiguedad_suscripcion</th>\n",
              "      <th>nivel_engagement</th>\n",
              "      <th>antiguedad_graduacion_yeojohnson</th>\n",
              "      <th>es_Voluntariado</th>\n",
              "      <th>es_HistoriaExito</th>\n",
              "      <th>es_LDGincubadora</th>\n",
              "    </tr>\n",
              "  </thead>\n",
              "  <tbody>\n",
              "    <tr>\n",
              "      <th>0</th>\n",
              "      <td>False</td>\n",
              "      <td>True</td>\n",
              "      <td>False</td>\n",
              "      <td>False</td>\n",
              "      <td>True</td>\n",
              "      <td>False</td>\n",
              "      <td>False</td>\n",
              "      <td>False</td>\n",
              "      <td>False</td>\n",
              "      <td>False</td>\n",
              "      <td>True</td>\n",
              "      <td>False</td>\n",
              "      <td>False</td>\n",
              "      <td>False</td>\n",
              "      <td>False</td>\n",
              "      <td>True</td>\n",
              "      <td>False</td>\n",
              "      <td>False</td>\n",
              "      <td>False</td>\n",
              "      <td>False</td>\n",
              "      <td>False</td>\n",
              "      <td>False</td>\n",
              "      <td>False</td>\n",
              "      <td>False</td>\n",
              "      <td>False</td>\n",
              "      <td>False</td>\n",
              "      <td>False</td>\n",
              "      <td>False</td>\n",
              "      <td>False</td>\n",
              "      <td>False</td>\n",
              "      <td>False</td>\n",
              "      <td>False</td>\n",
              "      <td>False</td>\n",
              "      <td>False</td>\n",
              "      <td>False</td>\n",
              "      <td>False</td>\n",
              "      <td>False</td>\n",
              "      <td>False</td>\n",
              "      <td>False</td>\n",
              "      <td>False</td>\n",
              "      <td>False</td>\n",
              "      <td>False</td>\n",
              "      <td>False</td>\n",
              "      <td>False</td>\n",
              "      <td>False</td>\n",
              "      <td>False</td>\n",
              "      <td>False</td>\n",
              "      <td>False</td>\n",
              "      <td>False</td>\n",
              "      <td>False</td>\n",
              "      <td>False</td>\n",
              "      <td>False</td>\n",
              "      <td>False</td>\n",
              "      <td>False</td>\n",
              "      <td>False</td>\n",
              "      <td>False</td>\n",
              "      <td>False</td>\n",
              "      <td>False</td>\n",
              "      <td>False</td>\n",
              "      <td>False</td>\n",
              "      <td>False</td>\n",
              "      <td>False</td>\n",
              "      <td>False</td>\n",
              "      <td>True</td>\n",
              "      <td>False</td>\n",
              "      <td>False</td>\n",
              "      <td>False</td>\n",
              "      <td>False</td>\n",
              "      <td>False</td>\n",
              "      <td>False</td>\n",
              "      <td>False</td>\n",
              "      <td>False</td>\n",
              "      <td>False</td>\n",
              "      <td>False</td>\n",
              "      <td>False</td>\n",
              "      <td>False</td>\n",
              "      <td>False</td>\n",
              "      <td>False</td>\n",
              "      <td>False</td>\n",
              "      <td>False</td>\n",
              "      <td>False</td>\n",
              "      <td>False</td>\n",
              "      <td>False</td>\n",
              "      <td>False</td>\n",
              "      <td>False</td>\n",
              "      <td>False</td>\n",
              "      <td>False</td>\n",
              "      <td>False</td>\n",
              "      <td>False</td>\n",
              "      <td>False</td>\n",
              "      <td>False</td>\n",
              "      <td>False</td>\n",
              "      <td>False</td>\n",
              "      <td>False</td>\n",
              "      <td>False</td>\n",
              "      <td>False</td>\n",
              "      <td>False</td>\n",
              "      <td>False</td>\n",
              "      <td>False</td>\n",
              "      <td>False</td>\n",
              "      <td>False</td>\n",
              "      <td>False</td>\n",
              "      <td>True</td>\n",
              "      <td>False</td>\n",
              "      <td>False</td>\n",
              "      <td>False</td>\n",
              "      <td>False</td>\n",
              "      <td>False</td>\n",
              "      <td>False</td>\n",
              "      <td>False</td>\n",
              "      <td>False</td>\n",
              "      <td>False</td>\n",
              "      <td>False</td>\n",
              "      <td>False</td>\n",
              "      <td>False</td>\n",
              "      <td>False</td>\n",
              "      <td>False</td>\n",
              "      <td>False</td>\n",
              "      <td>False</td>\n",
              "      <td>False</td>\n",
              "      <td>False</td>\n",
              "      <td>False</td>\n",
              "      <td>False</td>\n",
              "      <td>False</td>\n",
              "      <td>False</td>\n",
              "      <td>False</td>\n",
              "      <td>False</td>\n",
              "      <td>False</td>\n",
              "      <td>False</td>\n",
              "      <td>False</td>\n",
              "      <td>False</td>\n",
              "      <td>False</td>\n",
              "      <td>False</td>\n",
              "      <td>False</td>\n",
              "      <td>False</td>\n",
              "      <td>False</td>\n",
              "      <td>False</td>\n",
              "      <td>False</td>\n",
              "      <td>False</td>\n",
              "      <td>False</td>\n",
              "      <td>False</td>\n",
              "      <td>False</td>\n",
              "      <td>False</td>\n",
              "      <td>False</td>\n",
              "      <td>False</td>\n",
              "      <td>False</td>\n",
              "      <td>False</td>\n",
              "      <td>True</td>\n",
              "      <td>False</td>\n",
              "      <td>False</td>\n",
              "      <td>False</td>\n",
              "      <td>False</td>\n",
              "      <td>False</td>\n",
              "      <td>False</td>\n",
              "      <td>False</td>\n",
              "      <td>False</td>\n",
              "      <td>False</td>\n",
              "      <td>False</td>\n",
              "      <td>False</td>\n",
              "      <td>True</td>\n",
              "      <td>False</td>\n",
              "      <td>False</td>\n",
              "      <td>False</td>\n",
              "      <td>False</td>\n",
              "      <td>False</td>\n",
              "      <td>False</td>\n",
              "      <td>False</td>\n",
              "      <td>False</td>\n",
              "      <td>False</td>\n",
              "      <td>False</td>\n",
              "      <td>False</td>\n",
              "      <td>False</td>\n",
              "      <td>False</td>\n",
              "      <td>False</td>\n",
              "      <td>False</td>\n",
              "      <td>False</td>\n",
              "      <td>False</td>\n",
              "      <td>False</td>\n",
              "      <td>False</td>\n",
              "      <td>False</td>\n",
              "      <td>True</td>\n",
              "      <td>False</td>\n",
              "      <td>False</td>\n",
              "      <td>False</td>\n",
              "      <td>False</td>\n",
              "      <td>False</td>\n",
              "      <td>False</td>\n",
              "      <td>False</td>\n",
              "      <td>False</td>\n",
              "      <td>False</td>\n",
              "      <td>False</td>\n",
              "      <td>False</td>\n",
              "      <td>False</td>\n",
              "      <td>False</td>\n",
              "      <td>False</td>\n",
              "      <td>False</td>\n",
              "      <td>False</td>\n",
              "      <td>False</td>\n",
              "      <td>False</td>\n",
              "      <td>False</td>\n",
              "      <td>True</td>\n",
              "      <td>False</td>\n",
              "      <td>False</td>\n",
              "      <td>False</td>\n",
              "      <td>False</td>\n",
              "      <td>False</td>\n",
              "      <td>False</td>\n",
              "      <td>False</td>\n",
              "      <td>False</td>\n",
              "      <td>False</td>\n",
              "      <td>False</td>\n",
              "      <td>False</td>\n",
              "      <td>False</td>\n",
              "      <td>False</td>\n",
              "      <td>False</td>\n",
              "      <td>False</td>\n",
              "      <td>False</td>\n",
              "      <td>False</td>\n",
              "      <td>True</td>\n",
              "      <td>False</td>\n",
              "      <td>False</td>\n",
              "      <td>False</td>\n",
              "      <td>False</td>\n",
              "      <td>True</td>\n",
              "      <td>False</td>\n",
              "      <td>True</td>\n",
              "      <td>False</td>\n",
              "      <td>False</td>\n",
              "      <td>False</td>\n",
              "      <td>False</td>\n",
              "      <td>False</td>\n",
              "      <td>False</td>\n",
              "      <td>True</td>\n",
              "      <td>False</td>\n",
              "      <td>False</td>\n",
              "      <td>False</td>\n",
              "      <td>False</td>\n",
              "      <td>False</td>\n",
              "      <td>False</td>\n",
              "      <td>True</td>\n",
              "      <td>False</td>\n",
              "      <td>True</td>\n",
              "      <td>False</td>\n",
              "      <td>False</td>\n",
              "      <td>True</td>\n",
              "      <td>True</td>\n",
              "      <td>False</td>\n",
              "      <td>True</td>\n",
              "      <td>False</td>\n",
              "      <td>True</td>\n",
              "      <td>False</td>\n",
              "      <td>True</td>\n",
              "      <td>False</td>\n",
              "      <td>True</td>\n",
              "      <td>False</td>\n",
              "      <td>True</td>\n",
              "      <td>False</td>\n",
              "      <td>True</td>\n",
              "      <td>False</td>\n",
              "      <td>True</td>\n",
              "      <td>False</td>\n",
              "      <td>True</td>\n",
              "      <td>False</td>\n",
              "      <td>True</td>\n",
              "      <td>False</td>\n",
              "      <td>True</td>\n",
              "      <td>False</td>\n",
              "      <td>True</td>\n",
              "      <td>False</td>\n",
              "      <td>True</td>\n",
              "      <td>False</td>\n",
              "      <td>False</td>\n",
              "      <td>False</td>\n",
              "      <td>False</td>\n",
              "      <td>False</td>\n",
              "      <td>True</td>\n",
              "      <td>False</td>\n",
              "      <td>False</td>\n",
              "      <td>False</td>\n",
              "      <td>False</td>\n",
              "      <td>False</td>\n",
              "      <td>True</td>\n",
              "      <td>False</td>\n",
              "      <td>False</td>\n",
              "      <td>False</td>\n",
              "      <td>0</td>\n",
              "      <td>0</td>\n",
              "      <td>0</td>\n",
              "      <td>0</td>\n",
              "      <td>0</td>\n",
              "      <td>0</td>\n",
              "      <td>0</td>\n",
              "      <td>0</td>\n",
              "      <td>0</td>\n",
              "      <td>0</td>\n",
              "      <td>0</td>\n",
              "      <td>0</td>\n",
              "      <td>0</td>\n",
              "      <td>0</td>\n",
              "      <td>1</td>\n",
              "      <td>6954.0</td>\n",
              "      <td>10578.0</td>\n",
              "      <td>6954.0</td>\n",
              "      <td>104.0</td>\n",
              "      <td>0.294670</td>\n",
              "      <td>0.207844</td>\n",
              "      <td>4.0</td>\n",
              "      <td>150.0</td>\n",
              "      <td>1.724138</td>\n",
              "      <td>3.76704</td>\n",
              "      <td>0</td>\n",
              "      <td>0</td>\n",
              "      <td>0</td>\n",
              "    </tr>\n",
              "    <tr>\n",
              "      <th>1</th>\n",
              "      <td>False</td>\n",
              "      <td>True</td>\n",
              "      <td>False</td>\n",
              "      <td>False</td>\n",
              "      <td>True</td>\n",
              "      <td>False</td>\n",
              "      <td>False</td>\n",
              "      <td>False</td>\n",
              "      <td>False</td>\n",
              "      <td>False</td>\n",
              "      <td>True</td>\n",
              "      <td>False</td>\n",
              "      <td>False</td>\n",
              "      <td>False</td>\n",
              "      <td>False</td>\n",
              "      <td>True</td>\n",
              "      <td>False</td>\n",
              "      <td>False</td>\n",
              "      <td>False</td>\n",
              "      <td>False</td>\n",
              "      <td>False</td>\n",
              "      <td>False</td>\n",
              "      <td>False</td>\n",
              "      <td>False</td>\n",
              "      <td>False</td>\n",
              "      <td>False</td>\n",
              "      <td>False</td>\n",
              "      <td>False</td>\n",
              "      <td>False</td>\n",
              "      <td>False</td>\n",
              "      <td>False</td>\n",
              "      <td>False</td>\n",
              "      <td>False</td>\n",
              "      <td>False</td>\n",
              "      <td>False</td>\n",
              "      <td>False</td>\n",
              "      <td>False</td>\n",
              "      <td>False</td>\n",
              "      <td>False</td>\n",
              "      <td>False</td>\n",
              "      <td>False</td>\n",
              "      <td>False</td>\n",
              "      <td>False</td>\n",
              "      <td>False</td>\n",
              "      <td>False</td>\n",
              "      <td>False</td>\n",
              "      <td>False</td>\n",
              "      <td>False</td>\n",
              "      <td>False</td>\n",
              "      <td>False</td>\n",
              "      <td>False</td>\n",
              "      <td>False</td>\n",
              "      <td>False</td>\n",
              "      <td>False</td>\n",
              "      <td>False</td>\n",
              "      <td>False</td>\n",
              "      <td>False</td>\n",
              "      <td>False</td>\n",
              "      <td>False</td>\n",
              "      <td>False</td>\n",
              "      <td>False</td>\n",
              "      <td>False</td>\n",
              "      <td>False</td>\n",
              "      <td>True</td>\n",
              "      <td>False</td>\n",
              "      <td>False</td>\n",
              "      <td>False</td>\n",
              "      <td>False</td>\n",
              "      <td>False</td>\n",
              "      <td>False</td>\n",
              "      <td>False</td>\n",
              "      <td>False</td>\n",
              "      <td>False</td>\n",
              "      <td>False</td>\n",
              "      <td>False</td>\n",
              "      <td>False</td>\n",
              "      <td>False</td>\n",
              "      <td>False</td>\n",
              "      <td>False</td>\n",
              "      <td>False</td>\n",
              "      <td>False</td>\n",
              "      <td>False</td>\n",
              "      <td>False</td>\n",
              "      <td>False</td>\n",
              "      <td>False</td>\n",
              "      <td>False</td>\n",
              "      <td>False</td>\n",
              "      <td>False</td>\n",
              "      <td>False</td>\n",
              "      <td>False</td>\n",
              "      <td>False</td>\n",
              "      <td>False</td>\n",
              "      <td>False</td>\n",
              "      <td>False</td>\n",
              "      <td>False</td>\n",
              "      <td>False</td>\n",
              "      <td>False</td>\n",
              "      <td>False</td>\n",
              "      <td>False</td>\n",
              "      <td>False</td>\n",
              "      <td>False</td>\n",
              "      <td>False</td>\n",
              "      <td>True</td>\n",
              "      <td>False</td>\n",
              "      <td>False</td>\n",
              "      <td>False</td>\n",
              "      <td>False</td>\n",
              "      <td>False</td>\n",
              "      <td>False</td>\n",
              "      <td>False</td>\n",
              "      <td>False</td>\n",
              "      <td>False</td>\n",
              "      <td>False</td>\n",
              "      <td>False</td>\n",
              "      <td>False</td>\n",
              "      <td>False</td>\n",
              "      <td>False</td>\n",
              "      <td>False</td>\n",
              "      <td>False</td>\n",
              "      <td>False</td>\n",
              "      <td>False</td>\n",
              "      <td>False</td>\n",
              "      <td>False</td>\n",
              "      <td>False</td>\n",
              "      <td>False</td>\n",
              "      <td>False</td>\n",
              "      <td>False</td>\n",
              "      <td>False</td>\n",
              "      <td>False</td>\n",
              "      <td>False</td>\n",
              "      <td>False</td>\n",
              "      <td>False</td>\n",
              "      <td>False</td>\n",
              "      <td>False</td>\n",
              "      <td>False</td>\n",
              "      <td>False</td>\n",
              "      <td>False</td>\n",
              "      <td>False</td>\n",
              "      <td>False</td>\n",
              "      <td>False</td>\n",
              "      <td>False</td>\n",
              "      <td>False</td>\n",
              "      <td>False</td>\n",
              "      <td>False</td>\n",
              "      <td>False</td>\n",
              "      <td>False</td>\n",
              "      <td>False</td>\n",
              "      <td>True</td>\n",
              "      <td>False</td>\n",
              "      <td>False</td>\n",
              "      <td>False</td>\n",
              "      <td>False</td>\n",
              "      <td>False</td>\n",
              "      <td>False</td>\n",
              "      <td>False</td>\n",
              "      <td>False</td>\n",
              "      <td>False</td>\n",
              "      <td>False</td>\n",
              "      <td>False</td>\n",
              "      <td>True</td>\n",
              "      <td>False</td>\n",
              "      <td>False</td>\n",
              "      <td>False</td>\n",
              "      <td>False</td>\n",
              "      <td>False</td>\n",
              "      <td>False</td>\n",
              "      <td>False</td>\n",
              "      <td>False</td>\n",
              "      <td>False</td>\n",
              "      <td>False</td>\n",
              "      <td>False</td>\n",
              "      <td>False</td>\n",
              "      <td>False</td>\n",
              "      <td>False</td>\n",
              "      <td>False</td>\n",
              "      <td>False</td>\n",
              "      <td>False</td>\n",
              "      <td>False</td>\n",
              "      <td>False</td>\n",
              "      <td>False</td>\n",
              "      <td>True</td>\n",
              "      <td>False</td>\n",
              "      <td>False</td>\n",
              "      <td>False</td>\n",
              "      <td>False</td>\n",
              "      <td>False</td>\n",
              "      <td>False</td>\n",
              "      <td>False</td>\n",
              "      <td>False</td>\n",
              "      <td>False</td>\n",
              "      <td>False</td>\n",
              "      <td>False</td>\n",
              "      <td>False</td>\n",
              "      <td>False</td>\n",
              "      <td>False</td>\n",
              "      <td>False</td>\n",
              "      <td>False</td>\n",
              "      <td>False</td>\n",
              "      <td>False</td>\n",
              "      <td>False</td>\n",
              "      <td>True</td>\n",
              "      <td>False</td>\n",
              "      <td>False</td>\n",
              "      <td>False</td>\n",
              "      <td>False</td>\n",
              "      <td>False</td>\n",
              "      <td>False</td>\n",
              "      <td>False</td>\n",
              "      <td>False</td>\n",
              "      <td>False</td>\n",
              "      <td>False</td>\n",
              "      <td>False</td>\n",
              "      <td>False</td>\n",
              "      <td>False</td>\n",
              "      <td>False</td>\n",
              "      <td>False</td>\n",
              "      <td>False</td>\n",
              "      <td>False</td>\n",
              "      <td>True</td>\n",
              "      <td>False</td>\n",
              "      <td>False</td>\n",
              "      <td>False</td>\n",
              "      <td>False</td>\n",
              "      <td>True</td>\n",
              "      <td>False</td>\n",
              "      <td>True</td>\n",
              "      <td>False</td>\n",
              "      <td>False</td>\n",
              "      <td>False</td>\n",
              "      <td>False</td>\n",
              "      <td>False</td>\n",
              "      <td>False</td>\n",
              "      <td>True</td>\n",
              "      <td>False</td>\n",
              "      <td>False</td>\n",
              "      <td>False</td>\n",
              "      <td>False</td>\n",
              "      <td>False</td>\n",
              "      <td>False</td>\n",
              "      <td>True</td>\n",
              "      <td>False</td>\n",
              "      <td>True</td>\n",
              "      <td>False</td>\n",
              "      <td>False</td>\n",
              "      <td>True</td>\n",
              "      <td>True</td>\n",
              "      <td>False</td>\n",
              "      <td>True</td>\n",
              "      <td>False</td>\n",
              "      <td>True</td>\n",
              "      <td>False</td>\n",
              "      <td>True</td>\n",
              "      <td>False</td>\n",
              "      <td>True</td>\n",
              "      <td>False</td>\n",
              "      <td>True</td>\n",
              "      <td>False</td>\n",
              "      <td>True</td>\n",
              "      <td>False</td>\n",
              "      <td>True</td>\n",
              "      <td>False</td>\n",
              "      <td>True</td>\n",
              "      <td>False</td>\n",
              "      <td>True</td>\n",
              "      <td>False</td>\n",
              "      <td>True</td>\n",
              "      <td>False</td>\n",
              "      <td>True</td>\n",
              "      <td>False</td>\n",
              "      <td>True</td>\n",
              "      <td>False</td>\n",
              "      <td>False</td>\n",
              "      <td>False</td>\n",
              "      <td>False</td>\n",
              "      <td>False</td>\n",
              "      <td>True</td>\n",
              "      <td>False</td>\n",
              "      <td>False</td>\n",
              "      <td>False</td>\n",
              "      <td>False</td>\n",
              "      <td>False</td>\n",
              "      <td>True</td>\n",
              "      <td>False</td>\n",
              "      <td>False</td>\n",
              "      <td>False</td>\n",
              "      <td>0</td>\n",
              "      <td>0</td>\n",
              "      <td>0</td>\n",
              "      <td>0</td>\n",
              "      <td>0</td>\n",
              "      <td>0</td>\n",
              "      <td>0</td>\n",
              "      <td>0</td>\n",
              "      <td>0</td>\n",
              "      <td>0</td>\n",
              "      <td>0</td>\n",
              "      <td>0</td>\n",
              "      <td>0</td>\n",
              "      <td>0</td>\n",
              "      <td>1</td>\n",
              "      <td>6954.0</td>\n",
              "      <td>10578.0</td>\n",
              "      <td>6954.0</td>\n",
              "      <td>104.0</td>\n",
              "      <td>0.294670</td>\n",
              "      <td>0.207844</td>\n",
              "      <td>4.0</td>\n",
              "      <td>150.0</td>\n",
              "      <td>1.724138</td>\n",
              "      <td>3.76704</td>\n",
              "      <td>0</td>\n",
              "      <td>0</td>\n",
              "      <td>0</td>\n",
              "    </tr>\n",
              "    <tr>\n",
              "      <th>2</th>\n",
              "      <td>False</td>\n",
              "      <td>True</td>\n",
              "      <td>False</td>\n",
              "      <td>False</td>\n",
              "      <td>True</td>\n",
              "      <td>False</td>\n",
              "      <td>False</td>\n",
              "      <td>False</td>\n",
              "      <td>False</td>\n",
              "      <td>False</td>\n",
              "      <td>True</td>\n",
              "      <td>False</td>\n",
              "      <td>False</td>\n",
              "      <td>False</td>\n",
              "      <td>False</td>\n",
              "      <td>False</td>\n",
              "      <td>False</td>\n",
              "      <td>False</td>\n",
              "      <td>False</td>\n",
              "      <td>False</td>\n",
              "      <td>False</td>\n",
              "      <td>False</td>\n",
              "      <td>False</td>\n",
              "      <td>False</td>\n",
              "      <td>False</td>\n",
              "      <td>False</td>\n",
              "      <td>False</td>\n",
              "      <td>False</td>\n",
              "      <td>False</td>\n",
              "      <td>False</td>\n",
              "      <td>False</td>\n",
              "      <td>False</td>\n",
              "      <td>False</td>\n",
              "      <td>False</td>\n",
              "      <td>False</td>\n",
              "      <td>False</td>\n",
              "      <td>False</td>\n",
              "      <td>True</td>\n",
              "      <td>False</td>\n",
              "      <td>False</td>\n",
              "      <td>False</td>\n",
              "      <td>False</td>\n",
              "      <td>False</td>\n",
              "      <td>False</td>\n",
              "      <td>False</td>\n",
              "      <td>False</td>\n",
              "      <td>False</td>\n",
              "      <td>False</td>\n",
              "      <td>False</td>\n",
              "      <td>False</td>\n",
              "      <td>False</td>\n",
              "      <td>True</td>\n",
              "      <td>False</td>\n",
              "      <td>False</td>\n",
              "      <td>False</td>\n",
              "      <td>False</td>\n",
              "      <td>False</td>\n",
              "      <td>False</td>\n",
              "      <td>False</td>\n",
              "      <td>False</td>\n",
              "      <td>False</td>\n",
              "      <td>False</td>\n",
              "      <td>False</td>\n",
              "      <td>False</td>\n",
              "      <td>False</td>\n",
              "      <td>False</td>\n",
              "      <td>False</td>\n",
              "      <td>False</td>\n",
              "      <td>False</td>\n",
              "      <td>False</td>\n",
              "      <td>False</td>\n",
              "      <td>False</td>\n",
              "      <td>False</td>\n",
              "      <td>False</td>\n",
              "      <td>False</td>\n",
              "      <td>False</td>\n",
              "      <td>False</td>\n",
              "      <td>False</td>\n",
              "      <td>False</td>\n",
              "      <td>False</td>\n",
              "      <td>False</td>\n",
              "      <td>False</td>\n",
              "      <td>False</td>\n",
              "      <td>False</td>\n",
              "      <td>False</td>\n",
              "      <td>False</td>\n",
              "      <td>False</td>\n",
              "      <td>False</td>\n",
              "      <td>False</td>\n",
              "      <td>False</td>\n",
              "      <td>False</td>\n",
              "      <td>False</td>\n",
              "      <td>True</td>\n",
              "      <td>False</td>\n",
              "      <td>False</td>\n",
              "      <td>False</td>\n",
              "      <td>False</td>\n",
              "      <td>False</td>\n",
              "      <td>False</td>\n",
              "      <td>False</td>\n",
              "      <td>False</td>\n",
              "      <td>False</td>\n",
              "      <td>False</td>\n",
              "      <td>False</td>\n",
              "      <td>False</td>\n",
              "      <td>False</td>\n",
              "      <td>False</td>\n",
              "      <td>False</td>\n",
              "      <td>False</td>\n",
              "      <td>False</td>\n",
              "      <td>False</td>\n",
              "      <td>False</td>\n",
              "      <td>False</td>\n",
              "      <td>False</td>\n",
              "      <td>False</td>\n",
              "      <td>False</td>\n",
              "      <td>False</td>\n",
              "      <td>False</td>\n",
              "      <td>False</td>\n",
              "      <td>False</td>\n",
              "      <td>False</td>\n",
              "      <td>False</td>\n",
              "      <td>False</td>\n",
              "      <td>False</td>\n",
              "      <td>False</td>\n",
              "      <td>False</td>\n",
              "      <td>False</td>\n",
              "      <td>False</td>\n",
              "      <td>False</td>\n",
              "      <td>False</td>\n",
              "      <td>False</td>\n",
              "      <td>False</td>\n",
              "      <td>False</td>\n",
              "      <td>False</td>\n",
              "      <td>False</td>\n",
              "      <td>False</td>\n",
              "      <td>False</td>\n",
              "      <td>False</td>\n",
              "      <td>False</td>\n",
              "      <td>False</td>\n",
              "      <td>False</td>\n",
              "      <td>False</td>\n",
              "      <td>False</td>\n",
              "      <td>False</td>\n",
              "      <td>False</td>\n",
              "      <td>False</td>\n",
              "      <td>False</td>\n",
              "      <td>True</td>\n",
              "      <td>False</td>\n",
              "      <td>False</td>\n",
              "      <td>False</td>\n",
              "      <td>False</td>\n",
              "      <td>False</td>\n",
              "      <td>False</td>\n",
              "      <td>False</td>\n",
              "      <td>True</td>\n",
              "      <td>False</td>\n",
              "      <td>False</td>\n",
              "      <td>False</td>\n",
              "      <td>False</td>\n",
              "      <td>False</td>\n",
              "      <td>False</td>\n",
              "      <td>False</td>\n",
              "      <td>False</td>\n",
              "      <td>False</td>\n",
              "      <td>False</td>\n",
              "      <td>False</td>\n",
              "      <td>False</td>\n",
              "      <td>False</td>\n",
              "      <td>False</td>\n",
              "      <td>False</td>\n",
              "      <td>False</td>\n",
              "      <td>False</td>\n",
              "      <td>False</td>\n",
              "      <td>False</td>\n",
              "      <td>False</td>\n",
              "      <td>False</td>\n",
              "      <td>False</td>\n",
              "      <td>False</td>\n",
              "      <td>True</td>\n",
              "      <td>False</td>\n",
              "      <td>False</td>\n",
              "      <td>False</td>\n",
              "      <td>False</td>\n",
              "      <td>False</td>\n",
              "      <td>False</td>\n",
              "      <td>False</td>\n",
              "      <td>False</td>\n",
              "      <td>False</td>\n",
              "      <td>False</td>\n",
              "      <td>False</td>\n",
              "      <td>False</td>\n",
              "      <td>False</td>\n",
              "      <td>False</td>\n",
              "      <td>False</td>\n",
              "      <td>False</td>\n",
              "      <td>False</td>\n",
              "      <td>False</td>\n",
              "      <td>False</td>\n",
              "      <td>False</td>\n",
              "      <td>True</td>\n",
              "      <td>False</td>\n",
              "      <td>False</td>\n",
              "      <td>False</td>\n",
              "      <td>False</td>\n",
              "      <td>False</td>\n",
              "      <td>False</td>\n",
              "      <td>False</td>\n",
              "      <td>False</td>\n",
              "      <td>False</td>\n",
              "      <td>False</td>\n",
              "      <td>False</td>\n",
              "      <td>False</td>\n",
              "      <td>False</td>\n",
              "      <td>False</td>\n",
              "      <td>False</td>\n",
              "      <td>False</td>\n",
              "      <td>False</td>\n",
              "      <td>True</td>\n",
              "      <td>False</td>\n",
              "      <td>True</td>\n",
              "      <td>False</td>\n",
              "      <td>False</td>\n",
              "      <td>False</td>\n",
              "      <td>False</td>\n",
              "      <td>False</td>\n",
              "      <td>False</td>\n",
              "      <td>True</td>\n",
              "      <td>False</td>\n",
              "      <td>False</td>\n",
              "      <td>True</td>\n",
              "      <td>False</td>\n",
              "      <td>False</td>\n",
              "      <td>False</td>\n",
              "      <td>False</td>\n",
              "      <td>False</td>\n",
              "      <td>False</td>\n",
              "      <td>False</td>\n",
              "      <td>False</td>\n",
              "      <td>True</td>\n",
              "      <td>False</td>\n",
              "      <td>True</td>\n",
              "      <td>False</td>\n",
              "      <td>False</td>\n",
              "      <td>True</td>\n",
              "      <td>True</td>\n",
              "      <td>False</td>\n",
              "      <td>True</td>\n",
              "      <td>False</td>\n",
              "      <td>True</td>\n",
              "      <td>False</td>\n",
              "      <td>True</td>\n",
              "      <td>False</td>\n",
              "      <td>True</td>\n",
              "      <td>False</td>\n",
              "      <td>True</td>\n",
              "      <td>False</td>\n",
              "      <td>True</td>\n",
              "      <td>False</td>\n",
              "      <td>True</td>\n",
              "      <td>False</td>\n",
              "      <td>True</td>\n",
              "      <td>False</td>\n",
              "      <td>True</td>\n",
              "      <td>False</td>\n",
              "      <td>True</td>\n",
              "      <td>False</td>\n",
              "      <td>True</td>\n",
              "      <td>False</td>\n",
              "      <td>True</td>\n",
              "      <td>False</td>\n",
              "      <td>False</td>\n",
              "      <td>False</td>\n",
              "      <td>False</td>\n",
              "      <td>False</td>\n",
              "      <td>True</td>\n",
              "      <td>False</td>\n",
              "      <td>False</td>\n",
              "      <td>False</td>\n",
              "      <td>False</td>\n",
              "      <td>False</td>\n",
              "      <td>False</td>\n",
              "      <td>True</td>\n",
              "      <td>False</td>\n",
              "      <td>False</td>\n",
              "      <td>0</td>\n",
              "      <td>0</td>\n",
              "      <td>0</td>\n",
              "      <td>0</td>\n",
              "      <td>0</td>\n",
              "      <td>0</td>\n",
              "      <td>0</td>\n",
              "      <td>0</td>\n",
              "      <td>0</td>\n",
              "      <td>0</td>\n",
              "      <td>0</td>\n",
              "      <td>0</td>\n",
              "      <td>0</td>\n",
              "      <td>0</td>\n",
              "      <td>1</td>\n",
              "      <td>2555.0</td>\n",
              "      <td>7864.0</td>\n",
              "      <td>2555.0</td>\n",
              "      <td>1470.0</td>\n",
              "      <td>0.028644</td>\n",
              "      <td>0.033024</td>\n",
              "      <td>26.0</td>\n",
              "      <td>1516.0</td>\n",
              "      <td>1.724138</td>\n",
              "      <td>2.78396</td>\n",
              "      <td>0</td>\n",
              "      <td>0</td>\n",
              "      <td>0</td>\n",
              "    </tr>\n",
              "    <tr>\n",
              "      <th>3</th>\n",
              "      <td>False</td>\n",
              "      <td>True</td>\n",
              "      <td>False</td>\n",
              "      <td>False</td>\n",
              "      <td>True</td>\n",
              "      <td>False</td>\n",
              "      <td>False</td>\n",
              "      <td>False</td>\n",
              "      <td>False</td>\n",
              "      <td>False</td>\n",
              "      <td>True</td>\n",
              "      <td>False</td>\n",
              "      <td>False</td>\n",
              "      <td>False</td>\n",
              "      <td>False</td>\n",
              "      <td>False</td>\n",
              "      <td>False</td>\n",
              "      <td>False</td>\n",
              "      <td>False</td>\n",
              "      <td>False</td>\n",
              "      <td>False</td>\n",
              "      <td>False</td>\n",
              "      <td>False</td>\n",
              "      <td>False</td>\n",
              "      <td>False</td>\n",
              "      <td>False</td>\n",
              "      <td>False</td>\n",
              "      <td>False</td>\n",
              "      <td>False</td>\n",
              "      <td>False</td>\n",
              "      <td>False</td>\n",
              "      <td>False</td>\n",
              "      <td>False</td>\n",
              "      <td>False</td>\n",
              "      <td>False</td>\n",
              "      <td>False</td>\n",
              "      <td>False</td>\n",
              "      <td>True</td>\n",
              "      <td>False</td>\n",
              "      <td>False</td>\n",
              "      <td>False</td>\n",
              "      <td>False</td>\n",
              "      <td>False</td>\n",
              "      <td>False</td>\n",
              "      <td>False</td>\n",
              "      <td>False</td>\n",
              "      <td>False</td>\n",
              "      <td>False</td>\n",
              "      <td>False</td>\n",
              "      <td>False</td>\n",
              "      <td>False</td>\n",
              "      <td>True</td>\n",
              "      <td>False</td>\n",
              "      <td>False</td>\n",
              "      <td>False</td>\n",
              "      <td>False</td>\n",
              "      <td>False</td>\n",
              "      <td>False</td>\n",
              "      <td>False</td>\n",
              "      <td>False</td>\n",
              "      <td>False</td>\n",
              "      <td>False</td>\n",
              "      <td>False</td>\n",
              "      <td>False</td>\n",
              "      <td>False</td>\n",
              "      <td>False</td>\n",
              "      <td>False</td>\n",
              "      <td>False</td>\n",
              "      <td>False</td>\n",
              "      <td>False</td>\n",
              "      <td>False</td>\n",
              "      <td>False</td>\n",
              "      <td>False</td>\n",
              "      <td>False</td>\n",
              "      <td>False</td>\n",
              "      <td>False</td>\n",
              "      <td>False</td>\n",
              "      <td>False</td>\n",
              "      <td>False</td>\n",
              "      <td>False</td>\n",
              "      <td>False</td>\n",
              "      <td>False</td>\n",
              "      <td>False</td>\n",
              "      <td>False</td>\n",
              "      <td>False</td>\n",
              "      <td>False</td>\n",
              "      <td>False</td>\n",
              "      <td>False</td>\n",
              "      <td>False</td>\n",
              "      <td>False</td>\n",
              "      <td>False</td>\n",
              "      <td>False</td>\n",
              "      <td>True</td>\n",
              "      <td>False</td>\n",
              "      <td>False</td>\n",
              "      <td>False</td>\n",
              "      <td>False</td>\n",
              "      <td>False</td>\n",
              "      <td>False</td>\n",
              "      <td>False</td>\n",
              "      <td>False</td>\n",
              "      <td>False</td>\n",
              "      <td>False</td>\n",
              "      <td>False</td>\n",
              "      <td>False</td>\n",
              "      <td>False</td>\n",
              "      <td>False</td>\n",
              "      <td>False</td>\n",
              "      <td>False</td>\n",
              "      <td>False</td>\n",
              "      <td>False</td>\n",
              "      <td>False</td>\n",
              "      <td>False</td>\n",
              "      <td>False</td>\n",
              "      <td>False</td>\n",
              "      <td>False</td>\n",
              "      <td>False</td>\n",
              "      <td>False</td>\n",
              "      <td>False</td>\n",
              "      <td>False</td>\n",
              "      <td>False</td>\n",
              "      <td>False</td>\n",
              "      <td>False</td>\n",
              "      <td>False</td>\n",
              "      <td>False</td>\n",
              "      <td>False</td>\n",
              "      <td>False</td>\n",
              "      <td>False</td>\n",
              "      <td>False</td>\n",
              "      <td>False</td>\n",
              "      <td>False</td>\n",
              "      <td>False</td>\n",
              "      <td>False</td>\n",
              "      <td>False</td>\n",
              "      <td>False</td>\n",
              "      <td>False</td>\n",
              "      <td>False</td>\n",
              "      <td>False</td>\n",
              "      <td>False</td>\n",
              "      <td>False</td>\n",
              "      <td>False</td>\n",
              "      <td>False</td>\n",
              "      <td>False</td>\n",
              "      <td>False</td>\n",
              "      <td>False</td>\n",
              "      <td>False</td>\n",
              "      <td>False</td>\n",
              "      <td>True</td>\n",
              "      <td>False</td>\n",
              "      <td>False</td>\n",
              "      <td>False</td>\n",
              "      <td>False</td>\n",
              "      <td>False</td>\n",
              "      <td>False</td>\n",
              "      <td>False</td>\n",
              "      <td>True</td>\n",
              "      <td>False</td>\n",
              "      <td>False</td>\n",
              "      <td>False</td>\n",
              "      <td>False</td>\n",
              "      <td>False</td>\n",
              "      <td>False</td>\n",
              "      <td>False</td>\n",
              "      <td>False</td>\n",
              "      <td>False</td>\n",
              "      <td>False</td>\n",
              "      <td>False</td>\n",
              "      <td>False</td>\n",
              "      <td>False</td>\n",
              "      <td>False</td>\n",
              "      <td>False</td>\n",
              "      <td>False</td>\n",
              "      <td>False</td>\n",
              "      <td>False</td>\n",
              "      <td>False</td>\n",
              "      <td>False</td>\n",
              "      <td>False</td>\n",
              "      <td>False</td>\n",
              "      <td>False</td>\n",
              "      <td>True</td>\n",
              "      <td>False</td>\n",
              "      <td>False</td>\n",
              "      <td>False</td>\n",
              "      <td>False</td>\n",
              "      <td>False</td>\n",
              "      <td>False</td>\n",
              "      <td>False</td>\n",
              "      <td>False</td>\n",
              "      <td>False</td>\n",
              "      <td>False</td>\n",
              "      <td>False</td>\n",
              "      <td>False</td>\n",
              "      <td>False</td>\n",
              "      <td>False</td>\n",
              "      <td>False</td>\n",
              "      <td>False</td>\n",
              "      <td>False</td>\n",
              "      <td>False</td>\n",
              "      <td>False</td>\n",
              "      <td>False</td>\n",
              "      <td>True</td>\n",
              "      <td>False</td>\n",
              "      <td>False</td>\n",
              "      <td>False</td>\n",
              "      <td>False</td>\n",
              "      <td>False</td>\n",
              "      <td>False</td>\n",
              "      <td>False</td>\n",
              "      <td>False</td>\n",
              "      <td>False</td>\n",
              "      <td>False</td>\n",
              "      <td>False</td>\n",
              "      <td>False</td>\n",
              "      <td>False</td>\n",
              "      <td>False</td>\n",
              "      <td>False</td>\n",
              "      <td>False</td>\n",
              "      <td>False</td>\n",
              "      <td>True</td>\n",
              "      <td>False</td>\n",
              "      <td>True</td>\n",
              "      <td>False</td>\n",
              "      <td>False</td>\n",
              "      <td>False</td>\n",
              "      <td>False</td>\n",
              "      <td>False</td>\n",
              "      <td>False</td>\n",
              "      <td>True</td>\n",
              "      <td>False</td>\n",
              "      <td>False</td>\n",
              "      <td>True</td>\n",
              "      <td>False</td>\n",
              "      <td>False</td>\n",
              "      <td>False</td>\n",
              "      <td>False</td>\n",
              "      <td>False</td>\n",
              "      <td>False</td>\n",
              "      <td>False</td>\n",
              "      <td>False</td>\n",
              "      <td>True</td>\n",
              "      <td>False</td>\n",
              "      <td>True</td>\n",
              "      <td>False</td>\n",
              "      <td>False</td>\n",
              "      <td>True</td>\n",
              "      <td>True</td>\n",
              "      <td>False</td>\n",
              "      <td>True</td>\n",
              "      <td>False</td>\n",
              "      <td>True</td>\n",
              "      <td>False</td>\n",
              "      <td>True</td>\n",
              "      <td>False</td>\n",
              "      <td>True</td>\n",
              "      <td>False</td>\n",
              "      <td>True</td>\n",
              "      <td>False</td>\n",
              "      <td>True</td>\n",
              "      <td>False</td>\n",
              "      <td>True</td>\n",
              "      <td>False</td>\n",
              "      <td>True</td>\n",
              "      <td>False</td>\n",
              "      <td>True</td>\n",
              "      <td>False</td>\n",
              "      <td>True</td>\n",
              "      <td>False</td>\n",
              "      <td>True</td>\n",
              "      <td>False</td>\n",
              "      <td>True</td>\n",
              "      <td>False</td>\n",
              "      <td>False</td>\n",
              "      <td>False</td>\n",
              "      <td>False</td>\n",
              "      <td>False</td>\n",
              "      <td>True</td>\n",
              "      <td>False</td>\n",
              "      <td>False</td>\n",
              "      <td>False</td>\n",
              "      <td>False</td>\n",
              "      <td>False</td>\n",
              "      <td>False</td>\n",
              "      <td>True</td>\n",
              "      <td>False</td>\n",
              "      <td>False</td>\n",
              "      <td>0</td>\n",
              "      <td>0</td>\n",
              "      <td>0</td>\n",
              "      <td>0</td>\n",
              "      <td>0</td>\n",
              "      <td>0</td>\n",
              "      <td>0</td>\n",
              "      <td>0</td>\n",
              "      <td>0</td>\n",
              "      <td>0</td>\n",
              "      <td>0</td>\n",
              "      <td>0</td>\n",
              "      <td>0</td>\n",
              "      <td>0</td>\n",
              "      <td>1</td>\n",
              "      <td>2555.0</td>\n",
              "      <td>7864.0</td>\n",
              "      <td>2555.0</td>\n",
              "      <td>1470.0</td>\n",
              "      <td>0.028644</td>\n",
              "      <td>0.033024</td>\n",
              "      <td>26.0</td>\n",
              "      <td>1516.0</td>\n",
              "      <td>1.724138</td>\n",
              "      <td>2.78396</td>\n",
              "      <td>0</td>\n",
              "      <td>0</td>\n",
              "      <td>0</td>\n",
              "    </tr>\n",
              "    <tr>\n",
              "      <th>4</th>\n",
              "      <td>False</td>\n",
              "      <td>True</td>\n",
              "      <td>False</td>\n",
              "      <td>False</td>\n",
              "      <td>True</td>\n",
              "      <td>False</td>\n",
              "      <td>False</td>\n",
              "      <td>False</td>\n",
              "      <td>False</td>\n",
              "      <td>False</td>\n",
              "      <td>True</td>\n",
              "      <td>False</td>\n",
              "      <td>False</td>\n",
              "      <td>False</td>\n",
              "      <td>False</td>\n",
              "      <td>False</td>\n",
              "      <td>False</td>\n",
              "      <td>False</td>\n",
              "      <td>False</td>\n",
              "      <td>False</td>\n",
              "      <td>False</td>\n",
              "      <td>False</td>\n",
              "      <td>False</td>\n",
              "      <td>False</td>\n",
              "      <td>False</td>\n",
              "      <td>False</td>\n",
              "      <td>False</td>\n",
              "      <td>False</td>\n",
              "      <td>False</td>\n",
              "      <td>False</td>\n",
              "      <td>False</td>\n",
              "      <td>False</td>\n",
              "      <td>False</td>\n",
              "      <td>False</td>\n",
              "      <td>False</td>\n",
              "      <td>False</td>\n",
              "      <td>False</td>\n",
              "      <td>True</td>\n",
              "      <td>False</td>\n",
              "      <td>False</td>\n",
              "      <td>False</td>\n",
              "      <td>False</td>\n",
              "      <td>False</td>\n",
              "      <td>False</td>\n",
              "      <td>False</td>\n",
              "      <td>False</td>\n",
              "      <td>False</td>\n",
              "      <td>False</td>\n",
              "      <td>False</td>\n",
              "      <td>False</td>\n",
              "      <td>False</td>\n",
              "      <td>True</td>\n",
              "      <td>False</td>\n",
              "      <td>False</td>\n",
              "      <td>False</td>\n",
              "      <td>False</td>\n",
              "      <td>False</td>\n",
              "      <td>False</td>\n",
              "      <td>False</td>\n",
              "      <td>False</td>\n",
              "      <td>False</td>\n",
              "      <td>False</td>\n",
              "      <td>False</td>\n",
              "      <td>False</td>\n",
              "      <td>False</td>\n",
              "      <td>False</td>\n",
              "      <td>False</td>\n",
              "      <td>False</td>\n",
              "      <td>False</td>\n",
              "      <td>False</td>\n",
              "      <td>False</td>\n",
              "      <td>False</td>\n",
              "      <td>False</td>\n",
              "      <td>False</td>\n",
              "      <td>False</td>\n",
              "      <td>False</td>\n",
              "      <td>False</td>\n",
              "      <td>False</td>\n",
              "      <td>False</td>\n",
              "      <td>False</td>\n",
              "      <td>False</td>\n",
              "      <td>False</td>\n",
              "      <td>False</td>\n",
              "      <td>False</td>\n",
              "      <td>False</td>\n",
              "      <td>False</td>\n",
              "      <td>False</td>\n",
              "      <td>False</td>\n",
              "      <td>False</td>\n",
              "      <td>False</td>\n",
              "      <td>False</td>\n",
              "      <td>False</td>\n",
              "      <td>True</td>\n",
              "      <td>False</td>\n",
              "      <td>False</td>\n",
              "      <td>False</td>\n",
              "      <td>False</td>\n",
              "      <td>False</td>\n",
              "      <td>False</td>\n",
              "      <td>False</td>\n",
              "      <td>False</td>\n",
              "      <td>False</td>\n",
              "      <td>False</td>\n",
              "      <td>False</td>\n",
              "      <td>False</td>\n",
              "      <td>False</td>\n",
              "      <td>False</td>\n",
              "      <td>False</td>\n",
              "      <td>False</td>\n",
              "      <td>False</td>\n",
              "      <td>False</td>\n",
              "      <td>False</td>\n",
              "      <td>False</td>\n",
              "      <td>False</td>\n",
              "      <td>False</td>\n",
              "      <td>False</td>\n",
              "      <td>False</td>\n",
              "      <td>False</td>\n",
              "      <td>False</td>\n",
              "      <td>False</td>\n",
              "      <td>False</td>\n",
              "      <td>False</td>\n",
              "      <td>False</td>\n",
              "      <td>False</td>\n",
              "      <td>False</td>\n",
              "      <td>False</td>\n",
              "      <td>False</td>\n",
              "      <td>False</td>\n",
              "      <td>False</td>\n",
              "      <td>False</td>\n",
              "      <td>False</td>\n",
              "      <td>False</td>\n",
              "      <td>False</td>\n",
              "      <td>False</td>\n",
              "      <td>False</td>\n",
              "      <td>False</td>\n",
              "      <td>False</td>\n",
              "      <td>False</td>\n",
              "      <td>False</td>\n",
              "      <td>False</td>\n",
              "      <td>False</td>\n",
              "      <td>False</td>\n",
              "      <td>False</td>\n",
              "      <td>False</td>\n",
              "      <td>False</td>\n",
              "      <td>False</td>\n",
              "      <td>False</td>\n",
              "      <td>True</td>\n",
              "      <td>False</td>\n",
              "      <td>False</td>\n",
              "      <td>False</td>\n",
              "      <td>False</td>\n",
              "      <td>False</td>\n",
              "      <td>False</td>\n",
              "      <td>False</td>\n",
              "      <td>True</td>\n",
              "      <td>False</td>\n",
              "      <td>False</td>\n",
              "      <td>False</td>\n",
              "      <td>False</td>\n",
              "      <td>False</td>\n",
              "      <td>False</td>\n",
              "      <td>False</td>\n",
              "      <td>False</td>\n",
              "      <td>False</td>\n",
              "      <td>False</td>\n",
              "      <td>False</td>\n",
              "      <td>False</td>\n",
              "      <td>False</td>\n",
              "      <td>False</td>\n",
              "      <td>False</td>\n",
              "      <td>False</td>\n",
              "      <td>False</td>\n",
              "      <td>False</td>\n",
              "      <td>False</td>\n",
              "      <td>False</td>\n",
              "      <td>False</td>\n",
              "      <td>False</td>\n",
              "      <td>False</td>\n",
              "      <td>True</td>\n",
              "      <td>False</td>\n",
              "      <td>False</td>\n",
              "      <td>False</td>\n",
              "      <td>False</td>\n",
              "      <td>False</td>\n",
              "      <td>False</td>\n",
              "      <td>False</td>\n",
              "      <td>False</td>\n",
              "      <td>False</td>\n",
              "      <td>False</td>\n",
              "      <td>False</td>\n",
              "      <td>False</td>\n",
              "      <td>False</td>\n",
              "      <td>False</td>\n",
              "      <td>False</td>\n",
              "      <td>False</td>\n",
              "      <td>False</td>\n",
              "      <td>False</td>\n",
              "      <td>False</td>\n",
              "      <td>False</td>\n",
              "      <td>True</td>\n",
              "      <td>False</td>\n",
              "      <td>False</td>\n",
              "      <td>False</td>\n",
              "      <td>False</td>\n",
              "      <td>False</td>\n",
              "      <td>False</td>\n",
              "      <td>False</td>\n",
              "      <td>False</td>\n",
              "      <td>False</td>\n",
              "      <td>False</td>\n",
              "      <td>False</td>\n",
              "      <td>False</td>\n",
              "      <td>False</td>\n",
              "      <td>False</td>\n",
              "      <td>False</td>\n",
              "      <td>False</td>\n",
              "      <td>False</td>\n",
              "      <td>True</td>\n",
              "      <td>False</td>\n",
              "      <td>True</td>\n",
              "      <td>False</td>\n",
              "      <td>False</td>\n",
              "      <td>False</td>\n",
              "      <td>False</td>\n",
              "      <td>False</td>\n",
              "      <td>False</td>\n",
              "      <td>True</td>\n",
              "      <td>False</td>\n",
              "      <td>False</td>\n",
              "      <td>True</td>\n",
              "      <td>False</td>\n",
              "      <td>False</td>\n",
              "      <td>False</td>\n",
              "      <td>False</td>\n",
              "      <td>False</td>\n",
              "      <td>False</td>\n",
              "      <td>False</td>\n",
              "      <td>False</td>\n",
              "      <td>True</td>\n",
              "      <td>False</td>\n",
              "      <td>True</td>\n",
              "      <td>False</td>\n",
              "      <td>False</td>\n",
              "      <td>True</td>\n",
              "      <td>True</td>\n",
              "      <td>False</td>\n",
              "      <td>True</td>\n",
              "      <td>False</td>\n",
              "      <td>True</td>\n",
              "      <td>False</td>\n",
              "      <td>True</td>\n",
              "      <td>False</td>\n",
              "      <td>True</td>\n",
              "      <td>False</td>\n",
              "      <td>True</td>\n",
              "      <td>False</td>\n",
              "      <td>True</td>\n",
              "      <td>False</td>\n",
              "      <td>True</td>\n",
              "      <td>False</td>\n",
              "      <td>True</td>\n",
              "      <td>False</td>\n",
              "      <td>True</td>\n",
              "      <td>False</td>\n",
              "      <td>True</td>\n",
              "      <td>False</td>\n",
              "      <td>True</td>\n",
              "      <td>False</td>\n",
              "      <td>True</td>\n",
              "      <td>False</td>\n",
              "      <td>False</td>\n",
              "      <td>False</td>\n",
              "      <td>False</td>\n",
              "      <td>False</td>\n",
              "      <td>True</td>\n",
              "      <td>False</td>\n",
              "      <td>False</td>\n",
              "      <td>False</td>\n",
              "      <td>False</td>\n",
              "      <td>False</td>\n",
              "      <td>False</td>\n",
              "      <td>True</td>\n",
              "      <td>False</td>\n",
              "      <td>False</td>\n",
              "      <td>0</td>\n",
              "      <td>0</td>\n",
              "      <td>0</td>\n",
              "      <td>0</td>\n",
              "      <td>0</td>\n",
              "      <td>0</td>\n",
              "      <td>0</td>\n",
              "      <td>0</td>\n",
              "      <td>0</td>\n",
              "      <td>0</td>\n",
              "      <td>0</td>\n",
              "      <td>0</td>\n",
              "      <td>0</td>\n",
              "      <td>0</td>\n",
              "      <td>1</td>\n",
              "      <td>2555.0</td>\n",
              "      <td>7864.0</td>\n",
              "      <td>2555.0</td>\n",
              "      <td>1470.0</td>\n",
              "      <td>0.028644</td>\n",
              "      <td>0.033024</td>\n",
              "      <td>26.0</td>\n",
              "      <td>1516.0</td>\n",
              "      <td>1.724138</td>\n",
              "      <td>2.78396</td>\n",
              "      <td>0</td>\n",
              "      <td>0</td>\n",
              "      <td>0</td>\n",
              "    </tr>\n",
              "  </tbody>\n",
              "</table>\n",
              "</div>\n",
              "    <div class=\"colab-df-buttons\">\n",
              "\n",
              "  <div class=\"colab-df-container\">\n",
              "    <button class=\"colab-df-convert\" onclick=\"convertToInteractive('df-02561af9-704a-41c6-b444-a1581afe178a')\"\n",
              "            title=\"Convert this dataframe to an interactive table.\"\n",
              "            style=\"display:none;\">\n",
              "\n",
              "  <svg xmlns=\"http://www.w3.org/2000/svg\" height=\"24px\" viewBox=\"0 -960 960 960\">\n",
              "    <path d=\"M120-120v-720h720v720H120Zm60-500h600v-160H180v160Zm220 220h160v-160H400v160Zm0 220h160v-160H400v160ZM180-400h160v-160H180v160Zm440 0h160v-160H620v160ZM180-180h160v-160H180v160Zm440 0h160v-160H620v160Z\"/>\n",
              "  </svg>\n",
              "    </button>\n",
              "\n",
              "  <style>\n",
              "    .colab-df-container {\n",
              "      display:flex;\n",
              "      gap: 12px;\n",
              "    }\n",
              "\n",
              "    .colab-df-convert {\n",
              "      background-color: #E8F0FE;\n",
              "      border: none;\n",
              "      border-radius: 50%;\n",
              "      cursor: pointer;\n",
              "      display: none;\n",
              "      fill: #1967D2;\n",
              "      height: 32px;\n",
              "      padding: 0 0 0 0;\n",
              "      width: 32px;\n",
              "    }\n",
              "\n",
              "    .colab-df-convert:hover {\n",
              "      background-color: #E2EBFA;\n",
              "      box-shadow: 0px 1px 2px rgba(60, 64, 67, 0.3), 0px 1px 3px 1px rgba(60, 64, 67, 0.15);\n",
              "      fill: #174EA6;\n",
              "    }\n",
              "\n",
              "    .colab-df-buttons div {\n",
              "      margin-bottom: 4px;\n",
              "    }\n",
              "\n",
              "    [theme=dark] .colab-df-convert {\n",
              "      background-color: #3B4455;\n",
              "      fill: #D2E3FC;\n",
              "    }\n",
              "\n",
              "    [theme=dark] .colab-df-convert:hover {\n",
              "      background-color: #434B5C;\n",
              "      box-shadow: 0px 1px 3px 1px rgba(0, 0, 0, 0.15);\n",
              "      filter: drop-shadow(0px 1px 2px rgba(0, 0, 0, 0.3));\n",
              "      fill: #FFFFFF;\n",
              "    }\n",
              "  </style>\n",
              "\n",
              "    <script>\n",
              "      const buttonEl =\n",
              "        document.querySelector('#df-02561af9-704a-41c6-b444-a1581afe178a button.colab-df-convert');\n",
              "      buttonEl.style.display =\n",
              "        google.colab.kernel.accessAllowed ? 'block' : 'none';\n",
              "\n",
              "      async function convertToInteractive(key) {\n",
              "        const element = document.querySelector('#df-02561af9-704a-41c6-b444-a1581afe178a');\n",
              "        const dataTable =\n",
              "          await google.colab.kernel.invokeFunction('convertToInteractive',\n",
              "                                                    [key], {});\n",
              "        if (!dataTable) return;\n",
              "\n",
              "        const docLinkHtml = 'Like what you see? Visit the ' +\n",
              "          '<a target=\"_blank\" href=https://colab.research.google.com/notebooks/data_table.ipynb>data table notebook</a>'\n",
              "          + ' to learn more about interactive tables.';\n",
              "        element.innerHTML = '';\n",
              "        dataTable['output_type'] = 'display_data';\n",
              "        await google.colab.output.renderOutput(dataTable, element);\n",
              "        const docLink = document.createElement('div');\n",
              "        docLink.innerHTML = docLinkHtml;\n",
              "        element.appendChild(docLink);\n",
              "      }\n",
              "    </script>\n",
              "  </div>\n",
              "\n",
              "\n",
              "<div id=\"df-b3f648b7-58b9-4d4c-8e7e-d983cddcc7af\">\n",
              "  <button class=\"colab-df-quickchart\" onclick=\"quickchart('df-b3f648b7-58b9-4d4c-8e7e-d983cddcc7af')\"\n",
              "            title=\"Suggest charts\"\n",
              "            style=\"display:none;\">\n",
              "\n",
              "<svg xmlns=\"http://www.w3.org/2000/svg\" height=\"24px\"viewBox=\"0 0 24 24\"\n",
              "     width=\"24px\">\n",
              "    <g>\n",
              "        <path d=\"M19 3H5c-1.1 0-2 .9-2 2v14c0 1.1.9 2 2 2h14c1.1 0 2-.9 2-2V5c0-1.1-.9-2-2-2zM9 17H7v-7h2v7zm4 0h-2V7h2v10zm4 0h-2v-4h2v4z\"/>\n",
              "    </g>\n",
              "</svg>\n",
              "  </button>\n",
              "\n",
              "<style>\n",
              "  .colab-df-quickchart {\n",
              "      --bg-color: #E8F0FE;\n",
              "      --fill-color: #1967D2;\n",
              "      --hover-bg-color: #E2EBFA;\n",
              "      --hover-fill-color: #174EA6;\n",
              "      --disabled-fill-color: #AAA;\n",
              "      --disabled-bg-color: #DDD;\n",
              "  }\n",
              "\n",
              "  [theme=dark] .colab-df-quickchart {\n",
              "      --bg-color: #3B4455;\n",
              "      --fill-color: #D2E3FC;\n",
              "      --hover-bg-color: #434B5C;\n",
              "      --hover-fill-color: #FFFFFF;\n",
              "      --disabled-bg-color: #3B4455;\n",
              "      --disabled-fill-color: #666;\n",
              "  }\n",
              "\n",
              "  .colab-df-quickchart {\n",
              "    background-color: var(--bg-color);\n",
              "    border: none;\n",
              "    border-radius: 50%;\n",
              "    cursor: pointer;\n",
              "    display: none;\n",
              "    fill: var(--fill-color);\n",
              "    height: 32px;\n",
              "    padding: 0;\n",
              "    width: 32px;\n",
              "  }\n",
              "\n",
              "  .colab-df-quickchart:hover {\n",
              "    background-color: var(--hover-bg-color);\n",
              "    box-shadow: 0 1px 2px rgba(60, 64, 67, 0.3), 0 1px 3px 1px rgba(60, 64, 67, 0.15);\n",
              "    fill: var(--button-hover-fill-color);\n",
              "  }\n",
              "\n",
              "  .colab-df-quickchart-complete:disabled,\n",
              "  .colab-df-quickchart-complete:disabled:hover {\n",
              "    background-color: var(--disabled-bg-color);\n",
              "    fill: var(--disabled-fill-color);\n",
              "    box-shadow: none;\n",
              "  }\n",
              "\n",
              "  .colab-df-spinner {\n",
              "    border: 2px solid var(--fill-color);\n",
              "    border-color: transparent;\n",
              "    border-bottom-color: var(--fill-color);\n",
              "    animation:\n",
              "      spin 1s steps(1) infinite;\n",
              "  }\n",
              "\n",
              "  @keyframes spin {\n",
              "    0% {\n",
              "      border-color: transparent;\n",
              "      border-bottom-color: var(--fill-color);\n",
              "      border-left-color: var(--fill-color);\n",
              "    }\n",
              "    20% {\n",
              "      border-color: transparent;\n",
              "      border-left-color: var(--fill-color);\n",
              "      border-top-color: var(--fill-color);\n",
              "    }\n",
              "    30% {\n",
              "      border-color: transparent;\n",
              "      border-left-color: var(--fill-color);\n",
              "      border-top-color: var(--fill-color);\n",
              "      border-right-color: var(--fill-color);\n",
              "    }\n",
              "    40% {\n",
              "      border-color: transparent;\n",
              "      border-right-color: var(--fill-color);\n",
              "      border-top-color: var(--fill-color);\n",
              "    }\n",
              "    60% {\n",
              "      border-color: transparent;\n",
              "      border-right-color: var(--fill-color);\n",
              "    }\n",
              "    80% {\n",
              "      border-color: transparent;\n",
              "      border-right-color: var(--fill-color);\n",
              "      border-bottom-color: var(--fill-color);\n",
              "    }\n",
              "    90% {\n",
              "      border-color: transparent;\n",
              "      border-bottom-color: var(--fill-color);\n",
              "    }\n",
              "  }\n",
              "</style>\n",
              "\n",
              "  <script>\n",
              "    async function quickchart(key) {\n",
              "      const quickchartButtonEl =\n",
              "        document.querySelector('#' + key + ' button');\n",
              "      quickchartButtonEl.disabled = true;  // To prevent multiple clicks.\n",
              "      quickchartButtonEl.classList.add('colab-df-spinner');\n",
              "      try {\n",
              "        const charts = await google.colab.kernel.invokeFunction(\n",
              "            'suggestCharts', [key], {});\n",
              "      } catch (error) {\n",
              "        console.error('Error during call to suggestCharts:', error);\n",
              "      }\n",
              "      quickchartButtonEl.classList.remove('colab-df-spinner');\n",
              "      quickchartButtonEl.classList.add('colab-df-quickchart-complete');\n",
              "    }\n",
              "    (() => {\n",
              "      let quickchartButtonEl =\n",
              "        document.querySelector('#df-b3f648b7-58b9-4d4c-8e7e-d983cddcc7af button');\n",
              "      quickchartButtonEl.style.display =\n",
              "        google.colab.kernel.accessAllowed ? 'block' : 'none';\n",
              "    })();\n",
              "  </script>\n",
              "</div>\n",
              "\n",
              "    </div>\n",
              "  </div>\n"
            ],
            "application/vnd.google.colaboratory.intrinsic+json": {
              "type": "dataframe"
            }
          },
          "metadata": {}
        }
      ],
      "source": [
        "# Ajustar la configuración de pandas para mostrar todas las columnas\n",
        "pd.set_option('display.max_columns', None)\n",
        "# Mostrar las primeras filas del dataframe\n",
        "display(df_unidoLDG_encoded.head())"
      ]
    },
    {
      "cell_type": "markdown",
      "metadata": {
        "id": "g9ZXf3X0LnqT"
      },
      "source": [
        "#**Avance 4. Modelos alternativos**"
      ]
    },
    {
      "cell_type": "markdown",
      "source": [
        "##6 Modelos"
      ],
      "metadata": {
        "id": "jQH6m1Qsgofc"
      }
    },
    {
      "cell_type": "markdown",
      "source": [
        "Se construyeron 6 modelos diferentes que ejecutamos para cada una de las variables objetivo definidas en nuestro proyecto ('es_LDGincubadora', 'es_Voluntariado', 'es_HistoriaExito').\n",
        "\n",
        "De los cuales evaluaremos su rendimiento mediante métricas clave, como **accuracy**, **F1-score** y **recall**.\n",
        "Siendo Accuracy la métrica principal y considerando los **tiempos de entrenamiento**.\n",
        "\n",
        "Los modelos a utilizar son:\n",
        "\n",
        "**Random Forest:** Modelo basado en múltiples árboles de decisión que mejora la precisión al promediar predicciones, ideal para capturar relaciones complejas en los datos.\n",
        "\n",
        "**K-Nearest Neighbors** (KNN): Clasificador que predice la clase de una observación en función de sus vecinos más cercanos en el espacio de características, útil en problemas donde la cercanía de los datos es relevante.\n",
        "\n",
        "**Ridge:** Modelo de regresión lineal con regularización que ayuda a controlar el sobreajuste al penalizar coeficientes altos, ideal para manejar datos con colinealidad.\n",
        "\n",
        "**Lasso:** Similar a Ridge, este modelo de regresión lineal agrega regularización para reducir coeficientes a cero en algunos casos, ayudando en la selección de características relevantes.\n",
        "\n",
        "**Decision Tree:** Algoritmo de clasificación que utiliza una estructura de árbol para dividir los datos en función de características, fácil de interpretar y capaz de captar relaciones complejas.\n",
        "\n",
        "**Regresión Logística:** Modelo estadístico de clasificación que estima la probabilidad de que una observación pertenezca a una clase específica, ideal para problemas de clasificación binaria.\n"
      ],
      "metadata": {
        "id": "PfMa3zA1emp5"
      }
    },
    {
      "cell_type": "markdown",
      "metadata": {
        "id": "GlihHfHXLxTB"
      },
      "source": [
        "###Random Forest 3 variables objetivo"
      ]
    },
    {
      "cell_type": "code",
      "source": [
        "# Importar librerías necesarias\n",
        "from sklearn.model_selection import train_test_split\n",
        "from sklearn.ensemble import RandomForestClassifier\n",
        "from sklearn.metrics import accuracy_score, classification_report, f1_score, recall_score\n",
        "import time\n",
        "from IPython.display import display\n",
        "\n",
        "# Lista de variables objetivo\n",
        "objective_variables = ['es_LDGincubadora', 'es_Voluntariado', 'es_HistoriaExito']\n",
        "\n",
        "# Iterar sobre cada variable objetivo\n",
        "for objective in objective_variables:\n",
        "    display(f\"\\nResultados para el modelo con variable objetivo '{objective}':\")\n",
        "\n",
        "    # Separar las variables predictoras (X) y la variable objetivo (y)\n",
        "    X = df_unidoLDG_encoded.drop(columns=objective_variables)\n",
        "    y = df_unidoLDG_encoded[objective]\n",
        "\n",
        "    # División de los datos en conjunto de entrenamiento y prueba\n",
        "    X_train, X_test, y_train, y_test = train_test_split(X, y, test_size=0.2, random_state=42)\n",
        "\n",
        "    # Medir el tiempo de entrenamiento\n",
        "    start_time = time.time()\n",
        "\n",
        "    # Crear y entrenar el modelo de Random Forest con una profundidad máxima de 3\n",
        "    model = RandomForestClassifier(n_estimators=100, max_depth=3, random_state=42)\n",
        "    model.fit(X_train, y_train)\n",
        "\n",
        "    # Calcular el tiempo de entrenamiento\n",
        "    training_time = time.time() - start_time\n",
        "\n",
        "    # Predicciones en el conjunto de prueba\n",
        "    y_pred = model.predict(X_test)\n",
        "\n",
        "    # Evaluar el rendimiento\n",
        "    accuracy = accuracy_score(y_test, y_pred)\n",
        "    f1 = f1_score(y_test, y_pred, average='weighted')\n",
        "    recall = recall_score(y_test, y_pred, average='weighted')\n",
        "\n",
        "    # Mostrar los resultados\n",
        "    display(f\"Tiempo de entrenamiento del modelo: {training_time:.2f} segundos\")\n",
        "    display(f\"Accuracy del modelo Random Forest con max_depth=3 para '{objective}': {accuracy:.4f}\")\n",
        "    display(f\"F1-Score del modelo: {f1:.4f}\")\n",
        "    display(f\"Recall del modelo: {recall:.4f}\")\n",
        "    display(\"\\nReporte de clasificación completo:\")\n",
        "    display(classification_report(y_test, y_pred))"
      ],
      "metadata": {
        "colab": {
          "base_uri": "https://localhost:8080/",
          "height": 504
        },
        "id": "Eos29oan7iQX",
        "outputId": "930cfeca-1156-4b2b-b579-7afb7ce72b52"
      },
      "execution_count": 17,
      "outputs": [
        {
          "output_type": "display_data",
          "data": {
            "text/plain": [
              "\"\\nResultados para el modelo con variable objetivo 'es_LDGincubadora':\""
            ],
            "application/vnd.google.colaboratory.intrinsic+json": {
              "type": "string"
            }
          },
          "metadata": {}
        },
        {
          "output_type": "display_data",
          "data": {
            "text/plain": [
              "'Tiempo de entrenamiento del modelo: 10.92 segundos'"
            ],
            "application/vnd.google.colaboratory.intrinsic+json": {
              "type": "string"
            }
          },
          "metadata": {}
        },
        {
          "output_type": "display_data",
          "data": {
            "text/plain": [
              "\"Accuracy del modelo Random Forest con max_depth=3 para 'es_LDGincubadora': 0.9003\""
            ],
            "application/vnd.google.colaboratory.intrinsic+json": {
              "type": "string"
            }
          },
          "metadata": {}
        },
        {
          "output_type": "display_data",
          "data": {
            "text/plain": [
              "'F1-Score del modelo: 0.8990'"
            ],
            "application/vnd.google.colaboratory.intrinsic+json": {
              "type": "string"
            }
          },
          "metadata": {}
        },
        {
          "output_type": "display_data",
          "data": {
            "text/plain": [
              "'Recall del modelo: 0.9003'"
            ],
            "application/vnd.google.colaboratory.intrinsic+json": {
              "type": "string"
            }
          },
          "metadata": {}
        },
        {
          "output_type": "display_data",
          "data": {
            "text/plain": [
              "'\\nReporte de clasificación completo:'"
            ],
            "application/vnd.google.colaboratory.intrinsic+json": {
              "type": "string"
            }
          },
          "metadata": {}
        },
        {
          "output_type": "display_data",
          "data": {
            "text/plain": [
              "'              precision    recall  f1-score   support\\n\\n           0       0.87      0.96      0.92     38723\\n           1       0.94      0.81      0.87     28752\\n\\n    accuracy                           0.90     67475\\n   macro avg       0.91      0.89      0.90     67475\\nweighted avg       0.90      0.90      0.90     67475\\n'"
            ],
            "application/vnd.google.colaboratory.intrinsic+json": {
              "type": "string"
            }
          },
          "metadata": {}
        },
        {
          "output_type": "display_data",
          "data": {
            "text/plain": [
              "\"\\nResultados para el modelo con variable objetivo 'es_Voluntariado':\""
            ],
            "application/vnd.google.colaboratory.intrinsic+json": {
              "type": "string"
            }
          },
          "metadata": {}
        },
        {
          "output_type": "display_data",
          "data": {
            "text/plain": [
              "'Tiempo de entrenamiento del modelo: 10.92 segundos'"
            ],
            "application/vnd.google.colaboratory.intrinsic+json": {
              "type": "string"
            }
          },
          "metadata": {}
        },
        {
          "output_type": "display_data",
          "data": {
            "text/plain": [
              "\"Accuracy del modelo Random Forest con max_depth=3 para 'es_Voluntariado': 0.9003\""
            ],
            "application/vnd.google.colaboratory.intrinsic+json": {
              "type": "string"
            }
          },
          "metadata": {}
        },
        {
          "output_type": "display_data",
          "data": {
            "text/plain": [
              "'F1-Score del modelo: 0.8980'"
            ],
            "application/vnd.google.colaboratory.intrinsic+json": {
              "type": "string"
            }
          },
          "metadata": {}
        },
        {
          "output_type": "display_data",
          "data": {
            "text/plain": [
              "'Recall del modelo: 0.9003'"
            ],
            "application/vnd.google.colaboratory.intrinsic+json": {
              "type": "string"
            }
          },
          "metadata": {}
        },
        {
          "output_type": "display_data",
          "data": {
            "text/plain": [
              "'\\nReporte de clasificación completo:'"
            ],
            "application/vnd.google.colaboratory.intrinsic+json": {
              "type": "string"
            }
          },
          "metadata": {}
        },
        {
          "output_type": "display_data",
          "data": {
            "text/plain": [
              "'              precision    recall  f1-score   support\\n\\n           0       0.86      0.99      0.92     38609\\n           1       0.99      0.77      0.87     28866\\n\\n    accuracy                           0.90     67475\\n   macro avg       0.92      0.88      0.89     67475\\nweighted avg       0.91      0.90      0.90     67475\\n'"
            ],
            "application/vnd.google.colaboratory.intrinsic+json": {
              "type": "string"
            }
          },
          "metadata": {}
        },
        {
          "output_type": "display_data",
          "data": {
            "text/plain": [
              "\"\\nResultados para el modelo con variable objetivo 'es_HistoriaExito':\""
            ],
            "application/vnd.google.colaboratory.intrinsic+json": {
              "type": "string"
            }
          },
          "metadata": {}
        },
        {
          "output_type": "display_data",
          "data": {
            "text/plain": [
              "'Tiempo de entrenamiento del modelo: 11.66 segundos'"
            ],
            "application/vnd.google.colaboratory.intrinsic+json": {
              "type": "string"
            }
          },
          "metadata": {}
        },
        {
          "output_type": "display_data",
          "data": {
            "text/plain": [
              "\"Accuracy del modelo Random Forest con max_depth=3 para 'es_HistoriaExito': 0.9024\""
            ],
            "application/vnd.google.colaboratory.intrinsic+json": {
              "type": "string"
            }
          },
          "metadata": {}
        },
        {
          "output_type": "display_data",
          "data": {
            "text/plain": [
              "'F1-Score del modelo: 0.9000'"
            ],
            "application/vnd.google.colaboratory.intrinsic+json": {
              "type": "string"
            }
          },
          "metadata": {}
        },
        {
          "output_type": "display_data",
          "data": {
            "text/plain": [
              "'Recall del modelo: 0.9024'"
            ],
            "application/vnd.google.colaboratory.intrinsic+json": {
              "type": "string"
            }
          },
          "metadata": {}
        },
        {
          "output_type": "display_data",
          "data": {
            "text/plain": [
              "'\\nReporte de clasificación completo:'"
            ],
            "application/vnd.google.colaboratory.intrinsic+json": {
              "type": "string"
            }
          },
          "metadata": {}
        },
        {
          "output_type": "display_data",
          "data": {
            "text/plain": [
              "'              precision    recall  f1-score   support\\n\\n           0       0.85      1.00      0.92     38381\\n           1       1.00      0.77      0.87     29094\\n\\n    accuracy                           0.90     67475\\n   macro avg       0.93      0.89      0.90     67475\\nweighted avg       0.92      0.90      0.90     67475\\n'"
            ],
            "application/vnd.google.colaboratory.intrinsic+json": {
              "type": "string"
            }
          },
          "metadata": {}
        }
      ]
    },
    {
      "cell_type": "markdown",
      "metadata": {
        "id": "Paeyuh-WObQI"
      },
      "source": [
        "###KNN 3 variables objetivo"
      ]
    },
    {
      "cell_type": "code",
      "source": [
        "# Importar las librerías necesarias\n",
        "from sklearn.neighbors import KNeighborsClassifier\n",
        "from sklearn.model_selection import train_test_split\n",
        "from sklearn.metrics import accuracy_score, classification_report, f1_score, recall_score\n",
        "import time\n",
        "from IPython.display import display\n",
        "\n",
        "# Lista de variables objetivo\n",
        "objective_variables = ['es_LDGincubadora', 'es_Voluntariado', 'es_HistoriaExito']\n",
        "\n",
        "# Iterar sobre cada variable objetivo\n",
        "for objective in objective_variables:\n",
        "    display(f\"\\nResultados para el modelo con variable objetivo '{objective}':\")\n",
        "\n",
        "    # Separar las variables predictoras (X) y la variable objetivo (y)\n",
        "    X = df_unidoLDG_encoded.drop(columns=objective_variables)\n",
        "    y = df_unidoLDG_encoded[objective]\n",
        "\n",
        "    # División de los datos en conjunto de entrenamiento y prueba\n",
        "    X_train, X_test, y_train, y_test = train_test_split(X, y, test_size=0.2, random_state=42)\n",
        "\n",
        "    # Medir el tiempo de entrenamiento\n",
        "    start_time = time.time()\n",
        "\n",
        "    # Crear y entrenar el modelo KNN\n",
        "    knn_model = KNeighborsClassifier(n_neighbors=3, algorithm='ball_tree')\n",
        "    knn_model.fit(X_train, y_train)\n",
        "\n",
        "    # Calcular el tiempo de entrenamiento\n",
        "    training_time = time.time() - start_time\n",
        "\n",
        "    # Predicciones en el conjunto de prueba\n",
        "    y_pred = knn_model.predict(X_test)\n",
        "\n",
        "    # Evaluar el rendimiento\n",
        "    accuracy = accuracy_score(y_test, y_pred)\n",
        "    f1 = f1_score(y_test, y_pred, average='weighted')\n",
        "    recall = recall_score(y_test, y_pred, average='weighted')\n",
        "\n",
        "    # Mostrar los resultados\n",
        "    display(f\"Tiempo de entrenamiento del modelo: {training_time:.2f} segundos\")\n",
        "    display(f\"Accuracy del modelo KNN para '{objective}': {accuracy:.4f}\")\n",
        "    display(f\"F1-Score del modelo: {f1:.4f}\")\n",
        "    display(f\"Recall del modelo: {recall:.4f}\")\n",
        "    display(\"\\nReporte de clasificación completo:\")\n",
        "    display(classification_report(y_test, y_pred))"
      ],
      "metadata": {
        "colab": {
          "base_uri": "https://localhost:8080/",
          "height": 504
        },
        "id": "FFCXs1Ke8Sc9",
        "outputId": "6ad640c2-6927-4700-afbc-eef98571550b"
      },
      "execution_count": 16,
      "outputs": [
        {
          "output_type": "display_data",
          "data": {
            "text/plain": [
              "\"\\nResultados para el modelo con variable objetivo 'es_LDGincubadora':\""
            ],
            "application/vnd.google.colaboratory.intrinsic+json": {
              "type": "string"
            }
          },
          "metadata": {}
        },
        {
          "output_type": "display_data",
          "data": {
            "text/plain": [
              "'Tiempo de entrenamiento del modelo: 19.42 segundos'"
            ],
            "application/vnd.google.colaboratory.intrinsic+json": {
              "type": "string"
            }
          },
          "metadata": {}
        },
        {
          "output_type": "display_data",
          "data": {
            "text/plain": [
              "\"Accuracy del modelo KNN para 'es_LDGincubadora': 0.9999\""
            ],
            "application/vnd.google.colaboratory.intrinsic+json": {
              "type": "string"
            }
          },
          "metadata": {}
        },
        {
          "output_type": "display_data",
          "data": {
            "text/plain": [
              "'F1-Score del modelo: 0.9999'"
            ],
            "application/vnd.google.colaboratory.intrinsic+json": {
              "type": "string"
            }
          },
          "metadata": {}
        },
        {
          "output_type": "display_data",
          "data": {
            "text/plain": [
              "'Recall del modelo: 0.9999'"
            ],
            "application/vnd.google.colaboratory.intrinsic+json": {
              "type": "string"
            }
          },
          "metadata": {}
        },
        {
          "output_type": "display_data",
          "data": {
            "text/plain": [
              "'\\nReporte de clasificación completo:'"
            ],
            "application/vnd.google.colaboratory.intrinsic+json": {
              "type": "string"
            }
          },
          "metadata": {}
        },
        {
          "output_type": "display_data",
          "data": {
            "text/plain": [
              "'              precision    recall  f1-score   support\\n\\n           0       1.00      1.00      1.00     38723\\n           1       1.00      1.00      1.00     28752\\n\\n    accuracy                           1.00     67475\\n   macro avg       1.00      1.00      1.00     67475\\nweighted avg       1.00      1.00      1.00     67475\\n'"
            ],
            "application/vnd.google.colaboratory.intrinsic+json": {
              "type": "string"
            }
          },
          "metadata": {}
        },
        {
          "output_type": "display_data",
          "data": {
            "text/plain": [
              "\"\\nResultados para el modelo con variable objetivo 'es_Voluntariado':\""
            ],
            "application/vnd.google.colaboratory.intrinsic+json": {
              "type": "string"
            }
          },
          "metadata": {}
        },
        {
          "output_type": "display_data",
          "data": {
            "text/plain": [
              "'Tiempo de entrenamiento del modelo: 17.88 segundos'"
            ],
            "application/vnd.google.colaboratory.intrinsic+json": {
              "type": "string"
            }
          },
          "metadata": {}
        },
        {
          "output_type": "display_data",
          "data": {
            "text/plain": [
              "\"Accuracy del modelo KNN para 'es_Voluntariado': 0.9999\""
            ],
            "application/vnd.google.colaboratory.intrinsic+json": {
              "type": "string"
            }
          },
          "metadata": {}
        },
        {
          "output_type": "display_data",
          "data": {
            "text/plain": [
              "'F1-Score del modelo: 0.9999'"
            ],
            "application/vnd.google.colaboratory.intrinsic+json": {
              "type": "string"
            }
          },
          "metadata": {}
        },
        {
          "output_type": "display_data",
          "data": {
            "text/plain": [
              "'Recall del modelo: 0.9999'"
            ],
            "application/vnd.google.colaboratory.intrinsic+json": {
              "type": "string"
            }
          },
          "metadata": {}
        },
        {
          "output_type": "display_data",
          "data": {
            "text/plain": [
              "'\\nReporte de clasificación completo:'"
            ],
            "application/vnd.google.colaboratory.intrinsic+json": {
              "type": "string"
            }
          },
          "metadata": {}
        },
        {
          "output_type": "display_data",
          "data": {
            "text/plain": [
              "'              precision    recall  f1-score   support\\n\\n           0       1.00      1.00      1.00     38609\\n           1       1.00      1.00      1.00     28866\\n\\n    accuracy                           1.00     67475\\n   macro avg       1.00      1.00      1.00     67475\\nweighted avg       1.00      1.00      1.00     67475\\n'"
            ],
            "application/vnd.google.colaboratory.intrinsic+json": {
              "type": "string"
            }
          },
          "metadata": {}
        },
        {
          "output_type": "display_data",
          "data": {
            "text/plain": [
              "\"\\nResultados para el modelo con variable objetivo 'es_HistoriaExito':\""
            ],
            "application/vnd.google.colaboratory.intrinsic+json": {
              "type": "string"
            }
          },
          "metadata": {}
        },
        {
          "output_type": "display_data",
          "data": {
            "text/plain": [
              "'Tiempo de entrenamiento del modelo: 19.00 segundos'"
            ],
            "application/vnd.google.colaboratory.intrinsic+json": {
              "type": "string"
            }
          },
          "metadata": {}
        },
        {
          "output_type": "display_data",
          "data": {
            "text/plain": [
              "\"Accuracy del modelo KNN para 'es_HistoriaExito': 1.0000\""
            ],
            "application/vnd.google.colaboratory.intrinsic+json": {
              "type": "string"
            }
          },
          "metadata": {}
        },
        {
          "output_type": "display_data",
          "data": {
            "text/plain": [
              "'F1-Score del modelo: 1.0000'"
            ],
            "application/vnd.google.colaboratory.intrinsic+json": {
              "type": "string"
            }
          },
          "metadata": {}
        },
        {
          "output_type": "display_data",
          "data": {
            "text/plain": [
              "'Recall del modelo: 1.0000'"
            ],
            "application/vnd.google.colaboratory.intrinsic+json": {
              "type": "string"
            }
          },
          "metadata": {}
        },
        {
          "output_type": "display_data",
          "data": {
            "text/plain": [
              "'\\nReporte de clasificación completo:'"
            ],
            "application/vnd.google.colaboratory.intrinsic+json": {
              "type": "string"
            }
          },
          "metadata": {}
        },
        {
          "output_type": "display_data",
          "data": {
            "text/plain": [
              "'              precision    recall  f1-score   support\\n\\n           0       1.00      1.00      1.00     38381\\n           1       1.00      1.00      1.00     29094\\n\\n    accuracy                           1.00     67475\\n   macro avg       1.00      1.00      1.00     67475\\nweighted avg       1.00      1.00      1.00     67475\\n'"
            ],
            "application/vnd.google.colaboratory.intrinsic+json": {
              "type": "string"
            }
          },
          "metadata": {}
        }
      ]
    },
    {
      "cell_type": "markdown",
      "metadata": {
        "id": "_L9bt9PXXGVg"
      },
      "source": [
        "###Ridge 3 variables objetivo"
      ]
    },
    {
      "cell_type": "code",
      "source": [
        "# Importar las librerías necesarias\n",
        "from sklearn.linear_model import Ridge\n",
        "from sklearn.model_selection import train_test_split\n",
        "from sklearn.metrics import accuracy_score, f1_score, recall_score, classification_report\n",
        "import time\n",
        "import numpy as np\n",
        "from IPython.display import display\n",
        "\n",
        "# Lista de variables objetivo\n",
        "objective_variables = ['es_LDGincubadora', 'es_Voluntariado', 'es_HistoriaExito']\n",
        "\n",
        "# Iterar sobre cada variable objetivo\n",
        "for objective in objective_variables:\n",
        "    display(f\"\\nResultados para el modelo con variable objetivo '{objective}':\")\n",
        "\n",
        "    # Separar las variables predictoras (X) y la variable objetivo (y)\n",
        "    X = df_unidoLDG_encoded.drop(columns=objective_variables)\n",
        "    y = df_unidoLDG_encoded[objective]\n",
        "\n",
        "    # División de los datos en conjunto de entrenamiento y prueba\n",
        "    X_train, X_test, y_train, y_test = train_test_split(X, y, test_size=0.2, random_state=42)\n",
        "\n",
        "    # Medir el tiempo de entrenamiento\n",
        "    start_time = time.time()\n",
        "\n",
        "    # Crear y entrenar el modelo de Ridge\n",
        "    ridge_model = Ridge(alpha=1.0)  # Ajusta alpha según sea necesario\n",
        "    ridge_model.fit(X_train, y_train)\n",
        "\n",
        "    # Calcular el tiempo de entrenamiento\n",
        "    training_time = time.time() - start_time\n",
        "\n",
        "    # Predicciones en el conjunto de prueba\n",
        "    y_pred = ridge_model.predict(X_test)\n",
        "\n",
        "    # Convertir las predicciones continuas en clases binarias (0 o 1)\n",
        "    y_pred_class = np.where(y_pred >= 0.5, 1, 0)\n",
        "\n",
        "    # Evaluar el rendimiento\n",
        "    accuracy = accuracy_score(y_test, y_pred_class)\n",
        "    f1 = f1_score(y_test, y_pred_class, average='weighted')\n",
        "    recall = recall_score(y_test, y_pred_class, average='weighted')\n",
        "\n",
        "    # Mostrar los resultados\n",
        "    display(f\"Tiempo de entrenamiento del modelo: {training_time:.2f} segundos\")\n",
        "    display(f\"Accuracy del modelo Ridge para '{objective}': {accuracy:.4f}\")\n",
        "    display(f\"F1-Score del modelo: {f1:.4f}\")\n",
        "    display(f\"Recall del modelo: {recall:.4f}\")\n",
        "    display(\"\\nReporte de clasificación completo:\")\n",
        "    display(classification_report(y_test, y_pred_class))\n"
      ],
      "metadata": {
        "colab": {
          "base_uri": "https://localhost:8080/",
          "height": 456
        },
        "id": "aWRNO41Y-Z9Q",
        "outputId": "28dd3625-294a-4095-b110-1a612b3650a7"
      },
      "execution_count": null,
      "outputs": [
        {
          "output_type": "display_data",
          "data": {
            "text/plain": [
              "\"\\nResultados para el modelo con variable objetivo 'es_LDGincubadora':\""
            ],
            "application/vnd.google.colaboratory.intrinsic+json": {
              "type": "string"
            }
          },
          "metadata": {}
        },
        {
          "output_type": "display_data",
          "data": {
            "text/plain": [
              "'Tiempo de entrenamiento del modelo: 3.61 segundos'"
            ],
            "application/vnd.google.colaboratory.intrinsic+json": {
              "type": "string"
            }
          },
          "metadata": {}
        },
        {
          "output_type": "display_data",
          "data": {
            "text/plain": [
              "\"Accuracy del modelo Ridge para 'es_LDGincubadora': 0.9740\""
            ],
            "application/vnd.google.colaboratory.intrinsic+json": {
              "type": "string"
            }
          },
          "metadata": {}
        },
        {
          "output_type": "display_data",
          "data": {
            "text/plain": [
              "'F1-Score del modelo: 0.9740'"
            ],
            "application/vnd.google.colaboratory.intrinsic+json": {
              "type": "string"
            }
          },
          "metadata": {}
        },
        {
          "output_type": "display_data",
          "data": {
            "text/plain": [
              "'Recall del modelo: 0.9740'"
            ],
            "application/vnd.google.colaboratory.intrinsic+json": {
              "type": "string"
            }
          },
          "metadata": {}
        },
        {
          "output_type": "display_data",
          "data": {
            "text/plain": [
              "'\\nReporte de clasificación completo:'"
            ],
            "application/vnd.google.colaboratory.intrinsic+json": {
              "type": "string"
            }
          },
          "metadata": {}
        },
        {
          "output_type": "display_data",
          "data": {
            "text/plain": [
              "'              precision    recall  f1-score   support\\n\\n           0       0.98      0.98      0.98     38723\\n           1       0.97      0.97      0.97     28752\\n\\n    accuracy                           0.97     67475\\n   macro avg       0.97      0.97      0.97     67475\\nweighted avg       0.97      0.97      0.97     67475\\n'"
            ],
            "application/vnd.google.colaboratory.intrinsic+json": {
              "type": "string"
            }
          },
          "metadata": {}
        },
        {
          "output_type": "display_data",
          "data": {
            "text/plain": [
              "\"\\nResultados para el modelo con variable objetivo 'es_Voluntariado':\""
            ],
            "application/vnd.google.colaboratory.intrinsic+json": {
              "type": "string"
            }
          },
          "metadata": {}
        },
        {
          "output_type": "display_data",
          "data": {
            "text/plain": [
              "'Tiempo de entrenamiento del modelo: 2.45 segundos'"
            ],
            "application/vnd.google.colaboratory.intrinsic+json": {
              "type": "string"
            }
          },
          "metadata": {}
        },
        {
          "output_type": "display_data",
          "data": {
            "text/plain": [
              "\"Accuracy del modelo Ridge para 'es_Voluntariado': 0.9750\""
            ],
            "application/vnd.google.colaboratory.intrinsic+json": {
              "type": "string"
            }
          },
          "metadata": {}
        },
        {
          "output_type": "display_data",
          "data": {
            "text/plain": [
              "'F1-Score del modelo: 0.9750'"
            ],
            "application/vnd.google.colaboratory.intrinsic+json": {
              "type": "string"
            }
          },
          "metadata": {}
        },
        {
          "output_type": "display_data",
          "data": {
            "text/plain": [
              "'Recall del modelo: 0.9750'"
            ],
            "application/vnd.google.colaboratory.intrinsic+json": {
              "type": "string"
            }
          },
          "metadata": {}
        },
        {
          "output_type": "display_data",
          "data": {
            "text/plain": [
              "'\\nReporte de clasificación completo:'"
            ],
            "application/vnd.google.colaboratory.intrinsic+json": {
              "type": "string"
            }
          },
          "metadata": {}
        },
        {
          "output_type": "display_data",
          "data": {
            "text/plain": [
              "'              precision    recall  f1-score   support\\n\\n           0       0.99      0.97      0.98     38609\\n           1       0.96      0.99      0.97     28866\\n\\n    accuracy                           0.97     67475\\n   macro avg       0.97      0.98      0.97     67475\\nweighted avg       0.98      0.97      0.97     67475\\n'"
            ],
            "application/vnd.google.colaboratory.intrinsic+json": {
              "type": "string"
            }
          },
          "metadata": {}
        },
        {
          "output_type": "display_data",
          "data": {
            "text/plain": [
              "\"\\nResultados para el modelo con variable objetivo 'es_HistoriaExito':\""
            ],
            "application/vnd.google.colaboratory.intrinsic+json": {
              "type": "string"
            }
          },
          "metadata": {}
        },
        {
          "output_type": "display_data",
          "data": {
            "text/plain": [
              "'Tiempo de entrenamiento del modelo: 2.01 segundos'"
            ],
            "application/vnd.google.colaboratory.intrinsic+json": {
              "type": "string"
            }
          },
          "metadata": {}
        },
        {
          "output_type": "display_data",
          "data": {
            "text/plain": [
              "\"Accuracy del modelo Ridge para 'es_HistoriaExito': 0.9896\""
            ],
            "application/vnd.google.colaboratory.intrinsic+json": {
              "type": "string"
            }
          },
          "metadata": {}
        },
        {
          "output_type": "display_data",
          "data": {
            "text/plain": [
              "'F1-Score del modelo: 0.9896'"
            ],
            "application/vnd.google.colaboratory.intrinsic+json": {
              "type": "string"
            }
          },
          "metadata": {}
        },
        {
          "output_type": "display_data",
          "data": {
            "text/plain": [
              "'Recall del modelo: 0.9896'"
            ],
            "application/vnd.google.colaboratory.intrinsic+json": {
              "type": "string"
            }
          },
          "metadata": {}
        },
        {
          "output_type": "display_data",
          "data": {
            "text/plain": [
              "'\\nReporte de clasificación completo:'"
            ],
            "application/vnd.google.colaboratory.intrinsic+json": {
              "type": "string"
            }
          },
          "metadata": {}
        },
        {
          "output_type": "display_data",
          "data": {
            "text/plain": [
              "'              precision    recall  f1-score   support\\n\\n           0       0.99      0.99      0.99     38381\\n           1       0.98      0.99      0.99     29094\\n\\n    accuracy                           0.99     67475\\n   macro avg       0.99      0.99      0.99     67475\\nweighted avg       0.99      0.99      0.99     67475\\n'"
            ],
            "application/vnd.google.colaboratory.intrinsic+json": {
              "type": "string"
            }
          },
          "metadata": {}
        }
      ]
    },
    {
      "cell_type": "markdown",
      "metadata": {
        "id": "-akXFh2tYYZJ"
      },
      "source": [
        "###Lasso 3 variables objetivo"
      ]
    },
    {
      "cell_type": "code",
      "source": [
        "# Importar las librerías necesarias\n",
        "from sklearn.linear_model import Lasso\n",
        "from sklearn.model_selection import train_test_split\n",
        "from sklearn.metrics import accuracy_score, f1_score, recall_score, classification_report\n",
        "import time\n",
        "import numpy as np\n",
        "from IPython.display import display\n",
        "\n",
        "# Lista de variables objetivo\n",
        "objective_variables = ['es_LDGincubadora', 'es_Voluntariado', 'es_HistoriaExito']\n",
        "\n",
        "# Iterar sobre cada variable objetivo\n",
        "for objective in objective_variables:\n",
        "    display(f\"\\nResultados para el modelo con variable objetivo '{objective}':\")\n",
        "\n",
        "    # Separar las variables predictoras (X) y la variable objetivo (y)\n",
        "    X = df_unidoLDG_encoded.drop(columns=objective_variables)\n",
        "    y = df_unidoLDG_encoded[objective]\n",
        "\n",
        "    # División de los datos en conjunto de entrenamiento y prueba\n",
        "    X_train, X_test, y_train, y_test = train_test_split(X, y, test_size=0.2, random_state=42)\n",
        "\n",
        "    # Medir el tiempo de entrenamiento\n",
        "    start_time = time.time()\n",
        "\n",
        "    # Crear y entrenar el modelo de Lasso\n",
        "    lasso_model = Lasso(alpha=1.0)  # Puedes ajustar el valor de alpha para regularización\n",
        "    lasso_model.fit(X_train, y_train)\n",
        "\n",
        "    # Calcular el tiempo de entrenamiento\n",
        "    training_time = time.time() - start_time\n",
        "\n",
        "    # Predicciones en el conjunto de prueba\n",
        "    y_pred = lasso_model.predict(X_test)\n",
        "\n",
        "    # Convertir las predicciones continuas en clases binarias (0 o 1)\n",
        "    y_pred_class = np.where(y_pred >= 0.5, 1, 0)\n",
        "\n",
        "    # Evaluar el rendimiento\n",
        "    accuracy = accuracy_score(y_test, y_pred_class)\n",
        "    f1 = f1_score(y_test, y_pred_class, average='weighted')\n",
        "    recall = recall_score(y_test, y_pred_class, average='weighted')\n",
        "\n",
        "    # Mostrar los resultados\n",
        "    display(f\"Tiempo de entrenamiento del modelo: {training_time:.2f} segundos\")\n",
        "    display(f\"Accuracy del modelo Lasso para '{objective}': {accuracy:.4f}\")\n",
        "    display(f\"F1-Score del modelo: {f1:.4f}\")\n",
        "    display(f\"Recall del modelo: {recall:.4f}\")\n",
        "    display(\"\\nReporte de clasificación completo:\")\n",
        "    display(classification_report(y_test, y_pred_class))\n"
      ],
      "metadata": {
        "colab": {
          "base_uri": "https://localhost:8080/",
          "height": 456
        },
        "id": "ZTzJbKjS_NKt",
        "outputId": "fe8acac5-4c18-45ab-d178-ac089e0f4673"
      },
      "execution_count": null,
      "outputs": [
        {
          "output_type": "display_data",
          "data": {
            "text/plain": [
              "\"\\nResultados para el modelo con variable objetivo 'es_LDGincubadora':\""
            ],
            "application/vnd.google.colaboratory.intrinsic+json": {
              "type": "string"
            }
          },
          "metadata": {}
        },
        {
          "output_type": "display_data",
          "data": {
            "text/plain": [
              "'Tiempo de entrenamiento del modelo: 5.38 segundos'"
            ],
            "application/vnd.google.colaboratory.intrinsic+json": {
              "type": "string"
            }
          },
          "metadata": {}
        },
        {
          "output_type": "display_data",
          "data": {
            "text/plain": [
              "\"Accuracy del modelo Lasso para 'es_LDGincubadora': 0.8295\""
            ],
            "application/vnd.google.colaboratory.intrinsic+json": {
              "type": "string"
            }
          },
          "metadata": {}
        },
        {
          "output_type": "display_data",
          "data": {
            "text/plain": [
              "'F1-Score del modelo: 0.8273'"
            ],
            "application/vnd.google.colaboratory.intrinsic+json": {
              "type": "string"
            }
          },
          "metadata": {}
        },
        {
          "output_type": "display_data",
          "data": {
            "text/plain": [
              "'Recall del modelo: 0.8295'"
            ],
            "application/vnd.google.colaboratory.intrinsic+json": {
              "type": "string"
            }
          },
          "metadata": {}
        },
        {
          "output_type": "display_data",
          "data": {
            "text/plain": [
              "'\\nReporte de clasificación completo:'"
            ],
            "application/vnd.google.colaboratory.intrinsic+json": {
              "type": "string"
            }
          },
          "metadata": {}
        },
        {
          "output_type": "display_data",
          "data": {
            "text/plain": [
              "'              precision    recall  f1-score   support\\n\\n           0       0.82      0.90      0.86     38723\\n           1       0.85      0.73      0.79     28752\\n\\n    accuracy                           0.83     67475\\n   macro avg       0.83      0.82      0.82     67475\\nweighted avg       0.83      0.83      0.83     67475\\n'"
            ],
            "application/vnd.google.colaboratory.intrinsic+json": {
              "type": "string"
            }
          },
          "metadata": {}
        },
        {
          "output_type": "display_data",
          "data": {
            "text/plain": [
              "\"\\nResultados para el modelo con variable objetivo 'es_Voluntariado':\""
            ],
            "application/vnd.google.colaboratory.intrinsic+json": {
              "type": "string"
            }
          },
          "metadata": {}
        },
        {
          "output_type": "display_data",
          "data": {
            "text/plain": [
              "'Tiempo de entrenamiento del modelo: 4.76 segundos'"
            ],
            "application/vnd.google.colaboratory.intrinsic+json": {
              "type": "string"
            }
          },
          "metadata": {}
        },
        {
          "output_type": "display_data",
          "data": {
            "text/plain": [
              "\"Accuracy del modelo Lasso para 'es_Voluntariado': 0.7195\""
            ],
            "application/vnd.google.colaboratory.intrinsic+json": {
              "type": "string"
            }
          },
          "metadata": {}
        },
        {
          "output_type": "display_data",
          "data": {
            "text/plain": [
              "'F1-Score del modelo: 0.6947'"
            ],
            "application/vnd.google.colaboratory.intrinsic+json": {
              "type": "string"
            }
          },
          "metadata": {}
        },
        {
          "output_type": "display_data",
          "data": {
            "text/plain": [
              "'Recall del modelo: 0.7195'"
            ],
            "application/vnd.google.colaboratory.intrinsic+json": {
              "type": "string"
            }
          },
          "metadata": {}
        },
        {
          "output_type": "display_data",
          "data": {
            "text/plain": [
              "'\\nReporte de clasificación completo:'"
            ],
            "application/vnd.google.colaboratory.intrinsic+json": {
              "type": "string"
            }
          },
          "metadata": {}
        },
        {
          "output_type": "display_data",
          "data": {
            "text/plain": [
              "'              precision    recall  f1-score   support\\n\\n           0       0.69      0.94      0.79     38609\\n           1       0.84      0.42      0.56     28866\\n\\n    accuracy                           0.72     67475\\n   macro avg       0.77      0.68      0.68     67475\\nweighted avg       0.75      0.72      0.69     67475\\n'"
            ],
            "application/vnd.google.colaboratory.intrinsic+json": {
              "type": "string"
            }
          },
          "metadata": {}
        },
        {
          "output_type": "display_data",
          "data": {
            "text/plain": [
              "\"\\nResultados para el modelo con variable objetivo 'es_HistoriaExito':\""
            ],
            "application/vnd.google.colaboratory.intrinsic+json": {
              "type": "string"
            }
          },
          "metadata": {}
        },
        {
          "output_type": "display_data",
          "data": {
            "text/plain": [
              "'Tiempo de entrenamiento del modelo: 3.72 segundos'"
            ],
            "application/vnd.google.colaboratory.intrinsic+json": {
              "type": "string"
            }
          },
          "metadata": {}
        },
        {
          "output_type": "display_data",
          "data": {
            "text/plain": [
              "\"Accuracy del modelo Lasso para 'es_HistoriaExito': 0.6433\""
            ],
            "application/vnd.google.colaboratory.intrinsic+json": {
              "type": "string"
            }
          },
          "metadata": {}
        },
        {
          "output_type": "display_data",
          "data": {
            "text/plain": [
              "'F1-Score del modelo: 0.6225'"
            ],
            "application/vnd.google.colaboratory.intrinsic+json": {
              "type": "string"
            }
          },
          "metadata": {}
        },
        {
          "output_type": "display_data",
          "data": {
            "text/plain": [
              "'Recall del modelo: 0.6433'"
            ],
            "application/vnd.google.colaboratory.intrinsic+json": {
              "type": "string"
            }
          },
          "metadata": {}
        },
        {
          "output_type": "display_data",
          "data": {
            "text/plain": [
              "'\\nReporte de clasificación completo:'"
            ],
            "application/vnd.google.colaboratory.intrinsic+json": {
              "type": "string"
            }
          },
          "metadata": {}
        },
        {
          "output_type": "display_data",
          "data": {
            "text/plain": [
              "'              precision    recall  f1-score   support\\n\\n           0       0.64      0.84      0.73     38381\\n           1       0.64      0.39      0.48     29094\\n\\n    accuracy                           0.64     67475\\n   macro avg       0.64      0.61      0.61     67475\\nweighted avg       0.64      0.64      0.62     67475\\n'"
            ],
            "application/vnd.google.colaboratory.intrinsic+json": {
              "type": "string"
            }
          },
          "metadata": {}
        }
      ]
    },
    {
      "cell_type": "markdown",
      "metadata": {
        "id": "ZbyqHZTRPmEI"
      },
      "source": [
        "###Decision Tree 3 variables objetivo"
      ]
    },
    {
      "cell_type": "code",
      "source": [
        "# Importar las librerías necesarias\n",
        "from sklearn.model_selection import train_test_split\n",
        "from sklearn.tree import DecisionTreeClassifier\n",
        "from sklearn.metrics import accuracy_score, f1_score, recall_score, classification_report\n",
        "import time\n",
        "from IPython.display import display\n",
        "\n",
        "# Lista de variables objetivo\n",
        "objective_variables = ['es_LDGincubadora', 'es_Voluntariado', 'es_HistoriaExito']\n",
        "\n",
        "# Iterar sobre cada variable objetivo\n",
        "for objective in objective_variables:\n",
        "    display(f\"\\nResultados para el modelo con variable objetivo '{objective}':\")\n",
        "\n",
        "    # Separar las variables predictoras (X) y la variable objetivo (y)\n",
        "    X = df_unidoLDG_encoded.drop(columns=objective_variables)\n",
        "    y = df_unidoLDG_encoded[objective]\n",
        "\n",
        "    # División de los datos en conjunto de entrenamiento y prueba\n",
        "    X_train, X_test, y_train, y_test = train_test_split(X, y, test_size=0.2, random_state=42)\n",
        "\n",
        "    # Medir el tiempo de entrenamiento\n",
        "    start_time = time.time()\n",
        "\n",
        "    # Crear y entrenar el modelo de Árbol de Decisión\n",
        "    model = DecisionTreeClassifier(max_depth=5, min_samples_split=10, min_samples_leaf=5)\n",
        "    model.fit(X_train, y_train)\n",
        "\n",
        "    # Calcular el tiempo de entrenamiento\n",
        "    training_time = time.time() - start_time\n",
        "\n",
        "    # Predicciones en el conjunto de prueba\n",
        "    y_pred = model.predict(X_test)\n",
        "\n",
        "    # Evaluar el rendimiento\n",
        "    accuracy = accuracy_score(y_test, y_pred)\n",
        "    f1 = f1_score(y_test, y_pred, average='weighted')\n",
        "    recall = recall_score(y_test, y_pred, average='weighted')\n",
        "\n",
        "    # Mostrar los resultados\n",
        "    display(f\"Tiempo de entrenamiento del modelo: {training_time:.2f} segundos\")\n",
        "    display(f\"Accuracy del modelo de Árbol de Decisión para '{objective}': {accuracy:.4f}\")\n",
        "    display(f\"F1-Score del modelo: {f1:.4f}\")\n",
        "    display(f\"Recall del modelo: {recall:.4f}\")\n",
        "    display(\"\\nReporte de clasificación completo:\")\n",
        "    display(classification_report(y_test, y_pred))\n"
      ],
      "metadata": {
        "id": "23KM2Ij8AHim"
      },
      "execution_count": null,
      "outputs": []
    },
    {
      "cell_type": "markdown",
      "metadata": {
        "id": "sa7Ek5oKXKsP"
      },
      "source": [
        "###Regresión Logística 3 variables objetivo"
      ]
    },
    {
      "cell_type": "code",
      "source": [
        "# Importar las librerías necesarias\n",
        "from sklearn.model_selection import train_test_split\n",
        "from sklearn.linear_model import LogisticRegression\n",
        "from sklearn.metrics import accuracy_score, f1_score, recall_score, classification_report\n",
        "import time\n",
        "from IPython.display import display\n",
        "\n",
        "# Lista de variables objetivo\n",
        "objective_variables = ['es_LDGincubadora', 'es_Voluntariado', 'es_HistoriaExito']\n",
        "\n",
        "# Tomar una muestra reducida del DataFrame para evitar carga excesiva\n",
        "df_sample = df_unidoLDG_encoded.sample(frac=0.7, random_state=42)  # Reduce la muestra al 30% de los datos\n",
        "\n",
        "# Iterar sobre cada variable objetivo\n",
        "for objective in objective_variables:\n",
        "    display(f\"\\nResultados para el modelo con variable objetivo '{objective}':\")\n",
        "\n",
        "    # Separar las variables predictoras (X) y la variable objetivo (y)\n",
        "    X = df_sample.drop(columns=objective_variables)\n",
        "    y = df_sample[objective]\n",
        "\n",
        "    # División de los datos en conjunto de entrenamiento y prueba\n",
        "    X_train, X_test, y_train, y_test = train_test_split(X, y, test_size=0.2, random_state=42)\n",
        "\n",
        "    # Medir el tiempo de entrenamiento\n",
        "    start_time = time.time()\n",
        "\n",
        "    # Crear y entrenar el modelo de Regresión Logística\n",
        "    model = LogisticRegression(max_iter=500)\n",
        "    model.fit(X_train, y_train)\n",
        "\n",
        "    # Calcular el tiempo de entrenamiento\n",
        "    training_time = time.time() - start_time\n",
        "\n",
        "    # Predicciones en el conjunto de prueba\n",
        "    y_pred = model.predict(X_test)\n",
        "\n",
        "    # Evaluar el rendimiento\n",
        "    accuracy = accuracy_score(y_test, y_pred)\n",
        "    f1 = f1_score(y_test, y_pred, average='weighted')\n",
        "    recall = recall_score(y_test, y_pred, average='weighted')\n",
        "\n",
        "    # Mostrar los resultados\n",
        "    display(f\"Tiempo de entrenamiento del modelo: {training_time:.2f} segundos\")\n",
        "    display(f\"Accuracy del modelo de Regresión Logística para '{objective}': {accuracy:.4f}\")\n",
        "    display(f\"F1-Score del modelo: {f1:.4f}\")\n",
        "    display(f\"Recall del modelo: {recall:.4f}\")\n",
        "    display(\"\\nReporte de clasificación completo:\")\n",
        "    display(classification_report(y_test, y_pred))\n"
      ],
      "metadata": {
        "colab": {
          "base_uri": "https://localhost:8080/",
          "height": 456
        },
        "id": "ZhyTZbrSAabk",
        "outputId": "7ed9d7d2-50bd-494c-b7f4-69715fc7f9cf"
      },
      "execution_count": null,
      "outputs": [
        {
          "data": {
            "application/vnd.google.colaboratory.intrinsic+json": {
              "type": "string"
            },
            "text/plain": [
              "\"\\nResultados para el modelo con variable objetivo 'es_LDGincubadora':\""
            ]
          },
          "metadata": {},
          "output_type": "display_data"
        },
        {
          "data": {
            "application/vnd.google.colaboratory.intrinsic+json": {
              "type": "string"
            },
            "text/plain": [
              "'Tiempo de entrenamiento del modelo: 69.57 segundos'"
            ]
          },
          "metadata": {},
          "output_type": "display_data"
        },
        {
          "data": {
            "application/vnd.google.colaboratory.intrinsic+json": {
              "type": "string"
            },
            "text/plain": [
              "\"Accuracy del modelo de Regresión Logística para 'es_LDGincubadora': 0.9468\""
            ]
          },
          "metadata": {},
          "output_type": "display_data"
        },
        {
          "data": {
            "application/vnd.google.colaboratory.intrinsic+json": {
              "type": "string"
            },
            "text/plain": [
              "'F1-Score del modelo: 0.9468'"
            ]
          },
          "metadata": {},
          "output_type": "display_data"
        },
        {
          "data": {
            "application/vnd.google.colaboratory.intrinsic+json": {
              "type": "string"
            },
            "text/plain": [
              "'Recall del modelo: 0.9468'"
            ]
          },
          "metadata": {},
          "output_type": "display_data"
        },
        {
          "data": {
            "application/vnd.google.colaboratory.intrinsic+json": {
              "type": "string"
            },
            "text/plain": [
              "'\\nReporte de clasificación completo:'"
            ]
          },
          "metadata": {},
          "output_type": "display_data"
        },
        {
          "data": {
            "application/vnd.google.colaboratory.intrinsic+json": {
              "type": "string"
            },
            "text/plain": [
              "'              precision    recall  f1-score   support\\n\\n           0       0.95      0.96      0.95     27005\\n           1       0.94      0.93      0.94     20227\\n\\n    accuracy                           0.95     47232\\n   macro avg       0.95      0.94      0.95     47232\\nweighted avg       0.95      0.95      0.95     47232\\n'"
            ]
          },
          "metadata": {},
          "output_type": "display_data"
        },
        {
          "data": {
            "application/vnd.google.colaboratory.intrinsic+json": {
              "type": "string"
            },
            "text/plain": [
              "\"\\nResultados para el modelo con variable objetivo 'es_Voluntariado':\""
            ]
          },
          "metadata": {},
          "output_type": "display_data"
        },
        {
          "data": {
            "application/vnd.google.colaboratory.intrinsic+json": {
              "type": "string"
            },
            "text/plain": [
              "'Tiempo de entrenamiento del modelo: 66.77 segundos'"
            ]
          },
          "metadata": {},
          "output_type": "display_data"
        },
        {
          "data": {
            "application/vnd.google.colaboratory.intrinsic+json": {
              "type": "string"
            },
            "text/plain": [
              "\"Accuracy del modelo de Regresión Logística para 'es_Voluntariado': 0.9387\""
            ]
          },
          "metadata": {},
          "output_type": "display_data"
        },
        {
          "data": {
            "application/vnd.google.colaboratory.intrinsic+json": {
              "type": "string"
            },
            "text/plain": [
              "'F1-Score del modelo: 0.9387'"
            ]
          },
          "metadata": {},
          "output_type": "display_data"
        },
        {
          "data": {
            "application/vnd.google.colaboratory.intrinsic+json": {
              "type": "string"
            },
            "text/plain": [
              "'Recall del modelo: 0.9387'"
            ]
          },
          "metadata": {},
          "output_type": "display_data"
        },
        {
          "data": {
            "application/vnd.google.colaboratory.intrinsic+json": {
              "type": "string"
            },
            "text/plain": [
              "'\\nReporte de clasificación completo:'"
            ]
          },
          "metadata": {},
          "output_type": "display_data"
        },
        {
          "data": {
            "application/vnd.google.colaboratory.intrinsic+json": {
              "type": "string"
            },
            "text/plain": [
              "'              precision    recall  f1-score   support\\n\\n           0       0.95      0.95      0.95     26911\\n           1       0.93      0.93      0.93     20321\\n\\n    accuracy                           0.94     47232\\n   macro avg       0.94      0.94      0.94     47232\\nweighted avg       0.94      0.94      0.94     47232\\n'"
            ]
          },
          "metadata": {},
          "output_type": "display_data"
        },
        {
          "data": {
            "application/vnd.google.colaboratory.intrinsic+json": {
              "type": "string"
            },
            "text/plain": [
              "\"\\nResultados para el modelo con variable objetivo 'es_HistoriaExito':\""
            ]
          },
          "metadata": {},
          "output_type": "display_data"
        },
        {
          "data": {
            "application/vnd.google.colaboratory.intrinsic+json": {
              "type": "string"
            },
            "text/plain": [
              "'Tiempo de entrenamiento del modelo: 71.66 segundos'"
            ]
          },
          "metadata": {},
          "output_type": "display_data"
        },
        {
          "data": {
            "application/vnd.google.colaboratory.intrinsic+json": {
              "type": "string"
            },
            "text/plain": [
              "\"Accuracy del modelo de Regresión Logística para 'es_HistoriaExito': 0.9825\""
            ]
          },
          "metadata": {},
          "output_type": "display_data"
        },
        {
          "data": {
            "application/vnd.google.colaboratory.intrinsic+json": {
              "type": "string"
            },
            "text/plain": [
              "'F1-Score del modelo: 0.9825'"
            ]
          },
          "metadata": {},
          "output_type": "display_data"
        },
        {
          "data": {
            "application/vnd.google.colaboratory.intrinsic+json": {
              "type": "string"
            },
            "text/plain": [
              "'Recall del modelo: 0.9825'"
            ]
          },
          "metadata": {},
          "output_type": "display_data"
        },
        {
          "data": {
            "application/vnd.google.colaboratory.intrinsic+json": {
              "type": "string"
            },
            "text/plain": [
              "'\\nReporte de clasificación completo:'"
            ]
          },
          "metadata": {},
          "output_type": "display_data"
        },
        {
          "data": {
            "application/vnd.google.colaboratory.intrinsic+json": {
              "type": "string"
            },
            "text/plain": [
              "'              precision    recall  f1-score   support\\n\\n           0       0.99      0.98      0.98     26776\\n           1       0.97      0.99      0.98     20456\\n\\n    accuracy                           0.98     47232\\n   macro avg       0.98      0.98      0.98     47232\\nweighted avg       0.98      0.98      0.98     47232\\n'"
            ]
          },
          "metadata": {},
          "output_type": "display_data"
        }
      ]
    },
    {
      "cell_type": "markdown",
      "source": [
        "##Comparativa de los 6 modelos"
      ],
      "metadata": {
        "id": "QR7rY0DDAY8P"
      }
    },
    {
      "cell_type": "markdown",
      "source": [
        "Extraímos los valores de accuracy, f1-score, recall y el tiempo de entrenamiento para cada modelo evaluado. Esto nos permitió analizar el rendimiento de cada uno en relación con las métricas principales.\n",
        "\n",
        " ordenamos la tabla según la métrica principal (accuracy) para identificar fácilmente los modelos más efectivos."
      ],
      "metadata": {
        "id": "E-K-tvLLC2Gz"
      }
    },
    {
      "cell_type": "code",
      "source": [
        "# Resultados para cada modelo\n",
        "model_names = [\"Random Forest\", \"KNN\", \"Ridge\", \"Lasso\", \"Decision Tree\", \"Logistic Regression\"]\n",
        "accuracies = [0.92, 1.00, 0.99, 0.64 ,  0.99, 0.98]\n",
        "f1_scores = [0.90, 1.00, 0.99, 0.64,  0.99, 0.98]\n",
        "recalls = [0.90, 1.00, 0.99, 0.64,  0.99, 0.98]\n",
        "training_times = [13.77, 21.52, 2.24, 5.77, 3.29, 67.23]  # en segundos\n",
        "\n",
        "# Crear un DataFrame con los resultados\n",
        "results_df = pd.DataFrame({\n",
        "    \"Modelo\": model_names,\n",
        "    \"Accuracy\": accuracies,\n",
        "    \"F1-Score\": f1_scores,\n",
        "    \"Recall\": recalls,\n",
        "    \"Tiempo de Entrenamiento (s)\": training_times\n",
        "})\n",
        "\n",
        "# Ordenar el DataFrame por la métrica principal (en este caso, 'Accuracy')\n",
        "results_df = results_df.sort_values(by=\"Accuracy\", ascending=False)\n",
        "\n",
        "# Mostrar la tabla consolidada\n",
        "display(\"Tabla Comparativa de Modelos:\")\n",
        "display(results_df)\n"
      ],
      "metadata": {
        "id": "BxF85cgv06A6",
        "colab": {
          "base_uri": "https://localhost:8080/",
          "height": 255
        },
        "outputId": "5a4eca41-8ca5-4d0d-c202-9a58f149d3f9"
      },
      "execution_count": 17,
      "outputs": [
        {
          "output_type": "display_data",
          "data": {
            "text/plain": [
              "'Tabla Comparativa de Modelos:'"
            ],
            "application/vnd.google.colaboratory.intrinsic+json": {
              "type": "string"
            }
          },
          "metadata": {}
        },
        {
          "output_type": "display_data",
          "data": {
            "text/plain": [
              "                Modelo  Accuracy  F1-Score  Recall  \\\n",
              "1                  KNN      1.00      1.00    1.00   \n",
              "2                Ridge      0.99      0.99    0.99   \n",
              "4        Decision Tree      0.99      0.99    0.99   \n",
              "5  Logistic Regression      0.98      0.98    0.98   \n",
              "0        Random Forest      0.92      0.90    0.90   \n",
              "3                Lasso      0.64      0.64    0.64   \n",
              "\n",
              "   Tiempo de Entrenamiento (s)  \n",
              "1                        21.52  \n",
              "2                         2.24  \n",
              "4                         3.29  \n",
              "5                        67.23  \n",
              "0                        13.77  \n",
              "3                         5.77  "
            ],
            "text/html": [
              "\n",
              "  <div id=\"df-1a03f2bf-d05c-4d44-9779-8932f66b3952\" class=\"colab-df-container\">\n",
              "    <div>\n",
              "<style scoped>\n",
              "    .dataframe tbody tr th:only-of-type {\n",
              "        vertical-align: middle;\n",
              "    }\n",
              "\n",
              "    .dataframe tbody tr th {\n",
              "        vertical-align: top;\n",
              "    }\n",
              "\n",
              "    .dataframe thead th {\n",
              "        text-align: right;\n",
              "    }\n",
              "</style>\n",
              "<table border=\"1\" class=\"dataframe\">\n",
              "  <thead>\n",
              "    <tr style=\"text-align: right;\">\n",
              "      <th></th>\n",
              "      <th>Modelo</th>\n",
              "      <th>Accuracy</th>\n",
              "      <th>F1-Score</th>\n",
              "      <th>Recall</th>\n",
              "      <th>Tiempo de Entrenamiento (s)</th>\n",
              "    </tr>\n",
              "  </thead>\n",
              "  <tbody>\n",
              "    <tr>\n",
              "      <th>1</th>\n",
              "      <td>KNN</td>\n",
              "      <td>1.00</td>\n",
              "      <td>1.00</td>\n",
              "      <td>1.00</td>\n",
              "      <td>21.52</td>\n",
              "    </tr>\n",
              "    <tr>\n",
              "      <th>2</th>\n",
              "      <td>Ridge</td>\n",
              "      <td>0.99</td>\n",
              "      <td>0.99</td>\n",
              "      <td>0.99</td>\n",
              "      <td>2.24</td>\n",
              "    </tr>\n",
              "    <tr>\n",
              "      <th>4</th>\n",
              "      <td>Decision Tree</td>\n",
              "      <td>0.99</td>\n",
              "      <td>0.99</td>\n",
              "      <td>0.99</td>\n",
              "      <td>3.29</td>\n",
              "    </tr>\n",
              "    <tr>\n",
              "      <th>5</th>\n",
              "      <td>Logistic Regression</td>\n",
              "      <td>0.98</td>\n",
              "      <td>0.98</td>\n",
              "      <td>0.98</td>\n",
              "      <td>67.23</td>\n",
              "    </tr>\n",
              "    <tr>\n",
              "      <th>0</th>\n",
              "      <td>Random Forest</td>\n",
              "      <td>0.92</td>\n",
              "      <td>0.90</td>\n",
              "      <td>0.90</td>\n",
              "      <td>13.77</td>\n",
              "    </tr>\n",
              "    <tr>\n",
              "      <th>3</th>\n",
              "      <td>Lasso</td>\n",
              "      <td>0.64</td>\n",
              "      <td>0.64</td>\n",
              "      <td>0.64</td>\n",
              "      <td>5.77</td>\n",
              "    </tr>\n",
              "  </tbody>\n",
              "</table>\n",
              "</div>\n",
              "    <div class=\"colab-df-buttons\">\n",
              "\n",
              "  <div class=\"colab-df-container\">\n",
              "    <button class=\"colab-df-convert\" onclick=\"convertToInteractive('df-1a03f2bf-d05c-4d44-9779-8932f66b3952')\"\n",
              "            title=\"Convert this dataframe to an interactive table.\"\n",
              "            style=\"display:none;\">\n",
              "\n",
              "  <svg xmlns=\"http://www.w3.org/2000/svg\" height=\"24px\" viewBox=\"0 -960 960 960\">\n",
              "    <path d=\"M120-120v-720h720v720H120Zm60-500h600v-160H180v160Zm220 220h160v-160H400v160Zm0 220h160v-160H400v160ZM180-400h160v-160H180v160Zm440 0h160v-160H620v160ZM180-180h160v-160H180v160Zm440 0h160v-160H620v160Z\"/>\n",
              "  </svg>\n",
              "    </button>\n",
              "\n",
              "  <style>\n",
              "    .colab-df-container {\n",
              "      display:flex;\n",
              "      gap: 12px;\n",
              "    }\n",
              "\n",
              "    .colab-df-convert {\n",
              "      background-color: #E8F0FE;\n",
              "      border: none;\n",
              "      border-radius: 50%;\n",
              "      cursor: pointer;\n",
              "      display: none;\n",
              "      fill: #1967D2;\n",
              "      height: 32px;\n",
              "      padding: 0 0 0 0;\n",
              "      width: 32px;\n",
              "    }\n",
              "\n",
              "    .colab-df-convert:hover {\n",
              "      background-color: #E2EBFA;\n",
              "      box-shadow: 0px 1px 2px rgba(60, 64, 67, 0.3), 0px 1px 3px 1px rgba(60, 64, 67, 0.15);\n",
              "      fill: #174EA6;\n",
              "    }\n",
              "\n",
              "    .colab-df-buttons div {\n",
              "      margin-bottom: 4px;\n",
              "    }\n",
              "\n",
              "    [theme=dark] .colab-df-convert {\n",
              "      background-color: #3B4455;\n",
              "      fill: #D2E3FC;\n",
              "    }\n",
              "\n",
              "    [theme=dark] .colab-df-convert:hover {\n",
              "      background-color: #434B5C;\n",
              "      box-shadow: 0px 1px 3px 1px rgba(0, 0, 0, 0.15);\n",
              "      filter: drop-shadow(0px 1px 2px rgba(0, 0, 0, 0.3));\n",
              "      fill: #FFFFFF;\n",
              "    }\n",
              "  </style>\n",
              "\n",
              "    <script>\n",
              "      const buttonEl =\n",
              "        document.querySelector('#df-1a03f2bf-d05c-4d44-9779-8932f66b3952 button.colab-df-convert');\n",
              "      buttonEl.style.display =\n",
              "        google.colab.kernel.accessAllowed ? 'block' : 'none';\n",
              "\n",
              "      async function convertToInteractive(key) {\n",
              "        const element = document.querySelector('#df-1a03f2bf-d05c-4d44-9779-8932f66b3952');\n",
              "        const dataTable =\n",
              "          await google.colab.kernel.invokeFunction('convertToInteractive',\n",
              "                                                    [key], {});\n",
              "        if (!dataTable) return;\n",
              "\n",
              "        const docLinkHtml = 'Like what you see? Visit the ' +\n",
              "          '<a target=\"_blank\" href=https://colab.research.google.com/notebooks/data_table.ipynb>data table notebook</a>'\n",
              "          + ' to learn more about interactive tables.';\n",
              "        element.innerHTML = '';\n",
              "        dataTable['output_type'] = 'display_data';\n",
              "        await google.colab.output.renderOutput(dataTable, element);\n",
              "        const docLink = document.createElement('div');\n",
              "        docLink.innerHTML = docLinkHtml;\n",
              "        element.appendChild(docLink);\n",
              "      }\n",
              "    </script>\n",
              "  </div>\n",
              "\n",
              "\n",
              "<div id=\"df-c4523c90-93f8-4d4a-b7c5-ea7affc49528\">\n",
              "  <button class=\"colab-df-quickchart\" onclick=\"quickchart('df-c4523c90-93f8-4d4a-b7c5-ea7affc49528')\"\n",
              "            title=\"Suggest charts\"\n",
              "            style=\"display:none;\">\n",
              "\n",
              "<svg xmlns=\"http://www.w3.org/2000/svg\" height=\"24px\"viewBox=\"0 0 24 24\"\n",
              "     width=\"24px\">\n",
              "    <g>\n",
              "        <path d=\"M19 3H5c-1.1 0-2 .9-2 2v14c0 1.1.9 2 2 2h14c1.1 0 2-.9 2-2V5c0-1.1-.9-2-2-2zM9 17H7v-7h2v7zm4 0h-2V7h2v10zm4 0h-2v-4h2v4z\"/>\n",
              "    </g>\n",
              "</svg>\n",
              "  </button>\n",
              "\n",
              "<style>\n",
              "  .colab-df-quickchart {\n",
              "      --bg-color: #E8F0FE;\n",
              "      --fill-color: #1967D2;\n",
              "      --hover-bg-color: #E2EBFA;\n",
              "      --hover-fill-color: #174EA6;\n",
              "      --disabled-fill-color: #AAA;\n",
              "      --disabled-bg-color: #DDD;\n",
              "  }\n",
              "\n",
              "  [theme=dark] .colab-df-quickchart {\n",
              "      --bg-color: #3B4455;\n",
              "      --fill-color: #D2E3FC;\n",
              "      --hover-bg-color: #434B5C;\n",
              "      --hover-fill-color: #FFFFFF;\n",
              "      --disabled-bg-color: #3B4455;\n",
              "      --disabled-fill-color: #666;\n",
              "  }\n",
              "\n",
              "  .colab-df-quickchart {\n",
              "    background-color: var(--bg-color);\n",
              "    border: none;\n",
              "    border-radius: 50%;\n",
              "    cursor: pointer;\n",
              "    display: none;\n",
              "    fill: var(--fill-color);\n",
              "    height: 32px;\n",
              "    padding: 0;\n",
              "    width: 32px;\n",
              "  }\n",
              "\n",
              "  .colab-df-quickchart:hover {\n",
              "    background-color: var(--hover-bg-color);\n",
              "    box-shadow: 0 1px 2px rgba(60, 64, 67, 0.3), 0 1px 3px 1px rgba(60, 64, 67, 0.15);\n",
              "    fill: var(--button-hover-fill-color);\n",
              "  }\n",
              "\n",
              "  .colab-df-quickchart-complete:disabled,\n",
              "  .colab-df-quickchart-complete:disabled:hover {\n",
              "    background-color: var(--disabled-bg-color);\n",
              "    fill: var(--disabled-fill-color);\n",
              "    box-shadow: none;\n",
              "  }\n",
              "\n",
              "  .colab-df-spinner {\n",
              "    border: 2px solid var(--fill-color);\n",
              "    border-color: transparent;\n",
              "    border-bottom-color: var(--fill-color);\n",
              "    animation:\n",
              "      spin 1s steps(1) infinite;\n",
              "  }\n",
              "\n",
              "  @keyframes spin {\n",
              "    0% {\n",
              "      border-color: transparent;\n",
              "      border-bottom-color: var(--fill-color);\n",
              "      border-left-color: var(--fill-color);\n",
              "    }\n",
              "    20% {\n",
              "      border-color: transparent;\n",
              "      border-left-color: var(--fill-color);\n",
              "      border-top-color: var(--fill-color);\n",
              "    }\n",
              "    30% {\n",
              "      border-color: transparent;\n",
              "      border-left-color: var(--fill-color);\n",
              "      border-top-color: var(--fill-color);\n",
              "      border-right-color: var(--fill-color);\n",
              "    }\n",
              "    40% {\n",
              "      border-color: transparent;\n",
              "      border-right-color: var(--fill-color);\n",
              "      border-top-color: var(--fill-color);\n",
              "    }\n",
              "    60% {\n",
              "      border-color: transparent;\n",
              "      border-right-color: var(--fill-color);\n",
              "    }\n",
              "    80% {\n",
              "      border-color: transparent;\n",
              "      border-right-color: var(--fill-color);\n",
              "      border-bottom-color: var(--fill-color);\n",
              "    }\n",
              "    90% {\n",
              "      border-color: transparent;\n",
              "      border-bottom-color: var(--fill-color);\n",
              "    }\n",
              "  }\n",
              "</style>\n",
              "\n",
              "  <script>\n",
              "    async function quickchart(key) {\n",
              "      const quickchartButtonEl =\n",
              "        document.querySelector('#' + key + ' button');\n",
              "      quickchartButtonEl.disabled = true;  // To prevent multiple clicks.\n",
              "      quickchartButtonEl.classList.add('colab-df-spinner');\n",
              "      try {\n",
              "        const charts = await google.colab.kernel.invokeFunction(\n",
              "            'suggestCharts', [key], {});\n",
              "      } catch (error) {\n",
              "        console.error('Error during call to suggestCharts:', error);\n",
              "      }\n",
              "      quickchartButtonEl.classList.remove('colab-df-spinner');\n",
              "      quickchartButtonEl.classList.add('colab-df-quickchart-complete');\n",
              "    }\n",
              "    (() => {\n",
              "      let quickchartButtonEl =\n",
              "        document.querySelector('#df-c4523c90-93f8-4d4a-b7c5-ea7affc49528 button');\n",
              "      quickchartButtonEl.style.display =\n",
              "        google.colab.kernel.accessAllowed ? 'block' : 'none';\n",
              "    })();\n",
              "  </script>\n",
              "</div>\n",
              "\n",
              "  <div id=\"id_fa76193b-c756-4312-b564-9e226b3e4e79\">\n",
              "    <style>\n",
              "      .colab-df-generate {\n",
              "        background-color: #E8F0FE;\n",
              "        border: none;\n",
              "        border-radius: 50%;\n",
              "        cursor: pointer;\n",
              "        display: none;\n",
              "        fill: #1967D2;\n",
              "        height: 32px;\n",
              "        padding: 0 0 0 0;\n",
              "        width: 32px;\n",
              "      }\n",
              "\n",
              "      .colab-df-generate:hover {\n",
              "        background-color: #E2EBFA;\n",
              "        box-shadow: 0px 1px 2px rgba(60, 64, 67, 0.3), 0px 1px 3px 1px rgba(60, 64, 67, 0.15);\n",
              "        fill: #174EA6;\n",
              "      }\n",
              "\n",
              "      [theme=dark] .colab-df-generate {\n",
              "        background-color: #3B4455;\n",
              "        fill: #D2E3FC;\n",
              "      }\n",
              "\n",
              "      [theme=dark] .colab-df-generate:hover {\n",
              "        background-color: #434B5C;\n",
              "        box-shadow: 0px 1px 3px 1px rgba(0, 0, 0, 0.15);\n",
              "        filter: drop-shadow(0px 1px 2px rgba(0, 0, 0, 0.3));\n",
              "        fill: #FFFFFF;\n",
              "      }\n",
              "    </style>\n",
              "    <button class=\"colab-df-generate\" onclick=\"generateWithVariable('results_df')\"\n",
              "            title=\"Generate code using this dataframe.\"\n",
              "            style=\"display:none;\">\n",
              "\n",
              "  <svg xmlns=\"http://www.w3.org/2000/svg\" height=\"24px\"viewBox=\"0 0 24 24\"\n",
              "       width=\"24px\">\n",
              "    <path d=\"M7,19H8.4L18.45,9,17,7.55,7,17.6ZM5,21V16.75L18.45,3.32a2,2,0,0,1,2.83,0l1.4,1.43a1.91,1.91,0,0,1,.58,1.4,1.91,1.91,0,0,1-.58,1.4L9.25,21ZM18.45,9,17,7.55Zm-12,3A5.31,5.31,0,0,0,4.9,8.1,5.31,5.31,0,0,0,1,6.5,5.31,5.31,0,0,0,4.9,4.9,5.31,5.31,0,0,0,6.5,1,5.31,5.31,0,0,0,8.1,4.9,5.31,5.31,0,0,0,12,6.5,5.46,5.46,0,0,0,6.5,12Z\"/>\n",
              "  </svg>\n",
              "    </button>\n",
              "    <script>\n",
              "      (() => {\n",
              "      const buttonEl =\n",
              "        document.querySelector('#id_fa76193b-c756-4312-b564-9e226b3e4e79 button.colab-df-generate');\n",
              "      buttonEl.style.display =\n",
              "        google.colab.kernel.accessAllowed ? 'block' : 'none';\n",
              "\n",
              "      buttonEl.onclick = () => {\n",
              "        google.colab.notebook.generateWithVariable('results_df');\n",
              "      }\n",
              "      })();\n",
              "    </script>\n",
              "  </div>\n",
              "\n",
              "    </div>\n",
              "  </div>\n"
            ],
            "application/vnd.google.colaboratory.intrinsic+json": {
              "type": "dataframe",
              "variable_name": "results_df",
              "summary": "{\n  \"name\": \"results_df\",\n  \"rows\": 6,\n  \"fields\": [\n    {\n      \"column\": \"Modelo\",\n      \"properties\": {\n        \"dtype\": \"string\",\n        \"num_unique_values\": 6,\n        \"samples\": [\n          \"KNN\",\n          \"Ridge\",\n          \"Lasso\"\n        ],\n        \"semantic_type\": \"\",\n        \"description\": \"\"\n      }\n    },\n    {\n      \"column\": \"Accuracy\",\n      \"properties\": {\n        \"dtype\": \"number\",\n        \"std\": 0.1401427843308388,\n        \"min\": 0.64,\n        \"max\": 1.0,\n        \"num_unique_values\": 5,\n        \"samples\": [\n          0.99,\n          0.64,\n          0.98\n        ],\n        \"semantic_type\": \"\",\n        \"description\": \"\"\n      }\n    },\n    {\n      \"column\": \"F1-Score\",\n      \"properties\": {\n        \"dtype\": \"number\",\n        \"std\": 0.14038043548396145,\n        \"min\": 0.64,\n        \"max\": 1.0,\n        \"num_unique_values\": 5,\n        \"samples\": [\n          0.99,\n          0.64,\n          0.98\n        ],\n        \"semantic_type\": \"\",\n        \"description\": \"\"\n      }\n    },\n    {\n      \"column\": \"Recall\",\n      \"properties\": {\n        \"dtype\": \"number\",\n        \"std\": 0.14038043548396145,\n        \"min\": 0.64,\n        \"max\": 1.0,\n        \"num_unique_values\": 5,\n        \"samples\": [\n          0.99,\n          0.64,\n          0.98\n        ],\n        \"semantic_type\": \"\",\n        \"description\": \"\"\n      }\n    },\n    {\n      \"column\": \"Tiempo de Entrenamiento (s)\",\n      \"properties\": {\n        \"dtype\": \"number\",\n        \"std\": 24.74900159602403,\n        \"min\": 2.24,\n        \"max\": 67.23,\n        \"num_unique_values\": 6,\n        \"samples\": [\n          21.52,\n          2.24,\n          5.77\n        ],\n        \"semantic_type\": \"\",\n        \"description\": \"\"\n      }\n    }\n  ]\n}"
            }
          },
          "metadata": {}
        }
      ]
    },
    {
      "cell_type": "markdown",
      "source": [
        "####Análisis de Resultados:"
      ],
      "metadata": {
        "id": "lEbwjL6nDQNv"
      }
    },
    {
      "cell_type": "markdown",
      "source": [
        "Al analizar la tabla comparativa, observamos que el modelo KNN alcanzó un rendimiento perfecto en todas las métricas de accuracy, f1-score, y recall, con valores de 1.00 en cada una. Este modelo destaca claramente como el más preciso, aunque su tiempo de entrenamiento de 21.52 segundos es considerable en comparación con otros modelos que también muestran un rendimiento sobresaliente.\n",
        "\n",
        "El modelo Ridge y el Decision Tree también obtuvieron resultados muy altos, con valores de 0.99 en todas las métricas y se entrenaron en tiempos mucho menores que el KNN (2.24 y 3.29 segundos, respectivamente).\n",
        "\n",
        "Logistic Regression obtuvo valores levemente inferiores, con un accuracy, f1-score, y recall de 0.98. Aunque este modelo es bastante preciso, su tiempo de entrenamiento es significativamente mayor (67.23 segundos).\n",
        "\n",
        "El Random Forest, con un accuracy de 0.92, se desempeñó bien en general, aunque fue superado en precisión y tiempo por otros modelos como Ridge y Decision Tree.\n",
        "\n",
        "Por último, el modelo Lasso mostró el rendimiento más bajo, con métricas de 0.64, lo que indica que no es la mejor opción para este problema específico.\n",
        "\n",
        "En conclusión, los modelos KNN, Ridge, y Decision Tree destacaron por su alta precisión, siendo **Ridge y Decision Tree** los más eficientes en términos de tiempo de entrenamiento. Estos resultados nos ayudarán a elegir los mejores modelos para el ajuste fino y la optimización final."
      ],
      "metadata": {
        "id": "WF1ew5lNDTc_"
      }
    },
    {
      "cell_type": "markdown",
      "source": [
        "###Modelos con Mejor Desempeño"
      ],
      "metadata": {
        "id": "7DrjblOTE17e"
      }
    },
    {
      "cell_type": "markdown",
      "source": [
        "Para asegurar que nuestro modelo no esté sobreajustado, seleccionamos el modelo Ridge y el árbol de decisión con una profundidad controlada.\n",
        "\n",
        "**Modelo Ridge:**\n",
        "* **Ventaja:** Ridge es una técnica de regresión lineal regularizada que penaliza los coeficientes de los predictores, lo cual nos ayuda a reducir el riesgo de sobreajuste. Gracias a su regularización, controlada por el hiperparámetro alpha, evitamos que los coeficientes crezcan excesivamente, lo que permite manejar mejor los datos ruidosos y minimizar el sobreajuste.\n",
        "* **Rendimiento y Eficiencia:** Este modelo obtuvo un accuracy de 0.99 en las métricas clave, con un tiempo de entrenamiento bajo (2.24 segundos). Este equilibrio entre precisión y robustez ante el sobreajuste hace que el modelo Ridge sea una opción sólida.\n",
        "\n",
        "**Árbol de Decisión** (con una profundidad limitada):\n",
        "* **Ventaja:** Aunque los árboles de decisión tienen tendencia a sobreajustarse, establecer una profundidad máxima (en este caso, configurando max_depth=5) nos ayuda a evitarlo. Con una profundidad controlada, el árbol puede captar patrones generales sin volverse excesivamente específico con los datos de entrenamiento.\n",
        "* **Rendimiento:** Este modelo obtuvo métricas de 0.99 en accuracy, f1-score y recall, con un tiempo de entrenamiento razonable (3.29 segundos). Un árbol de decisión bien regulado es, por tanto, una opción adecuada para evitar el sobreajuste, además de que mantiene la interpretabilidad."
      ],
      "metadata": {
        "id": "DULryjOpE4uj"
      }
    },
    {
      "cell_type": "markdown",
      "source": [
        "##Ajuste Fino en Ridge"
      ],
      "metadata": {
        "id": "zakMNRLvG_yc"
      }
    },
    {
      "cell_type": "markdown",
      "source": [
        "Optimizamos el modelo Ridge mediante un proceso de ajuste fino utilizando **RandomizedSearchCV**, una herramienta que nos permite probar de manera eficiente combinaciones aleatorias de hiperparámetros para maximizar el rendimiento del modelo, en este caso medido por el Mean Squared Error (MSE) negativo.\n",
        "\n",
        "**Muestra y División de Datos:**\n",
        "Primero, trabajamos con una muestra del 30% del conjunto de datos original para reducir el tiempo de procesamiento. Los datos se dividen en conjuntos de entrenamiento y prueba, y se limpian valores NaN o infinitos para asegurar la estabilidad del modelo.\n",
        "\n",
        "**Rango de Hiperparámetros** (param_distributions):\n",
        "Definimos un rango reducido de valores para los hiperparámetros clave de Ridge:\n",
        "\n",
        "* alpha: Controla el nivel de regularización y se ajusta en una escala logarítmica entre 10^-2 y 10^1, lo que nos ayuda a cubrir un rango representativo de regularización.\n",
        "* solver: Se establece en auto para permitir que el modelo seleccione el mejor método de optimización según los datos.\n",
        "\n",
        "Con 5 combinaciones aleatorias de hiperparámetros y validación cruzada de 3 pliegues, identificamos los valores óptimos para maximizar el rendimiento en el conjunto de prueba."
      ],
      "metadata": {
        "id": "aL07kAmGHH2-"
      }
    },
    {
      "cell_type": "code",
      "source": [
        "from sklearn.linear_model import Ridge\n",
        "from sklearn.model_selection import RandomizedSearchCV, train_test_split\n",
        "import numpy as np\n",
        "\n",
        "# Crear una muestra del DataFrame\n",
        "df_sample = df_unidoLDG_encoded.sample(frac=0.3, random_state=42)\n",
        "\n",
        "# Definir las variables predictoras (X) y la variable objetivo (y) en la muestra\n",
        "X_sample = df_sample.drop(columns=['es_LDGincubadora', 'es_Voluntariado', 'es_HistoriaExito'])\n",
        "y_sample = df_sample['es_LDGincubadora']\n",
        "\n",
        "# Dividir los datos de la muestra en conjuntos de entrenamiento y prueba\n",
        "X_train, X_test, y_train, y_test = train_test_split(X_sample, y_sample, test_size=0.2, random_state=42)\n",
        "\n",
        "# Verificar y limpiar NaN o infinitos en los datos\n",
        "X_train = X_train.replace([np.inf, -np.inf], np.nan).fillna(0)\n",
        "y_train = y_train.replace([np.inf, -np.inf], np.nan).fillna(y_train.mean())\n",
        "\n",
        "# Definir el modelo Ridge\n",
        "ridge_model = Ridge()\n",
        "\n",
        "# Definir un rango reducido de valores para los hiperparámetros\n",
        "param_distributions = {\n",
        "    'alpha': np.logspace(-2, 1, 3),  # Rango más limitado para alpha\n",
        "    'solver': ['auto']               # Un solo solver\n",
        "}\n",
        "\n",
        "# Configurar la búsqueda aleatoria (Randomized Search) con menos iteraciones\n",
        "random_search = RandomizedSearchCV(\n",
        "    estimator=ridge_model,\n",
        "    param_distributions=param_distributions,\n",
        "    n_iter=5,             # Menor número de combinaciones aleatorias a probar\n",
        "    scoring='neg_mean_squared_error',  # Métrica para regresión\n",
        "    cv=3,\n",
        "    n_jobs=-1,\n",
        "    random_state=42\n",
        ")\n",
        "\n",
        "# Entrenar el Randomized Search en los datos de entrenamiento\n",
        "random_search.fit(X_train, y_train)\n",
        "\n",
        "# Mostrar los mejores hiperparámetros y el rendimiento correspondiente\n",
        "display(\"Mejores hiperparámetros encontrados:\", random_search.best_params_)\n",
        "display(\"Mejor rendimiento (neg_mean_squared_error) obtenido:\", random_search.best_score_)"
      ],
      "metadata": {
        "id": "Z8VpdqN8J-ST",
        "colab": {
          "base_uri": "https://localhost:8080/",
          "height": 88
        },
        "outputId": "09b165d6-3d25-4caa-8f9c-9275ea24583f"
      },
      "execution_count": 6,
      "outputs": [
        {
          "output_type": "display_data",
          "data": {
            "text/plain": [
              "'Mejores hiperparámetros encontrados:'"
            ],
            "application/vnd.google.colaboratory.intrinsic+json": {
              "type": "string"
            }
          },
          "metadata": {}
        },
        {
          "output_type": "display_data",
          "data": {
            "text/plain": [
              "{'solver': 'auto', 'alpha': 0.31622776601683794}"
            ]
          },
          "metadata": {}
        },
        {
          "output_type": "display_data",
          "data": {
            "text/plain": [
              "'Mejor rendimiento (neg_mean_squared_error) obtenido:'"
            ],
            "application/vnd.google.colaboratory.intrinsic+json": {
              "type": "string"
            }
          },
          "metadata": {}
        },
        {
          "output_type": "display_data",
          "data": {
            "text/plain": [
              "-0.030760871557608534"
            ]
          },
          "metadata": {}
        }
      ]
    },
    {
      "cell_type": "markdown",
      "source": [
        "Entrenaremos el modelo final de Ridge utilizando los mejores hiperparámetros encontrados en el ajuste fino (alpha=0.316 y solver='auto').\n",
        "\n",
        "Primero, ajustaremos el modelo a los datos de entrenamiento (X_train, y_train) para que aprenda de ellos.\n",
        "\n",
        "A continuación, realizaremos predicciones en el conjunto de prueba (X_test) y evaluaremos el rendimiento del modelo en estos datos no vistos. Para medir el rendimiento, usaremos métricas de regresión como:\n",
        "\n",
        "* Mean Squared Error (MSE): Evalúa el error promedio al cuadrado entre las predicciones y los valores reales.\n",
        "* Mean Absolute Error (MAE): Mide el error promedio absoluto.\n",
        "* R² Score: Indica qué tan bien el modelo explica la variabilidad de los datos."
      ],
      "metadata": {
        "id": "h55hl8GJC_Df"
      }
    },
    {
      "cell_type": "code",
      "source": [
        "# Entrenar el modelo final con los mejores hiperparámetros\n",
        "final_ridge_model = Ridge(alpha=0.316, solver='auto')\n",
        "final_ridge_model.fit(X_train, y_train)\n",
        "\n",
        "# Predecir en el conjunto de prueba\n",
        "y_pred = final_ridge_model.predict(X_test)\n",
        "\n",
        "# Evaluar el rendimiento en el conjunto de prueba\n",
        "from sklearn.metrics import mean_squared_error, mean_absolute_error, r2_score\n",
        "\n",
        "mse = mean_squared_error(y_test, y_pred)\n",
        "mae = mean_absolute_error(y_test, y_pred)\n",
        "r2 = r2_score(y_test, y_pred)\n",
        "\n",
        "display(\"Rendimiento en el conjunto de prueba:\")\n",
        "display(\"Mean Squared Error (MSE):\", mse)\n",
        "display(\"Mean Absolute Error (MAE):\", mae)\n",
        "display(\"R^2 Score:\", r2)"
      ],
      "metadata": {
        "colab": {
          "base_uri": "https://localhost:8080/",
          "height": 142
        },
        "id": "m924dDtUDLyV",
        "outputId": "de38839f-5c0d-44a4-bda6-fb95c8cd769b"
      },
      "execution_count": 7,
      "outputs": [
        {
          "output_type": "display_data",
          "data": {
            "text/plain": [
              "'Rendimiento en el conjunto de prueba:'"
            ],
            "application/vnd.google.colaboratory.intrinsic+json": {
              "type": "string"
            }
          },
          "metadata": {}
        },
        {
          "output_type": "display_data",
          "data": {
            "text/plain": [
              "'Mean Squared Error (MSE):'"
            ],
            "application/vnd.google.colaboratory.intrinsic+json": {
              "type": "string"
            }
          },
          "metadata": {}
        },
        {
          "output_type": "display_data",
          "data": {
            "text/plain": [
              "0.0300062082810421"
            ]
          },
          "metadata": {}
        },
        {
          "output_type": "display_data",
          "data": {
            "text/plain": [
              "'Mean Absolute Error (MAE):'"
            ],
            "application/vnd.google.colaboratory.intrinsic+json": {
              "type": "string"
            }
          },
          "metadata": {}
        },
        {
          "output_type": "display_data",
          "data": {
            "text/plain": [
              "0.09660605685854118"
            ]
          },
          "metadata": {}
        },
        {
          "output_type": "display_data",
          "data": {
            "text/plain": [
              "'R^2 Score:'"
            ],
            "application/vnd.google.colaboratory.intrinsic+json": {
              "type": "string"
            }
          },
          "metadata": {}
        },
        {
          "output_type": "display_data",
          "data": {
            "text/plain": [
              "0.8773762944738238"
            ]
          },
          "metadata": {}
        }
      ]
    },
    {
      "cell_type": "markdown",
      "source": [
        "Resultados del Rendimiento en el Conjunto de Prueba\n",
        "\n",
        "**Mean Squared Error (MSE): 0.0300**\n",
        "\n",
        "* El MSE representa el error promedio al cuadrado entre las predicciones y los valores reales, y un valor bajo indica que las predicciones están, en general, cerca de los valores reales.\n",
        "En este caso, el MSE de 0.0300 sugiere que el modelo tiene un error promedio relativamente pequeño, lo cual es un buen indicador de precisión.\n",
        "\n",
        "**Mean Absolute Error (MAE): 0.0966**\n",
        "\n",
        "* El MAE muestra el error promedio absoluto, es decir, el promedio de las diferencias absolutas entre las predicciones y los valores reales.\n",
        "Un MAE de 0.0966 significa que, en promedio, las predicciones del modelo están a aproximadamente 0.0966 unidades de los valores reales. Este valor también indica un rendimiento sólido, con desviaciones relativamente pequeñas.\n",
        "\n",
        "**R² Score: 0.8774**\n",
        "\n",
        "* El R² Score, o coeficiente de determinación, mide la proporción de la varianza en la variable objetivo que el modelo puede explicar. Un valor de 1 significa que el modelo explica perfectamente los datos, mientras que un valor cercano a 0 indica que no explica la variabilidad.\n",
        "En este caso, el R² de 0.8774 indica que el modelo explica aproximadamente el 87.7% de la variabilidad en los datos de prueba, lo cual es un buen nivel de ajuste, mostrando que el modelo generaliza bien en datos nuevos."
      ],
      "metadata": {
        "id": "wbfJ5fMzDtqJ"
      }
    },
    {
      "cell_type": "markdown",
      "source": [
        "##Ajuste Fino en Árbol de Decisión"
      ],
      "metadata": {
        "id": "zw0oUD_lGyEp"
      }
    },
    {
      "cell_type": "markdown",
      "source": [
        "###Hiperparámetros a Ajustar para el Árbol de Decisión\n",
        "\n",
        "Los hiperparámetros más importantes para un árbol de decisión incluyen:\n",
        "\n",
        "* max_depth: La profundidad máxima del árbol. Limitar este valor ayuda a evitar el sobreajuste.\n",
        "* min_samples_split: El número mínimo de muestras requeridas para dividir un nodo. Valores más altos evitan que el árbol crezca demasiado en profundidad.\n",
        "* min_samples_leaf: El número mínimo de muestras que debe tener un nodo hoja. Ayuda a reducir el sobreajuste.\n",
        "* max_features: El número máximo de características a considerar al dividir un nodo. Puede ser un valor entero, un porcentaje (\"sqrt\" o \"log2\"), o None para usar todas las características."
      ],
      "metadata": {
        "id": "XW0ZKDwOG6Dn"
      }
    },
    {
      "cell_type": "markdown",
      "source": [
        "Vamos a utilizar RandomizedSearchCV para explorar el espacio de hiperparámetros, lo que permitirá reducir el tiempo de búsqueda en comparación con GridSearchCV."
      ],
      "metadata": {
        "id": "ZKXo9zIxHKSW"
      }
    },
    {
      "cell_type": "code",
      "source": [
        "from sklearn.tree import DecisionTreeRegressor  # Usa DecisionTreeClassifier si es clasificación\n",
        "from sklearn.model_selection import RandomizedSearchCV, train_test_split\n",
        "import numpy as np\n",
        "\n",
        "# Definir las variables predictoras (X) y la variable objetivo (y)\n",
        "X = df_unidoLDG_encoded.drop(columns=['es_LDGincubadora', 'es_Voluntariado', 'es_HistoriaExito'])\n",
        "y = df_unidoLDG_encoded['es_LDGincubadora']  # Variable objetivo seleccionada\n",
        "\n",
        "# Dividir los datos en conjuntos de entrenamiento y prueba\n",
        "X_train, X_test, y_train, y_test = train_test_split(X, y, test_size=0.2, random_state=42)\n",
        "\n",
        "# Definir el modelo de Árbol de Decisión\n",
        "decision_tree_model = DecisionTreeRegressor(random_state=42)\n",
        "\n",
        "# Definir el rango de valores para los hiperparámetros\n",
        "param_distributions = {\n",
        "    'max_depth': [None, 10, 20, 30, 40, 50],      # Profundidad máxima del árbol\n",
        "    'min_samples_split': [2, 5, 10, 20],          # Número mínimo de muestras para dividir un nodo\n",
        "    'min_samples_leaf': [1, 2, 5, 10],            # Número mínimo de muestras en una hoja\n",
        "    'max_features': ['auto', 'sqrt', 'log2', None] # Máximo de características a considerar\n",
        "}\n",
        "\n",
        "# Configurar la búsqueda aleatoria (Randomized Search) con un número limitado de iteraciones\n",
        "random_search = RandomizedSearchCV(\n",
        "    estimator=decision_tree_model,\n",
        "    param_distributions=param_distributions,\n",
        "    n_iter=10,             # Número de combinaciones aleatorias a probar\n",
        "    scoring='neg_mean_squared_error',  # Para regresión; usa 'accuracy' si es clasificación\n",
        "    cv=3,                  # Validación cruzada de 3 pliegues para reducir tiempo\n",
        "    n_jobs=-1,             # Usa todos los núcleos disponibles para acelerar el proceso\n",
        "    random_state=42\n",
        ")\n",
        "\n",
        "# Entrenar el Randomized Search en los datos de entrenamiento\n",
        "random_search.fit(X_train, y_train)\n",
        "\n",
        "# Mostrar los mejores hiperparámetros y el rendimiento correspondiente\n",
        "display(\"Mejores hiperparámetros encontrados:\", random_search.best_params_)\n",
        "display(\"Mejor rendimiento (neg_mean_squared_error) obtenido:\", random_search.best_score_)\n"
      ],
      "metadata": {
        "colab": {
          "base_uri": "https://localhost:8080/",
          "height": 0
        },
        "id": "jvKCUtTIHOqj",
        "outputId": "ec2b66c5-cd32-426a-edb3-657ab6521d8a"
      },
      "execution_count": 8,
      "outputs": [
        {
          "output_type": "display_data",
          "data": {
            "text/plain": [
              "'Mejores hiperparámetros encontrados:'"
            ],
            "application/vnd.google.colaboratory.intrinsic+json": {
              "type": "string"
            }
          },
          "metadata": {}
        },
        {
          "output_type": "display_data",
          "data": {
            "text/plain": [
              "{'min_samples_split': 2,\n",
              " 'min_samples_leaf': 2,\n",
              " 'max_features': None,\n",
              " 'max_depth': 50}"
            ]
          },
          "metadata": {}
        },
        {
          "output_type": "display_data",
          "data": {
            "text/plain": [
              "'Mejor rendimiento (neg_mean_squared_error) obtenido:'"
            ],
            "application/vnd.google.colaboratory.intrinsic+json": {
              "type": "string"
            }
          },
          "metadata": {}
        },
        {
          "output_type": "display_data",
          "data": {
            "text/plain": [
              "-0.00035061019204361095"
            ]
          },
          "metadata": {}
        }
      ]
    },
    {
      "cell_type": "markdown",
      "source": [
        "####Interpretación de los Resultados"
      ],
      "metadata": {
        "id": "Yk68H1JtI65I"
      }
    },
    {
      "cell_type": "markdown",
      "source": [
        "\n",
        "\n",
        "**Mejor Rendimiento:**\n",
        "\n",
        "neg_mean_squared_error: -0.00035\n",
        "Dado que RandomizedSearchCV devuelve el valor negativo del MSE, esto significa que el Mean Squared Error (MSE) del modelo en el conjunto de validación es aproximadamente 0.00035. Este es un valor bastante bajo, lo que indica que el modelo tiene un buen ajuste en los datos de entrenamiento y es capaz de predecir con precisión.\n",
        "\n",
        "**Los hiperparámetros optimizados indican que:**\n",
        "\n",
        "* Profundidad del Árbol (max_depth=50): Permitir que el árbol crezca hasta una profundidad de 50 indica que el modelo necesita una estructura más detallada para capturar las relaciones en los datos.\n",
        "* Control de División y Tamaño de las Hojas (min_samples_split=2 y min_samples_leaf=2): Estas configuraciones permiten que el modelo capture patrones con precisión, evitando la creación de nodos con muy pocas muestras y reduciendo el riesgo de sobreajuste."
      ],
      "metadata": {
        "id": "sWY9H9qOI3tR"
      }
    },
    {
      "cell_type": "markdown",
      "source": [
        "####Entrenar y Evaluar el Modelo Final"
      ],
      "metadata": {
        "id": "7Zw9B0xdJM-F"
      }
    },
    {
      "cell_type": "code",
      "source": [
        "from sklearn.tree import DecisionTreeRegressor\n",
        "from sklearn.metrics import mean_squared_error, mean_absolute_error, r2_score\n",
        "\n",
        "# Entrenar el modelo final con los mejores hiperparámetros\n",
        "final_decision_tree_model = DecisionTreeRegressor(\n",
        "    min_samples_split=2,\n",
        "    min_samples_leaf=2,\n",
        "    max_features=None,\n",
        "    max_depth=50,\n",
        "    random_state=42\n",
        ")\n",
        "\n",
        "final_decision_tree_model.fit(X_train, y_train)\n",
        "\n",
        "# Realizar predicciones en el conjunto de prueba\n",
        "y_pred = final_decision_tree_model.predict(X_test)\n",
        "\n",
        "# Calcular las métricas de evaluación\n",
        "mse = mean_squared_error(y_test, y_pred)\n",
        "mae = mean_absolute_error(y_test, y_pred)\n",
        "r2 = r2_score(y_test, y_pred)\n",
        "\n",
        "display(\"Rendimiento en el conjunto de prueba:\")\n",
        "display(\"Mean Squared Error (MSE):\", mse)\n",
        "display(\"Mean Absolute Error (MAE):\", mae)\n",
        "display(\"R^2 Score:\", r2)\n"
      ],
      "metadata": {
        "colab": {
          "base_uri": "https://localhost:8080/",
          "height": 0
        },
        "id": "Sn7Ebr_lJQfN",
        "outputId": "71ed60be-0d3c-4ce6-d48b-1b237bbc6c27"
      },
      "execution_count": 9,
      "outputs": [
        {
          "output_type": "display_data",
          "data": {
            "text/plain": [
              "'Rendimiento en el conjunto de prueba:'"
            ],
            "application/vnd.google.colaboratory.intrinsic+json": {
              "type": "string"
            }
          },
          "metadata": {}
        },
        {
          "output_type": "display_data",
          "data": {
            "text/plain": [
              "'Mean Squared Error (MSE):'"
            ],
            "application/vnd.google.colaboratory.intrinsic+json": {
              "type": "string"
            }
          },
          "metadata": {}
        },
        {
          "output_type": "display_data",
          "data": {
            "text/plain": [
              "0.00019254023431610308"
            ]
          },
          "metadata": {}
        },
        {
          "output_type": "display_data",
          "data": {
            "text/plain": [
              "'Mean Absolute Error (MAE):'"
            ],
            "application/vnd.google.colaboratory.intrinsic+json": {
              "type": "string"
            }
          },
          "metadata": {}
        },
        {
          "output_type": "display_data",
          "data": {
            "text/plain": [
              "0.00023749935260769623"
            ]
          },
          "metadata": {}
        },
        {
          "output_type": "display_data",
          "data": {
            "text/plain": [
              "'R^2 Score:'"
            ],
            "application/vnd.google.colaboratory.intrinsic+json": {
              "type": "string"
            }
          },
          "metadata": {}
        },
        {
          "output_type": "display_data",
          "data": {
            "text/plain": [
              "0.9992126456585579"
            ]
          },
          "metadata": {}
        }
      ]
    },
    {
      "cell_type": "markdown",
      "source": [
        "Resultados del Rendimiento en el Conjunto de Prueba\n",
        "\n",
        "**Mean Squared Error (MSE): 0.00019**\n",
        "\n",
        "* El MSE es extremadamente bajo, lo que indica que el modelo tiene un error promedio al cuadrado muy pequeño en sus predicciones. Esto sugiere que las predicciones están, en general, muy cercanas a los valores reales.\n",
        "\n",
        "**Mean Absolute Error (MAE): 0.00024**\n",
        "\n",
        "* El MAE, que representa el error promedio absoluto, también es muy bajo. Un MAE de 0.00024 implica que, en promedio, las predicciones del modelo difieren de los valores reales por solo 0.00024 unidades, lo cual es excelente y muestra una gran precisión.\n",
        "\n",
        "**R² Score: 0.9992**\n",
        "\n",
        "* El R² Score de 0.9992 significa que el modelo explica el 99.92% de la variabilidad de los datos en el conjunto de prueba. Este es un valor muy alto, lo cual indica que el modelo generaliza muy bien y que es capaz de capturar casi toda la variabilidad de los datos."
      ],
      "metadata": {
        "id": "CdGkzxfZKpY8"
      }
    },
    {
      "cell_type": "markdown",
      "source": [
        "##Comparación de Resultados"
      ],
      "metadata": {
        "id": "MMUv0RyjMn_f"
      }
    },
    {
      "cell_type": "code",
      "source": [
        "import pandas as pd\n",
        "\n",
        "# Crear el DataFrame con los datos de la tabla\n",
        "data = {\n",
        "    \"Métrica\": [\"Mean Squared Error (MSE)\", \"Mean Absolute Error (MAE)\", \"R² Score\", \"Tiempo de Entrenamiento\"],\n",
        "    \"Árbol de Decisión\": [0.00019, 0.00024, 0.9992, \"Generalmente mayor que Ridge\"],\n",
        "    \"Ridge\": [0.0300, 0.0966, 0.8774, \"Generalmente más rápido\"]\n",
        "}\n",
        "\n",
        "# Crear el DataFrame\n",
        "comparison_df = pd.DataFrame(data)\n",
        "\n",
        "# Mostrar la tabla\n",
        "display(comparison_df)\n"
      ],
      "metadata": {
        "colab": {
          "base_uri": "https://localhost:8080/",
          "height": 174
        },
        "id": "iqMgAT--M5r5",
        "outputId": "045ab8c9-3652-4fc6-a6fe-6d7d1c2f870d"
      },
      "execution_count": 10,
      "outputs": [
        {
          "output_type": "display_data",
          "data": {
            "text/plain": [
              "                     Métrica             Árbol de Decisión  \\\n",
              "0   Mean Squared Error (MSE)                       0.00019   \n",
              "1  Mean Absolute Error (MAE)                       0.00024   \n",
              "2                   R² Score                        0.9992   \n",
              "3    Tiempo de Entrenamiento  Generalmente mayor que Ridge   \n",
              "\n",
              "                     Ridge  \n",
              "0                     0.03  \n",
              "1                   0.0966  \n",
              "2                   0.8774  \n",
              "3  Generalmente más rápido  "
            ],
            "text/html": [
              "\n",
              "  <div id=\"df-ac354289-dc03-4b19-8fba-ff634546d54c\" class=\"colab-df-container\">\n",
              "    <div>\n",
              "<style scoped>\n",
              "    .dataframe tbody tr th:only-of-type {\n",
              "        vertical-align: middle;\n",
              "    }\n",
              "\n",
              "    .dataframe tbody tr th {\n",
              "        vertical-align: top;\n",
              "    }\n",
              "\n",
              "    .dataframe thead th {\n",
              "        text-align: right;\n",
              "    }\n",
              "</style>\n",
              "<table border=\"1\" class=\"dataframe\">\n",
              "  <thead>\n",
              "    <tr style=\"text-align: right;\">\n",
              "      <th></th>\n",
              "      <th>Métrica</th>\n",
              "      <th>Árbol de Decisión</th>\n",
              "      <th>Ridge</th>\n",
              "    </tr>\n",
              "  </thead>\n",
              "  <tbody>\n",
              "    <tr>\n",
              "      <th>0</th>\n",
              "      <td>Mean Squared Error (MSE)</td>\n",
              "      <td>0.00019</td>\n",
              "      <td>0.03</td>\n",
              "    </tr>\n",
              "    <tr>\n",
              "      <th>1</th>\n",
              "      <td>Mean Absolute Error (MAE)</td>\n",
              "      <td>0.00024</td>\n",
              "      <td>0.0966</td>\n",
              "    </tr>\n",
              "    <tr>\n",
              "      <th>2</th>\n",
              "      <td>R² Score</td>\n",
              "      <td>0.9992</td>\n",
              "      <td>0.8774</td>\n",
              "    </tr>\n",
              "    <tr>\n",
              "      <th>3</th>\n",
              "      <td>Tiempo de Entrenamiento</td>\n",
              "      <td>Generalmente mayor que Ridge</td>\n",
              "      <td>Generalmente más rápido</td>\n",
              "    </tr>\n",
              "  </tbody>\n",
              "</table>\n",
              "</div>\n",
              "    <div class=\"colab-df-buttons\">\n",
              "\n",
              "  <div class=\"colab-df-container\">\n",
              "    <button class=\"colab-df-convert\" onclick=\"convertToInteractive('df-ac354289-dc03-4b19-8fba-ff634546d54c')\"\n",
              "            title=\"Convert this dataframe to an interactive table.\"\n",
              "            style=\"display:none;\">\n",
              "\n",
              "  <svg xmlns=\"http://www.w3.org/2000/svg\" height=\"24px\" viewBox=\"0 -960 960 960\">\n",
              "    <path d=\"M120-120v-720h720v720H120Zm60-500h600v-160H180v160Zm220 220h160v-160H400v160Zm0 220h160v-160H400v160ZM180-400h160v-160H180v160Zm440 0h160v-160H620v160ZM180-180h160v-160H180v160Zm440 0h160v-160H620v160Z\"/>\n",
              "  </svg>\n",
              "    </button>\n",
              "\n",
              "  <style>\n",
              "    .colab-df-container {\n",
              "      display:flex;\n",
              "      gap: 12px;\n",
              "    }\n",
              "\n",
              "    .colab-df-convert {\n",
              "      background-color: #E8F0FE;\n",
              "      border: none;\n",
              "      border-radius: 50%;\n",
              "      cursor: pointer;\n",
              "      display: none;\n",
              "      fill: #1967D2;\n",
              "      height: 32px;\n",
              "      padding: 0 0 0 0;\n",
              "      width: 32px;\n",
              "    }\n",
              "\n",
              "    .colab-df-convert:hover {\n",
              "      background-color: #E2EBFA;\n",
              "      box-shadow: 0px 1px 2px rgba(60, 64, 67, 0.3), 0px 1px 3px 1px rgba(60, 64, 67, 0.15);\n",
              "      fill: #174EA6;\n",
              "    }\n",
              "\n",
              "    .colab-df-buttons div {\n",
              "      margin-bottom: 4px;\n",
              "    }\n",
              "\n",
              "    [theme=dark] .colab-df-convert {\n",
              "      background-color: #3B4455;\n",
              "      fill: #D2E3FC;\n",
              "    }\n",
              "\n",
              "    [theme=dark] .colab-df-convert:hover {\n",
              "      background-color: #434B5C;\n",
              "      box-shadow: 0px 1px 3px 1px rgba(0, 0, 0, 0.15);\n",
              "      filter: drop-shadow(0px 1px 2px rgba(0, 0, 0, 0.3));\n",
              "      fill: #FFFFFF;\n",
              "    }\n",
              "  </style>\n",
              "\n",
              "    <script>\n",
              "      const buttonEl =\n",
              "        document.querySelector('#df-ac354289-dc03-4b19-8fba-ff634546d54c button.colab-df-convert');\n",
              "      buttonEl.style.display =\n",
              "        google.colab.kernel.accessAllowed ? 'block' : 'none';\n",
              "\n",
              "      async function convertToInteractive(key) {\n",
              "        const element = document.querySelector('#df-ac354289-dc03-4b19-8fba-ff634546d54c');\n",
              "        const dataTable =\n",
              "          await google.colab.kernel.invokeFunction('convertToInteractive',\n",
              "                                                    [key], {});\n",
              "        if (!dataTable) return;\n",
              "\n",
              "        const docLinkHtml = 'Like what you see? Visit the ' +\n",
              "          '<a target=\"_blank\" href=https://colab.research.google.com/notebooks/data_table.ipynb>data table notebook</a>'\n",
              "          + ' to learn more about interactive tables.';\n",
              "        element.innerHTML = '';\n",
              "        dataTable['output_type'] = 'display_data';\n",
              "        await google.colab.output.renderOutput(dataTable, element);\n",
              "        const docLink = document.createElement('div');\n",
              "        docLink.innerHTML = docLinkHtml;\n",
              "        element.appendChild(docLink);\n",
              "      }\n",
              "    </script>\n",
              "  </div>\n",
              "\n",
              "\n",
              "<div id=\"df-9a011d8c-0a7d-42b8-a477-dffb32bde6e9\">\n",
              "  <button class=\"colab-df-quickchart\" onclick=\"quickchart('df-9a011d8c-0a7d-42b8-a477-dffb32bde6e9')\"\n",
              "            title=\"Suggest charts\"\n",
              "            style=\"display:none;\">\n",
              "\n",
              "<svg xmlns=\"http://www.w3.org/2000/svg\" height=\"24px\"viewBox=\"0 0 24 24\"\n",
              "     width=\"24px\">\n",
              "    <g>\n",
              "        <path d=\"M19 3H5c-1.1 0-2 .9-2 2v14c0 1.1.9 2 2 2h14c1.1 0 2-.9 2-2V5c0-1.1-.9-2-2-2zM9 17H7v-7h2v7zm4 0h-2V7h2v10zm4 0h-2v-4h2v4z\"/>\n",
              "    </g>\n",
              "</svg>\n",
              "  </button>\n",
              "\n",
              "<style>\n",
              "  .colab-df-quickchart {\n",
              "      --bg-color: #E8F0FE;\n",
              "      --fill-color: #1967D2;\n",
              "      --hover-bg-color: #E2EBFA;\n",
              "      --hover-fill-color: #174EA6;\n",
              "      --disabled-fill-color: #AAA;\n",
              "      --disabled-bg-color: #DDD;\n",
              "  }\n",
              "\n",
              "  [theme=dark] .colab-df-quickchart {\n",
              "      --bg-color: #3B4455;\n",
              "      --fill-color: #D2E3FC;\n",
              "      --hover-bg-color: #434B5C;\n",
              "      --hover-fill-color: #FFFFFF;\n",
              "      --disabled-bg-color: #3B4455;\n",
              "      --disabled-fill-color: #666;\n",
              "  }\n",
              "\n",
              "  .colab-df-quickchart {\n",
              "    background-color: var(--bg-color);\n",
              "    border: none;\n",
              "    border-radius: 50%;\n",
              "    cursor: pointer;\n",
              "    display: none;\n",
              "    fill: var(--fill-color);\n",
              "    height: 32px;\n",
              "    padding: 0;\n",
              "    width: 32px;\n",
              "  }\n",
              "\n",
              "  .colab-df-quickchart:hover {\n",
              "    background-color: var(--hover-bg-color);\n",
              "    box-shadow: 0 1px 2px rgba(60, 64, 67, 0.3), 0 1px 3px 1px rgba(60, 64, 67, 0.15);\n",
              "    fill: var(--button-hover-fill-color);\n",
              "  }\n",
              "\n",
              "  .colab-df-quickchart-complete:disabled,\n",
              "  .colab-df-quickchart-complete:disabled:hover {\n",
              "    background-color: var(--disabled-bg-color);\n",
              "    fill: var(--disabled-fill-color);\n",
              "    box-shadow: none;\n",
              "  }\n",
              "\n",
              "  .colab-df-spinner {\n",
              "    border: 2px solid var(--fill-color);\n",
              "    border-color: transparent;\n",
              "    border-bottom-color: var(--fill-color);\n",
              "    animation:\n",
              "      spin 1s steps(1) infinite;\n",
              "  }\n",
              "\n",
              "  @keyframes spin {\n",
              "    0% {\n",
              "      border-color: transparent;\n",
              "      border-bottom-color: var(--fill-color);\n",
              "      border-left-color: var(--fill-color);\n",
              "    }\n",
              "    20% {\n",
              "      border-color: transparent;\n",
              "      border-left-color: var(--fill-color);\n",
              "      border-top-color: var(--fill-color);\n",
              "    }\n",
              "    30% {\n",
              "      border-color: transparent;\n",
              "      border-left-color: var(--fill-color);\n",
              "      border-top-color: var(--fill-color);\n",
              "      border-right-color: var(--fill-color);\n",
              "    }\n",
              "    40% {\n",
              "      border-color: transparent;\n",
              "      border-right-color: var(--fill-color);\n",
              "      border-top-color: var(--fill-color);\n",
              "    }\n",
              "    60% {\n",
              "      border-color: transparent;\n",
              "      border-right-color: var(--fill-color);\n",
              "    }\n",
              "    80% {\n",
              "      border-color: transparent;\n",
              "      border-right-color: var(--fill-color);\n",
              "      border-bottom-color: var(--fill-color);\n",
              "    }\n",
              "    90% {\n",
              "      border-color: transparent;\n",
              "      border-bottom-color: var(--fill-color);\n",
              "    }\n",
              "  }\n",
              "</style>\n",
              "\n",
              "  <script>\n",
              "    async function quickchart(key) {\n",
              "      const quickchartButtonEl =\n",
              "        document.querySelector('#' + key + ' button');\n",
              "      quickchartButtonEl.disabled = true;  // To prevent multiple clicks.\n",
              "      quickchartButtonEl.classList.add('colab-df-spinner');\n",
              "      try {\n",
              "        const charts = await google.colab.kernel.invokeFunction(\n",
              "            'suggestCharts', [key], {});\n",
              "      } catch (error) {\n",
              "        console.error('Error during call to suggestCharts:', error);\n",
              "      }\n",
              "      quickchartButtonEl.classList.remove('colab-df-spinner');\n",
              "      quickchartButtonEl.classList.add('colab-df-quickchart-complete');\n",
              "    }\n",
              "    (() => {\n",
              "      let quickchartButtonEl =\n",
              "        document.querySelector('#df-9a011d8c-0a7d-42b8-a477-dffb32bde6e9 button');\n",
              "      quickchartButtonEl.style.display =\n",
              "        google.colab.kernel.accessAllowed ? 'block' : 'none';\n",
              "    })();\n",
              "  </script>\n",
              "</div>\n",
              "\n",
              "  <div id=\"id_88d4f3a5-13cf-4759-80df-8f88216205ab\">\n",
              "    <style>\n",
              "      .colab-df-generate {\n",
              "        background-color: #E8F0FE;\n",
              "        border: none;\n",
              "        border-radius: 50%;\n",
              "        cursor: pointer;\n",
              "        display: none;\n",
              "        fill: #1967D2;\n",
              "        height: 32px;\n",
              "        padding: 0 0 0 0;\n",
              "        width: 32px;\n",
              "      }\n",
              "\n",
              "      .colab-df-generate:hover {\n",
              "        background-color: #E2EBFA;\n",
              "        box-shadow: 0px 1px 2px rgba(60, 64, 67, 0.3), 0px 1px 3px 1px rgba(60, 64, 67, 0.15);\n",
              "        fill: #174EA6;\n",
              "      }\n",
              "\n",
              "      [theme=dark] .colab-df-generate {\n",
              "        background-color: #3B4455;\n",
              "        fill: #D2E3FC;\n",
              "      }\n",
              "\n",
              "      [theme=dark] .colab-df-generate:hover {\n",
              "        background-color: #434B5C;\n",
              "        box-shadow: 0px 1px 3px 1px rgba(0, 0, 0, 0.15);\n",
              "        filter: drop-shadow(0px 1px 2px rgba(0, 0, 0, 0.3));\n",
              "        fill: #FFFFFF;\n",
              "      }\n",
              "    </style>\n",
              "    <button class=\"colab-df-generate\" onclick=\"generateWithVariable('comparison_df')\"\n",
              "            title=\"Generate code using this dataframe.\"\n",
              "            style=\"display:none;\">\n",
              "\n",
              "  <svg xmlns=\"http://www.w3.org/2000/svg\" height=\"24px\"viewBox=\"0 0 24 24\"\n",
              "       width=\"24px\">\n",
              "    <path d=\"M7,19H8.4L18.45,9,17,7.55,7,17.6ZM5,21V16.75L18.45,3.32a2,2,0,0,1,2.83,0l1.4,1.43a1.91,1.91,0,0,1,.58,1.4,1.91,1.91,0,0,1-.58,1.4L9.25,21ZM18.45,9,17,7.55Zm-12,3A5.31,5.31,0,0,0,4.9,8.1,5.31,5.31,0,0,0,1,6.5,5.31,5.31,0,0,0,4.9,4.9,5.31,5.31,0,0,0,6.5,1,5.31,5.31,0,0,0,8.1,4.9,5.31,5.31,0,0,0,12,6.5,5.46,5.46,0,0,0,6.5,12Z\"/>\n",
              "  </svg>\n",
              "    </button>\n",
              "    <script>\n",
              "      (() => {\n",
              "      const buttonEl =\n",
              "        document.querySelector('#id_88d4f3a5-13cf-4759-80df-8f88216205ab button.colab-df-generate');\n",
              "      buttonEl.style.display =\n",
              "        google.colab.kernel.accessAllowed ? 'block' : 'none';\n",
              "\n",
              "      buttonEl.onclick = () => {\n",
              "        google.colab.notebook.generateWithVariable('comparison_df');\n",
              "      }\n",
              "      })();\n",
              "    </script>\n",
              "  </div>\n",
              "\n",
              "    </div>\n",
              "  </div>\n"
            ],
            "application/vnd.google.colaboratory.intrinsic+json": {
              "type": "dataframe",
              "variable_name": "comparison_df",
              "summary": "{\n  \"name\": \"comparison_df\",\n  \"rows\": 4,\n  \"fields\": [\n    {\n      \"column\": \"M\\u00e9trica\",\n      \"properties\": {\n        \"dtype\": \"string\",\n        \"num_unique_values\": 4,\n        \"samples\": [\n          \"Mean Absolute Error (MAE)\",\n          \"Tiempo de Entrenamiento\",\n          \"Mean Squared Error (MSE)\"\n        ],\n        \"semantic_type\": \"\",\n        \"description\": \"\"\n      }\n    },\n    {\n      \"column\": \"\\u00c1rbol de Decisi\\u00f3n\",\n      \"properties\": {\n        \"dtype\": \"string\",\n        \"num_unique_values\": 4,\n        \"samples\": [\n          0.00024,\n          \"Generalmente mayor que Ridge\",\n          0.00019\n        ],\n        \"semantic_type\": \"\",\n        \"description\": \"\"\n      }\n    },\n    {\n      \"column\": \"Ridge\",\n      \"properties\": {\n        \"dtype\": \"string\",\n        \"num_unique_values\": 4,\n        \"samples\": [\n          0.0966,\n          \"Generalmente m\\u00e1s r\\u00e1pido\",\n          0.03\n        ],\n        \"semantic_type\": \"\",\n        \"description\": \"\"\n      }\n    }\n  ]\n}"
            }
          },
          "metadata": {}
        }
      ]
    },
    {
      "cell_type": "markdown",
      "source": [
        "####Análisis de los Resultados\n",
        "\n",
        "**Precisión:**\n",
        "\n",
        "El Árbol de Decisión supera ampliamente al modelo Ridge en todas las métricas de rendimiento en el conjunto de prueba:\n",
        "\n",
        "* MSE y MAE son significativamente más bajos en el Árbol de Decisión, lo cual indica un menor error promedio en sus predicciones.\n",
        "* El R² Score de 0.9992 en el Árbol de Decisión sugiere que este modelo explica prácticamente toda la variabilidad en los datos de prueba, mientras que Ridge alcanza un R² de 0.8774.\n",
        "\n",
        "**Tiempo de Entrenamiento:**\n",
        "\n",
        "* El modelo Ridge es generalmente más rápido en el entrenamiento debido a su naturaleza lineal. El Árbol de Decisión, especialmente con una profundidad máxima alta como la seleccionada (max_depth=50), puede tomar más tiempo en entrenarse.\n",
        "* Sin embargo, dado el excelente rendimiento del Árbol de Decisión en precisión, este tiempo de entrenamiento adicional parece justificado.\n",
        "\n",
        "**Interpretabilidad:**\n",
        "\n",
        "* El modelo Ridge tiene una ventaja en interpretabilidad, ya que los modelos lineales permiten entender de manera más directa la relación entre las variables predictoras y el objetivo.\n",
        "* El Árbol de Decisión es menos interpretable a altas profundidades, pero sigue siendo más interpretable que otros modelos complejos como los bosques aleatorios o las redes neuronales.\n",
        "\n",
        "**Estabilidad:**\n",
        "\n",
        "* Los árboles de decisión pueden ser menos estables (pequeñas variaciones en los datos pueden cambiar la estructura del árbol).\n",
        "* Ridge, por su naturaleza lineal y regularizada, suele ofrecer predicciones más estables y puede ser preferible en problemas donde la estabilidad es fundamental.\n",
        "\n",
        "**Selección Final:**\n",
        "Dado el rendimiento superior del Árbol de Decisión en precisión y su capacidad para captar patrones complejos en los datos, seleccionamos el **Árbol de Decisión como el modelo final**."
      ],
      "metadata": {
        "id": "UM1IQzquNF-g"
      }
    }
  ],
  "metadata": {
    "colab": {
      "provenance": []
    },
    "kernelspec": {
      "display_name": "Python 3",
      "language": "python",
      "name": "python3"
    },
    "language_info": {
      "codemirror_mode": {
        "name": "ipython",
        "version": 3
      },
      "file_extension": ".py",
      "mimetype": "text/x-python",
      "name": "python",
      "nbconvert_exporter": "python",
      "pygments_lexer": "ipython3",
      "version": "3.12.1"
    }
  },
  "nbformat": 4,
  "nbformat_minor": 0
}